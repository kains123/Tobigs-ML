{
 "cells": [
  {
   "cell_type": "markdown",
   "metadata": {
    "id": "3w6SHm1p5yXs"
   },
   "source": [
    "# Advanced NN"
   ]
  },
  {
   "cell_type": "code",
   "execution_count": null,
   "metadata": {
    "id": "j-Q0FSR5rENI"
   },
   "outputs": [],
   "source": [
    "import numpy as np\n",
    "import pandas as pd\n",
    "import matplotlib.pyplot as plt\n",
    "\n",
    "import torch\n",
    "import torch.nn as nn\n",
    "import torch.nn.functional as F\n",
    "\n",
    "import warnings\n",
    "warnings.filterwarnings(action='ignore')\n",
    "\n",
    "data_dir = '/content/drive/MyDrive/NN심화 강의자료/'"
   ]
  },
  {
   "cell_type": "markdown",
   "metadata": {
    "id": "hGgljobEsCNS"
   },
   "source": [
    "# 데이터 확인"
   ]
  },
  {
   "cell_type": "markdown",
   "metadata": {
    "id": "MjOsDF5ctFWp"
   },
   "source": [
    "| Label | Description |\n",
    "| --- | --- |\n",
    "| 0 | T-shirt/top |\n",
    "| 1 | Trouser |\n",
    "| 2 | Pullover |\n",
    "| 3 | Dress |\n",
    "| 4 | Coat |\n",
    "| 5 | Sandal |\n",
    "| 6 | Shirt |\n",
    "| 7 | Sneaker |\n",
    "| 8 | Bag |\n",
    "| 9 | Ankle boot |\n",
    "\n",
    "데이터 출처: https://github.com/zalandoresearch/fashion-mnist"
   ]
  },
  {
   "cell_type": "code",
   "execution_count": null,
   "metadata": {
    "id": "HIXF9qR4mN8J"
   },
   "outputs": [],
   "source": [
    "Train = pd.read_csv(data_dir + 'Train.csv')\n",
    "Test = pd.read_csv(data_dir + 'Test.csv')\n",
    "submission = pd.read_csv(data_dir + 'submission.csv')"
   ]
  },
  {
   "cell_type": "code",
   "execution_count": null,
   "metadata": {
    "colab": {
     "base_uri": "https://localhost:8080/",
     "height": 251
    },
    "executionInfo": {
     "elapsed": 26,
     "status": "ok",
     "timestamp": 1629620815890,
     "user": {
      "displayName": "이성범",
      "photoUrl": "",
      "userId": "11166281350151773159"
     },
     "user_tz": -540
    },
    "id": "qzA34937ss3T",
    "outputId": "3dd94d24-fae3-4426-dc0b-49cd68ce29b7"
   },
   "outputs": [
    {
     "data": {
      "text/html": [
       "<div>\n",
       "<style scoped>\n",
       "    .dataframe tbody tr th:only-of-type {\n",
       "        vertical-align: middle;\n",
       "    }\n",
       "\n",
       "    .dataframe tbody tr th {\n",
       "        vertical-align: top;\n",
       "    }\n",
       "\n",
       "    .dataframe thead th {\n",
       "        text-align: right;\n",
       "    }\n",
       "</style>\n",
       "<table border=\"1\" class=\"dataframe\">\n",
       "  <thead>\n",
       "    <tr style=\"text-align: right;\">\n",
       "      <th></th>\n",
       "      <th>0</th>\n",
       "      <th>1</th>\n",
       "      <th>2</th>\n",
       "      <th>3</th>\n",
       "      <th>4</th>\n",
       "      <th>5</th>\n",
       "      <th>6</th>\n",
       "      <th>7</th>\n",
       "      <th>8</th>\n",
       "      <th>9</th>\n",
       "      <th>10</th>\n",
       "      <th>11</th>\n",
       "      <th>12</th>\n",
       "      <th>13</th>\n",
       "      <th>14</th>\n",
       "      <th>15</th>\n",
       "      <th>16</th>\n",
       "      <th>17</th>\n",
       "      <th>18</th>\n",
       "      <th>19</th>\n",
       "      <th>20</th>\n",
       "      <th>21</th>\n",
       "      <th>22</th>\n",
       "      <th>23</th>\n",
       "      <th>24</th>\n",
       "      <th>25</th>\n",
       "      <th>26</th>\n",
       "      <th>27</th>\n",
       "      <th>28</th>\n",
       "      <th>29</th>\n",
       "      <th>30</th>\n",
       "      <th>31</th>\n",
       "      <th>32</th>\n",
       "      <th>33</th>\n",
       "      <th>34</th>\n",
       "      <th>35</th>\n",
       "      <th>36</th>\n",
       "      <th>37</th>\n",
       "      <th>38</th>\n",
       "      <th>39</th>\n",
       "      <th>...</th>\n",
       "      <th>745</th>\n",
       "      <th>746</th>\n",
       "      <th>747</th>\n",
       "      <th>748</th>\n",
       "      <th>749</th>\n",
       "      <th>750</th>\n",
       "      <th>751</th>\n",
       "      <th>752</th>\n",
       "      <th>753</th>\n",
       "      <th>754</th>\n",
       "      <th>755</th>\n",
       "      <th>756</th>\n",
       "      <th>757</th>\n",
       "      <th>758</th>\n",
       "      <th>759</th>\n",
       "      <th>760</th>\n",
       "      <th>761</th>\n",
       "      <th>762</th>\n",
       "      <th>763</th>\n",
       "      <th>764</th>\n",
       "      <th>765</th>\n",
       "      <th>766</th>\n",
       "      <th>767</th>\n",
       "      <th>768</th>\n",
       "      <th>769</th>\n",
       "      <th>770</th>\n",
       "      <th>771</th>\n",
       "      <th>772</th>\n",
       "      <th>773</th>\n",
       "      <th>774</th>\n",
       "      <th>775</th>\n",
       "      <th>776</th>\n",
       "      <th>777</th>\n",
       "      <th>778</th>\n",
       "      <th>779</th>\n",
       "      <th>780</th>\n",
       "      <th>781</th>\n",
       "      <th>782</th>\n",
       "      <th>783</th>\n",
       "      <th>label</th>\n",
       "    </tr>\n",
       "  </thead>\n",
       "  <tbody>\n",
       "    <tr>\n",
       "      <th>0</th>\n",
       "      <td>0</td>\n",
       "      <td>0</td>\n",
       "      <td>0</td>\n",
       "      <td>0</td>\n",
       "      <td>0</td>\n",
       "      <td>0</td>\n",
       "      <td>0</td>\n",
       "      <td>0</td>\n",
       "      <td>0</td>\n",
       "      <td>0</td>\n",
       "      <td>44</td>\n",
       "      <td>168</td>\n",
       "      <td>122</td>\n",
       "      <td>133</td>\n",
       "      <td>137</td>\n",
       "      <td>134</td>\n",
       "      <td>128</td>\n",
       "      <td>145</td>\n",
       "      <td>145</td>\n",
       "      <td>0</td>\n",
       "      <td>0</td>\n",
       "      <td>0</td>\n",
       "      <td>0</td>\n",
       "      <td>0</td>\n",
       "      <td>0</td>\n",
       "      <td>0</td>\n",
       "      <td>0</td>\n",
       "      <td>0</td>\n",
       "      <td>0</td>\n",
       "      <td>0</td>\n",
       "      <td>0</td>\n",
       "      <td>0</td>\n",
       "      <td>0</td>\n",
       "      <td>0</td>\n",
       "      <td>0</td>\n",
       "      <td>0</td>\n",
       "      <td>0</td>\n",
       "      <td>0</td>\n",
       "      <td>127</td>\n",
       "      <td>255</td>\n",
       "      <td>...</td>\n",
       "      <td>255</td>\n",
       "      <td>222</td>\n",
       "      <td>0</td>\n",
       "      <td>0</td>\n",
       "      <td>0</td>\n",
       "      <td>0</td>\n",
       "      <td>0</td>\n",
       "      <td>0</td>\n",
       "      <td>0</td>\n",
       "      <td>0</td>\n",
       "      <td>0</td>\n",
       "      <td>0</td>\n",
       "      <td>0</td>\n",
       "      <td>0</td>\n",
       "      <td>0</td>\n",
       "      <td>0</td>\n",
       "      <td>0</td>\n",
       "      <td>0</td>\n",
       "      <td>0</td>\n",
       "      <td>0</td>\n",
       "      <td>3</td>\n",
       "      <td>0</td>\n",
       "      <td>0</td>\n",
       "      <td>163</td>\n",
       "      <td>106</td>\n",
       "      <td>0</td>\n",
       "      <td>0</td>\n",
       "      <td>94</td>\n",
       "      <td>164</td>\n",
       "      <td>139</td>\n",
       "      <td>0</td>\n",
       "      <td>0</td>\n",
       "      <td>0</td>\n",
       "      <td>0</td>\n",
       "      <td>0</td>\n",
       "      <td>0</td>\n",
       "      <td>0</td>\n",
       "      <td>0</td>\n",
       "      <td>0</td>\n",
       "      <td>1</td>\n",
       "    </tr>\n",
       "    <tr>\n",
       "      <th>1</th>\n",
       "      <td>0</td>\n",
       "      <td>0</td>\n",
       "      <td>0</td>\n",
       "      <td>0</td>\n",
       "      <td>0</td>\n",
       "      <td>0</td>\n",
       "      <td>0</td>\n",
       "      <td>0</td>\n",
       "      <td>0</td>\n",
       "      <td>0</td>\n",
       "      <td>100</td>\n",
       "      <td>198</td>\n",
       "      <td>119</td>\n",
       "      <td>40</td>\n",
       "      <td>0</td>\n",
       "      <td>67</td>\n",
       "      <td>147</td>\n",
       "      <td>190</td>\n",
       "      <td>102</td>\n",
       "      <td>9</td>\n",
       "      <td>0</td>\n",
       "      <td>0</td>\n",
       "      <td>0</td>\n",
       "      <td>0</td>\n",
       "      <td>0</td>\n",
       "      <td>0</td>\n",
       "      <td>0</td>\n",
       "      <td>0</td>\n",
       "      <td>0</td>\n",
       "      <td>0</td>\n",
       "      <td>0</td>\n",
       "      <td>0</td>\n",
       "      <td>0</td>\n",
       "      <td>0</td>\n",
       "      <td>0</td>\n",
       "      <td>0</td>\n",
       "      <td>0</td>\n",
       "      <td>176</td>\n",
       "      <td>162</td>\n",
       "      <td>181</td>\n",
       "      <td>...</td>\n",
       "      <td>212</td>\n",
       "      <td>244</td>\n",
       "      <td>100</td>\n",
       "      <td>0</td>\n",
       "      <td>3</td>\n",
       "      <td>0</td>\n",
       "      <td>0</td>\n",
       "      <td>0</td>\n",
       "      <td>0</td>\n",
       "      <td>0</td>\n",
       "      <td>0</td>\n",
       "      <td>0</td>\n",
       "      <td>0</td>\n",
       "      <td>0</td>\n",
       "      <td>0</td>\n",
       "      <td>0</td>\n",
       "      <td>0</td>\n",
       "      <td>0</td>\n",
       "      <td>0</td>\n",
       "      <td>0</td>\n",
       "      <td>9</td>\n",
       "      <td>185</td>\n",
       "      <td>206</td>\n",
       "      <td>194</td>\n",
       "      <td>190</td>\n",
       "      <td>188</td>\n",
       "      <td>166</td>\n",
       "      <td>161</td>\n",
       "      <td>154</td>\n",
       "      <td>169</td>\n",
       "      <td>0</td>\n",
       "      <td>0</td>\n",
       "      <td>0</td>\n",
       "      <td>0</td>\n",
       "      <td>0</td>\n",
       "      <td>0</td>\n",
       "      <td>0</td>\n",
       "      <td>0</td>\n",
       "      <td>0</td>\n",
       "      <td>3</td>\n",
       "    </tr>\n",
       "    <tr>\n",
       "      <th>2</th>\n",
       "      <td>0</td>\n",
       "      <td>0</td>\n",
       "      <td>0</td>\n",
       "      <td>0</td>\n",
       "      <td>0</td>\n",
       "      <td>0</td>\n",
       "      <td>0</td>\n",
       "      <td>0</td>\n",
       "      <td>0</td>\n",
       "      <td>0</td>\n",
       "      <td>0</td>\n",
       "      <td>0</td>\n",
       "      <td>0</td>\n",
       "      <td>0</td>\n",
       "      <td>0</td>\n",
       "      <td>0</td>\n",
       "      <td>0</td>\n",
       "      <td>0</td>\n",
       "      <td>0</td>\n",
       "      <td>0</td>\n",
       "      <td>0</td>\n",
       "      <td>0</td>\n",
       "      <td>0</td>\n",
       "      <td>0</td>\n",
       "      <td>0</td>\n",
       "      <td>0</td>\n",
       "      <td>0</td>\n",
       "      <td>0</td>\n",
       "      <td>0</td>\n",
       "      <td>0</td>\n",
       "      <td>0</td>\n",
       "      <td>0</td>\n",
       "      <td>0</td>\n",
       "      <td>0</td>\n",
       "      <td>0</td>\n",
       "      <td>0</td>\n",
       "      <td>0</td>\n",
       "      <td>0</td>\n",
       "      <td>0</td>\n",
       "      <td>0</td>\n",
       "      <td>...</td>\n",
       "      <td>0</td>\n",
       "      <td>0</td>\n",
       "      <td>0</td>\n",
       "      <td>0</td>\n",
       "      <td>0</td>\n",
       "      <td>0</td>\n",
       "      <td>0</td>\n",
       "      <td>0</td>\n",
       "      <td>0</td>\n",
       "      <td>0</td>\n",
       "      <td>0</td>\n",
       "      <td>0</td>\n",
       "      <td>0</td>\n",
       "      <td>0</td>\n",
       "      <td>0</td>\n",
       "      <td>0</td>\n",
       "      <td>0</td>\n",
       "      <td>0</td>\n",
       "      <td>0</td>\n",
       "      <td>0</td>\n",
       "      <td>0</td>\n",
       "      <td>0</td>\n",
       "      <td>0</td>\n",
       "      <td>0</td>\n",
       "      <td>0</td>\n",
       "      <td>0</td>\n",
       "      <td>0</td>\n",
       "      <td>0</td>\n",
       "      <td>0</td>\n",
       "      <td>0</td>\n",
       "      <td>0</td>\n",
       "      <td>0</td>\n",
       "      <td>0</td>\n",
       "      <td>0</td>\n",
       "      <td>0</td>\n",
       "      <td>0</td>\n",
       "      <td>0</td>\n",
       "      <td>0</td>\n",
       "      <td>0</td>\n",
       "      <td>8</td>\n",
       "    </tr>\n",
       "    <tr>\n",
       "      <th>3</th>\n",
       "      <td>0</td>\n",
       "      <td>0</td>\n",
       "      <td>0</td>\n",
       "      <td>0</td>\n",
       "      <td>0</td>\n",
       "      <td>0</td>\n",
       "      <td>0</td>\n",
       "      <td>0</td>\n",
       "      <td>0</td>\n",
       "      <td>0</td>\n",
       "      <td>0</td>\n",
       "      <td>0</td>\n",
       "      <td>0</td>\n",
       "      <td>0</td>\n",
       "      <td>0</td>\n",
       "      <td>0</td>\n",
       "      <td>0</td>\n",
       "      <td>0</td>\n",
       "      <td>0</td>\n",
       "      <td>0</td>\n",
       "      <td>0</td>\n",
       "      <td>0</td>\n",
       "      <td>0</td>\n",
       "      <td>0</td>\n",
       "      <td>0</td>\n",
       "      <td>0</td>\n",
       "      <td>0</td>\n",
       "      <td>0</td>\n",
       "      <td>0</td>\n",
       "      <td>0</td>\n",
       "      <td>0</td>\n",
       "      <td>0</td>\n",
       "      <td>0</td>\n",
       "      <td>0</td>\n",
       "      <td>0</td>\n",
       "      <td>0</td>\n",
       "      <td>0</td>\n",
       "      <td>0</td>\n",
       "      <td>0</td>\n",
       "      <td>0</td>\n",
       "      <td>...</td>\n",
       "      <td>0</td>\n",
       "      <td>0</td>\n",
       "      <td>0</td>\n",
       "      <td>0</td>\n",
       "      <td>0</td>\n",
       "      <td>0</td>\n",
       "      <td>0</td>\n",
       "      <td>0</td>\n",
       "      <td>0</td>\n",
       "      <td>0</td>\n",
       "      <td>0</td>\n",
       "      <td>0</td>\n",
       "      <td>0</td>\n",
       "      <td>0</td>\n",
       "      <td>0</td>\n",
       "      <td>0</td>\n",
       "      <td>0</td>\n",
       "      <td>0</td>\n",
       "      <td>0</td>\n",
       "      <td>0</td>\n",
       "      <td>0</td>\n",
       "      <td>0</td>\n",
       "      <td>0</td>\n",
       "      <td>0</td>\n",
       "      <td>0</td>\n",
       "      <td>0</td>\n",
       "      <td>0</td>\n",
       "      <td>0</td>\n",
       "      <td>0</td>\n",
       "      <td>0</td>\n",
       "      <td>0</td>\n",
       "      <td>0</td>\n",
       "      <td>0</td>\n",
       "      <td>0</td>\n",
       "      <td>0</td>\n",
       "      <td>0</td>\n",
       "      <td>0</td>\n",
       "      <td>0</td>\n",
       "      <td>0</td>\n",
       "      <td>7</td>\n",
       "    </tr>\n",
       "    <tr>\n",
       "      <th>4</th>\n",
       "      <td>0</td>\n",
       "      <td>0</td>\n",
       "      <td>0</td>\n",
       "      <td>0</td>\n",
       "      <td>0</td>\n",
       "      <td>0</td>\n",
       "      <td>0</td>\n",
       "      <td>0</td>\n",
       "      <td>0</td>\n",
       "      <td>0</td>\n",
       "      <td>0</td>\n",
       "      <td>0</td>\n",
       "      <td>0</td>\n",
       "      <td>0</td>\n",
       "      <td>0</td>\n",
       "      <td>0</td>\n",
       "      <td>0</td>\n",
       "      <td>0</td>\n",
       "      <td>0</td>\n",
       "      <td>0</td>\n",
       "      <td>0</td>\n",
       "      <td>0</td>\n",
       "      <td>0</td>\n",
       "      <td>0</td>\n",
       "      <td>0</td>\n",
       "      <td>0</td>\n",
       "      <td>0</td>\n",
       "      <td>0</td>\n",
       "      <td>0</td>\n",
       "      <td>0</td>\n",
       "      <td>0</td>\n",
       "      <td>0</td>\n",
       "      <td>0</td>\n",
       "      <td>0</td>\n",
       "      <td>0</td>\n",
       "      <td>0</td>\n",
       "      <td>0</td>\n",
       "      <td>0</td>\n",
       "      <td>0</td>\n",
       "      <td>0</td>\n",
       "      <td>...</td>\n",
       "      <td>0</td>\n",
       "      <td>0</td>\n",
       "      <td>0</td>\n",
       "      <td>0</td>\n",
       "      <td>0</td>\n",
       "      <td>0</td>\n",
       "      <td>0</td>\n",
       "      <td>0</td>\n",
       "      <td>0</td>\n",
       "      <td>0</td>\n",
       "      <td>0</td>\n",
       "      <td>0</td>\n",
       "      <td>0</td>\n",
       "      <td>0</td>\n",
       "      <td>0</td>\n",
       "      <td>0</td>\n",
       "      <td>0</td>\n",
       "      <td>0</td>\n",
       "      <td>0</td>\n",
       "      <td>0</td>\n",
       "      <td>0</td>\n",
       "      <td>0</td>\n",
       "      <td>0</td>\n",
       "      <td>0</td>\n",
       "      <td>0</td>\n",
       "      <td>0</td>\n",
       "      <td>0</td>\n",
       "      <td>0</td>\n",
       "      <td>0</td>\n",
       "      <td>0</td>\n",
       "      <td>0</td>\n",
       "      <td>0</td>\n",
       "      <td>0</td>\n",
       "      <td>0</td>\n",
       "      <td>0</td>\n",
       "      <td>0</td>\n",
       "      <td>0</td>\n",
       "      <td>0</td>\n",
       "      <td>0</td>\n",
       "      <td>5</td>\n",
       "    </tr>\n",
       "  </tbody>\n",
       "</table>\n",
       "<p>5 rows × 785 columns</p>\n",
       "</div>"
      ],
      "text/plain": [
       "   0  1  2  3  4  5  6  7  8  ...  776  777  778  779  780  781  782  783  label\n",
       "0  0  0  0  0  0  0  0  0  0  ...    0    0    0    0    0    0    0    0      1\n",
       "1  0  0  0  0  0  0  0  0  0  ...    0    0    0    0    0    0    0    0      3\n",
       "2  0  0  0  0  0  0  0  0  0  ...    0    0    0    0    0    0    0    0      8\n",
       "3  0  0  0  0  0  0  0  0  0  ...    0    0    0    0    0    0    0    0      7\n",
       "4  0  0  0  0  0  0  0  0  0  ...    0    0    0    0    0    0    0    0      5\n",
       "\n",
       "[5 rows x 785 columns]"
      ]
     },
     "execution_count": 6,
     "metadata": {},
     "output_type": "execute_result"
    }
   ],
   "source": [
    "Train.head()"
   ]
  },
  {
   "cell_type": "code",
   "execution_count": null,
   "metadata": {
    "colab": {
     "base_uri": "https://localhost:8080/"
    },
    "executionInfo": {
     "elapsed": 25,
     "status": "ok",
     "timestamp": 1629620815891,
     "user": {
      "displayName": "이성범",
      "photoUrl": "",
      "userId": "11166281350151773159"
     },
     "user_tz": -540
    },
    "id": "Z6cOY9xjzynQ",
    "outputId": "c1c100c3-d158-4ad7-f654-0f2a997ee5ab"
   },
   "outputs": [
    {
     "data": {
      "text/plain": [
       "10"
      ]
     },
     "execution_count": 7,
     "metadata": {},
     "output_type": "execute_result"
    }
   ],
   "source": [
    "Train['label'].nunique()"
   ]
  },
  {
   "cell_type": "code",
   "execution_count": null,
   "metadata": {
    "colab": {
     "base_uri": "https://localhost:8080/",
     "height": 251
    },
    "executionInfo": {
     "elapsed": 23,
     "status": "ok",
     "timestamp": 1629620815892,
     "user": {
      "displayName": "이성범",
      "photoUrl": "",
      "userId": "11166281350151773159"
     },
     "user_tz": -540
    },
    "id": "52VNSOWNsuor",
    "outputId": "ad6146f8-3659-4d3b-b731-f5b925f52070"
   },
   "outputs": [
    {
     "data": {
      "text/html": [
       "<div>\n",
       "<style scoped>\n",
       "    .dataframe tbody tr th:only-of-type {\n",
       "        vertical-align: middle;\n",
       "    }\n",
       "\n",
       "    .dataframe tbody tr th {\n",
       "        vertical-align: top;\n",
       "    }\n",
       "\n",
       "    .dataframe thead th {\n",
       "        text-align: right;\n",
       "    }\n",
       "</style>\n",
       "<table border=\"1\" class=\"dataframe\">\n",
       "  <thead>\n",
       "    <tr style=\"text-align: right;\">\n",
       "      <th></th>\n",
       "      <th>0</th>\n",
       "      <th>1</th>\n",
       "      <th>2</th>\n",
       "      <th>3</th>\n",
       "      <th>4</th>\n",
       "      <th>5</th>\n",
       "      <th>6</th>\n",
       "      <th>7</th>\n",
       "      <th>8</th>\n",
       "      <th>9</th>\n",
       "      <th>10</th>\n",
       "      <th>11</th>\n",
       "      <th>12</th>\n",
       "      <th>13</th>\n",
       "      <th>14</th>\n",
       "      <th>15</th>\n",
       "      <th>16</th>\n",
       "      <th>17</th>\n",
       "      <th>18</th>\n",
       "      <th>19</th>\n",
       "      <th>20</th>\n",
       "      <th>21</th>\n",
       "      <th>22</th>\n",
       "      <th>23</th>\n",
       "      <th>24</th>\n",
       "      <th>25</th>\n",
       "      <th>26</th>\n",
       "      <th>27</th>\n",
       "      <th>28</th>\n",
       "      <th>29</th>\n",
       "      <th>30</th>\n",
       "      <th>31</th>\n",
       "      <th>32</th>\n",
       "      <th>33</th>\n",
       "      <th>34</th>\n",
       "      <th>35</th>\n",
       "      <th>36</th>\n",
       "      <th>37</th>\n",
       "      <th>38</th>\n",
       "      <th>39</th>\n",
       "      <th>...</th>\n",
       "      <th>744</th>\n",
       "      <th>745</th>\n",
       "      <th>746</th>\n",
       "      <th>747</th>\n",
       "      <th>748</th>\n",
       "      <th>749</th>\n",
       "      <th>750</th>\n",
       "      <th>751</th>\n",
       "      <th>752</th>\n",
       "      <th>753</th>\n",
       "      <th>754</th>\n",
       "      <th>755</th>\n",
       "      <th>756</th>\n",
       "      <th>757</th>\n",
       "      <th>758</th>\n",
       "      <th>759</th>\n",
       "      <th>760</th>\n",
       "      <th>761</th>\n",
       "      <th>762</th>\n",
       "      <th>763</th>\n",
       "      <th>764</th>\n",
       "      <th>765</th>\n",
       "      <th>766</th>\n",
       "      <th>767</th>\n",
       "      <th>768</th>\n",
       "      <th>769</th>\n",
       "      <th>770</th>\n",
       "      <th>771</th>\n",
       "      <th>772</th>\n",
       "      <th>773</th>\n",
       "      <th>774</th>\n",
       "      <th>775</th>\n",
       "      <th>776</th>\n",
       "      <th>777</th>\n",
       "      <th>778</th>\n",
       "      <th>779</th>\n",
       "      <th>780</th>\n",
       "      <th>781</th>\n",
       "      <th>782</th>\n",
       "      <th>783</th>\n",
       "    </tr>\n",
       "  </thead>\n",
       "  <tbody>\n",
       "    <tr>\n",
       "      <th>0</th>\n",
       "      <td>0</td>\n",
       "      <td>0</td>\n",
       "      <td>0</td>\n",
       "      <td>0</td>\n",
       "      <td>0</td>\n",
       "      <td>0</td>\n",
       "      <td>0</td>\n",
       "      <td>0</td>\n",
       "      <td>0</td>\n",
       "      <td>0</td>\n",
       "      <td>0</td>\n",
       "      <td>0</td>\n",
       "      <td>42</td>\n",
       "      <td>0</td>\n",
       "      <td>0</td>\n",
       "      <td>8</td>\n",
       "      <td>5</td>\n",
       "      <td>0</td>\n",
       "      <td>0</td>\n",
       "      <td>0</td>\n",
       "      <td>0</td>\n",
       "      <td>0</td>\n",
       "      <td>0</td>\n",
       "      <td>0</td>\n",
       "      <td>0</td>\n",
       "      <td>0</td>\n",
       "      <td>0</td>\n",
       "      <td>0</td>\n",
       "      <td>0</td>\n",
       "      <td>0</td>\n",
       "      <td>0</td>\n",
       "      <td>0</td>\n",
       "      <td>0</td>\n",
       "      <td>0</td>\n",
       "      <td>0</td>\n",
       "      <td>2</td>\n",
       "      <td>0</td>\n",
       "      <td>0</td>\n",
       "      <td>0</td>\n",
       "      <td>8</td>\n",
       "      <td>...</td>\n",
       "      <td>142</td>\n",
       "      <td>155</td>\n",
       "      <td>161</td>\n",
       "      <td>158</td>\n",
       "      <td>0</td>\n",
       "      <td>0</td>\n",
       "      <td>64</td>\n",
       "      <td>59</td>\n",
       "      <td>0</td>\n",
       "      <td>0</td>\n",
       "      <td>0</td>\n",
       "      <td>0</td>\n",
       "      <td>0</td>\n",
       "      <td>0</td>\n",
       "      <td>0</td>\n",
       "      <td>0</td>\n",
       "      <td>0</td>\n",
       "      <td>0</td>\n",
       "      <td>0</td>\n",
       "      <td>0</td>\n",
       "      <td>0</td>\n",
       "      <td>0</td>\n",
       "      <td>37</td>\n",
       "      <td>110</td>\n",
       "      <td>120</td>\n",
       "      <td>115</td>\n",
       "      <td>134</td>\n",
       "      <td>136</td>\n",
       "      <td>136</td>\n",
       "      <td>123</td>\n",
       "      <td>67</td>\n",
       "      <td>0</td>\n",
       "      <td>0</td>\n",
       "      <td>0</td>\n",
       "      <td>0</td>\n",
       "      <td>0</td>\n",
       "      <td>0</td>\n",
       "      <td>0</td>\n",
       "      <td>0</td>\n",
       "      <td>0</td>\n",
       "    </tr>\n",
       "    <tr>\n",
       "      <th>1</th>\n",
       "      <td>0</td>\n",
       "      <td>0</td>\n",
       "      <td>0</td>\n",
       "      <td>0</td>\n",
       "      <td>0</td>\n",
       "      <td>0</td>\n",
       "      <td>0</td>\n",
       "      <td>1</td>\n",
       "      <td>2</td>\n",
       "      <td>0</td>\n",
       "      <td>0</td>\n",
       "      <td>13</td>\n",
       "      <td>13</td>\n",
       "      <td>0</td>\n",
       "      <td>6</td>\n",
       "      <td>73</td>\n",
       "      <td>13</td>\n",
       "      <td>0</td>\n",
       "      <td>0</td>\n",
       "      <td>2</td>\n",
       "      <td>2</td>\n",
       "      <td>2</td>\n",
       "      <td>1</td>\n",
       "      <td>0</td>\n",
       "      <td>0</td>\n",
       "      <td>0</td>\n",
       "      <td>0</td>\n",
       "      <td>0</td>\n",
       "      <td>0</td>\n",
       "      <td>0</td>\n",
       "      <td>0</td>\n",
       "      <td>0</td>\n",
       "      <td>0</td>\n",
       "      <td>2</td>\n",
       "      <td>1</td>\n",
       "      <td>0</td>\n",
       "      <td>0</td>\n",
       "      <td>1</td>\n",
       "      <td>14</td>\n",
       "      <td>8</td>\n",
       "      <td>...</td>\n",
       "      <td>174</td>\n",
       "      <td>165</td>\n",
       "      <td>118</td>\n",
       "      <td>4</td>\n",
       "      <td>0</td>\n",
       "      <td>1</td>\n",
       "      <td>0</td>\n",
       "      <td>0</td>\n",
       "      <td>0</td>\n",
       "      <td>0</td>\n",
       "      <td>0</td>\n",
       "      <td>0</td>\n",
       "      <td>0</td>\n",
       "      <td>0</td>\n",
       "      <td>0</td>\n",
       "      <td>0</td>\n",
       "      <td>0</td>\n",
       "      <td>0</td>\n",
       "      <td>0</td>\n",
       "      <td>0</td>\n",
       "      <td>0</td>\n",
       "      <td>0</td>\n",
       "      <td>0</td>\n",
       "      <td>0</td>\n",
       "      <td>47</td>\n",
       "      <td>80</td>\n",
       "      <td>46</td>\n",
       "      <td>24</td>\n",
       "      <td>9</td>\n",
       "      <td>1</td>\n",
       "      <td>0</td>\n",
       "      <td>0</td>\n",
       "      <td>1</td>\n",
       "      <td>0</td>\n",
       "      <td>0</td>\n",
       "      <td>0</td>\n",
       "      <td>0</td>\n",
       "      <td>0</td>\n",
       "      <td>0</td>\n",
       "      <td>0</td>\n",
       "    </tr>\n",
       "    <tr>\n",
       "      <th>2</th>\n",
       "      <td>0</td>\n",
       "      <td>0</td>\n",
       "      <td>0</td>\n",
       "      <td>0</td>\n",
       "      <td>0</td>\n",
       "      <td>0</td>\n",
       "      <td>0</td>\n",
       "      <td>0</td>\n",
       "      <td>0</td>\n",
       "      <td>0</td>\n",
       "      <td>0</td>\n",
       "      <td>24</td>\n",
       "      <td>154</td>\n",
       "      <td>138</td>\n",
       "      <td>117</td>\n",
       "      <td>147</td>\n",
       "      <td>255</td>\n",
       "      <td>28</td>\n",
       "      <td>0</td>\n",
       "      <td>1</td>\n",
       "      <td>0</td>\n",
       "      <td>0</td>\n",
       "      <td>0</td>\n",
       "      <td>0</td>\n",
       "      <td>0</td>\n",
       "      <td>0</td>\n",
       "      <td>0</td>\n",
       "      <td>0</td>\n",
       "      <td>0</td>\n",
       "      <td>0</td>\n",
       "      <td>0</td>\n",
       "      <td>0</td>\n",
       "      <td>0</td>\n",
       "      <td>0</td>\n",
       "      <td>0</td>\n",
       "      <td>7</td>\n",
       "      <td>27</td>\n",
       "      <td>43</td>\n",
       "      <td>48</td>\n",
       "      <td>31</td>\n",
       "      <td>...</td>\n",
       "      <td>94</td>\n",
       "      <td>84</td>\n",
       "      <td>51</td>\n",
       "      <td>46</td>\n",
       "      <td>84</td>\n",
       "      <td>52</td>\n",
       "      <td>0</td>\n",
       "      <td>0</td>\n",
       "      <td>0</td>\n",
       "      <td>0</td>\n",
       "      <td>0</td>\n",
       "      <td>0</td>\n",
       "      <td>0</td>\n",
       "      <td>0</td>\n",
       "      <td>0</td>\n",
       "      <td>0</td>\n",
       "      <td>0</td>\n",
       "      <td>0</td>\n",
       "      <td>0</td>\n",
       "      <td>97</td>\n",
       "      <td>177</td>\n",
       "      <td>157</td>\n",
       "      <td>96</td>\n",
       "      <td>79</td>\n",
       "      <td>87</td>\n",
       "      <td>99</td>\n",
       "      <td>85</td>\n",
       "      <td>100</td>\n",
       "      <td>100</td>\n",
       "      <td>114</td>\n",
       "      <td>93</td>\n",
       "      <td>58</td>\n",
       "      <td>78</td>\n",
       "      <td>45</td>\n",
       "      <td>0</td>\n",
       "      <td>0</td>\n",
       "      <td>0</td>\n",
       "      <td>0</td>\n",
       "      <td>0</td>\n",
       "      <td>0</td>\n",
       "    </tr>\n",
       "    <tr>\n",
       "      <th>3</th>\n",
       "      <td>0</td>\n",
       "      <td>0</td>\n",
       "      <td>0</td>\n",
       "      <td>0</td>\n",
       "      <td>0</td>\n",
       "      <td>0</td>\n",
       "      <td>0</td>\n",
       "      <td>0</td>\n",
       "      <td>0</td>\n",
       "      <td>0</td>\n",
       "      <td>0</td>\n",
       "      <td>0</td>\n",
       "      <td>83</td>\n",
       "      <td>128</td>\n",
       "      <td>117</td>\n",
       "      <td>109</td>\n",
       "      <td>51</td>\n",
       "      <td>0</td>\n",
       "      <td>0</td>\n",
       "      <td>0</td>\n",
       "      <td>0</td>\n",
       "      <td>0</td>\n",
       "      <td>0</td>\n",
       "      <td>0</td>\n",
       "      <td>0</td>\n",
       "      <td>0</td>\n",
       "      <td>0</td>\n",
       "      <td>0</td>\n",
       "      <td>0</td>\n",
       "      <td>0</td>\n",
       "      <td>0</td>\n",
       "      <td>0</td>\n",
       "      <td>0</td>\n",
       "      <td>0</td>\n",
       "      <td>0</td>\n",
       "      <td>1</td>\n",
       "      <td>0</td>\n",
       "      <td>0</td>\n",
       "      <td>0</td>\n",
       "      <td>100</td>\n",
       "      <td>...</td>\n",
       "      <td>194</td>\n",
       "      <td>197</td>\n",
       "      <td>206</td>\n",
       "      <td>24</td>\n",
       "      <td>113</td>\n",
       "      <td>10</td>\n",
       "      <td>0</td>\n",
       "      <td>2</td>\n",
       "      <td>0</td>\n",
       "      <td>0</td>\n",
       "      <td>0</td>\n",
       "      <td>0</td>\n",
       "      <td>0</td>\n",
       "      <td>0</td>\n",
       "      <td>0</td>\n",
       "      <td>0</td>\n",
       "      <td>0</td>\n",
       "      <td>0</td>\n",
       "      <td>0</td>\n",
       "      <td>0</td>\n",
       "      <td>0</td>\n",
       "      <td>0</td>\n",
       "      <td>57</td>\n",
       "      <td>86</td>\n",
       "      <td>85</td>\n",
       "      <td>115</td>\n",
       "      <td>96</td>\n",
       "      <td>107</td>\n",
       "      <td>110</td>\n",
       "      <td>98</td>\n",
       "      <td>71</td>\n",
       "      <td>0</td>\n",
       "      <td>0</td>\n",
       "      <td>0</td>\n",
       "      <td>0</td>\n",
       "      <td>0</td>\n",
       "      <td>0</td>\n",
       "      <td>0</td>\n",
       "      <td>0</td>\n",
       "      <td>0</td>\n",
       "    </tr>\n",
       "    <tr>\n",
       "      <th>4</th>\n",
       "      <td>0</td>\n",
       "      <td>0</td>\n",
       "      <td>0</td>\n",
       "      <td>0</td>\n",
       "      <td>0</td>\n",
       "      <td>0</td>\n",
       "      <td>0</td>\n",
       "      <td>0</td>\n",
       "      <td>0</td>\n",
       "      <td>0</td>\n",
       "      <td>57</td>\n",
       "      <td>0</td>\n",
       "      <td>0</td>\n",
       "      <td>0</td>\n",
       "      <td>0</td>\n",
       "      <td>0</td>\n",
       "      <td>48</td>\n",
       "      <td>16</td>\n",
       "      <td>0</td>\n",
       "      <td>2</td>\n",
       "      <td>0</td>\n",
       "      <td>0</td>\n",
       "      <td>0</td>\n",
       "      <td>0</td>\n",
       "      <td>0</td>\n",
       "      <td>0</td>\n",
       "      <td>0</td>\n",
       "      <td>0</td>\n",
       "      <td>0</td>\n",
       "      <td>0</td>\n",
       "      <td>0</td>\n",
       "      <td>0</td>\n",
       "      <td>0</td>\n",
       "      <td>0</td>\n",
       "      <td>0</td>\n",
       "      <td>1</td>\n",
       "      <td>0</td>\n",
       "      <td>0</td>\n",
       "      <td>157</td>\n",
       "      <td>117</td>\n",
       "      <td>...</td>\n",
       "      <td>0</td>\n",
       "      <td>1</td>\n",
       "      <td>0</td>\n",
       "      <td>18</td>\n",
       "      <td>223</td>\n",
       "      <td>5</td>\n",
       "      <td>0</td>\n",
       "      <td>0</td>\n",
       "      <td>0</td>\n",
       "      <td>0</td>\n",
       "      <td>0</td>\n",
       "      <td>0</td>\n",
       "      <td>0</td>\n",
       "      <td>0</td>\n",
       "      <td>0</td>\n",
       "      <td>0</td>\n",
       "      <td>0</td>\n",
       "      <td>0</td>\n",
       "      <td>45</td>\n",
       "      <td>44</td>\n",
       "      <td>0</td>\n",
       "      <td>5</td>\n",
       "      <td>0</td>\n",
       "      <td>0</td>\n",
       "      <td>0</td>\n",
       "      <td>0</td>\n",
       "      <td>0</td>\n",
       "      <td>0</td>\n",
       "      <td>0</td>\n",
       "      <td>1</td>\n",
       "      <td>0</td>\n",
       "      <td>0</td>\n",
       "      <td>63</td>\n",
       "      <td>0</td>\n",
       "      <td>0</td>\n",
       "      <td>0</td>\n",
       "      <td>0</td>\n",
       "      <td>0</td>\n",
       "      <td>0</td>\n",
       "      <td>0</td>\n",
       "    </tr>\n",
       "  </tbody>\n",
       "</table>\n",
       "<p>5 rows × 784 columns</p>\n",
       "</div>"
      ],
      "text/plain": [
       "   0  1  2  3  4  5  6  7  8  ...  775  776  777  778  779  780  781  782  783\n",
       "0  0  0  0  0  0  0  0  0  0  ...    0    0    0    0    0    0    0    0    0\n",
       "1  0  0  0  0  0  0  0  1  2  ...    0    1    0    0    0    0    0    0    0\n",
       "2  0  0  0  0  0  0  0  0  0  ...   58   78   45    0    0    0    0    0    0\n",
       "3  0  0  0  0  0  0  0  0  0  ...    0    0    0    0    0    0    0    0    0\n",
       "4  0  0  0  0  0  0  0  0  0  ...    0   63    0    0    0    0    0    0    0\n",
       "\n",
       "[5 rows x 784 columns]"
      ]
     },
     "execution_count": 8,
     "metadata": {},
     "output_type": "execute_result"
    }
   ],
   "source": [
    "Test.head()"
   ]
  },
  {
   "cell_type": "code",
   "execution_count": null,
   "metadata": {
    "colab": {
     "base_uri": "https://localhost:8080/",
     "height": 202
    },
    "executionInfo": {
     "elapsed": 22,
     "status": "ok",
     "timestamp": 1629620815892,
     "user": {
      "displayName": "이성범",
      "photoUrl": "",
      "userId": "11166281350151773159"
     },
     "user_tz": -540
    },
    "id": "ARoY6t1Hsv2i",
    "outputId": "376621a9-ae03-40fa-b10d-658ee47202be"
   },
   "outputs": [
    {
     "data": {
      "text/html": [
       "<div>\n",
       "<style scoped>\n",
       "    .dataframe tbody tr th:only-of-type {\n",
       "        vertical-align: middle;\n",
       "    }\n",
       "\n",
       "    .dataframe tbody tr th {\n",
       "        vertical-align: top;\n",
       "    }\n",
       "\n",
       "    .dataframe thead th {\n",
       "        text-align: right;\n",
       "    }\n",
       "</style>\n",
       "<table border=\"1\" class=\"dataframe\">\n",
       "  <thead>\n",
       "    <tr style=\"text-align: right;\">\n",
       "      <th></th>\n",
       "      <th>id</th>\n",
       "      <th>label</th>\n",
       "    </tr>\n",
       "  </thead>\n",
       "  <tbody>\n",
       "    <tr>\n",
       "      <th>0</th>\n",
       "      <td>0</td>\n",
       "      <td>0</td>\n",
       "    </tr>\n",
       "    <tr>\n",
       "      <th>1</th>\n",
       "      <td>1</td>\n",
       "      <td>0</td>\n",
       "    </tr>\n",
       "    <tr>\n",
       "      <th>2</th>\n",
       "      <td>2</td>\n",
       "      <td>0</td>\n",
       "    </tr>\n",
       "    <tr>\n",
       "      <th>3</th>\n",
       "      <td>3</td>\n",
       "      <td>0</td>\n",
       "    </tr>\n",
       "    <tr>\n",
       "      <th>4</th>\n",
       "      <td>4</td>\n",
       "      <td>0</td>\n",
       "    </tr>\n",
       "  </tbody>\n",
       "</table>\n",
       "</div>"
      ],
      "text/plain": [
       "   id  label\n",
       "0   0      0\n",
       "1   1      0\n",
       "2   2      0\n",
       "3   3      0\n",
       "4   4      0"
      ]
     },
     "execution_count": 9,
     "metadata": {},
     "output_type": "execute_result"
    }
   ],
   "source": [
    "submission.head()"
   ]
  },
  {
   "cell_type": "code",
   "execution_count": null,
   "metadata": {
    "id": "26AwQFvemYxx"
   },
   "outputs": [],
   "source": [
    "X = Train.iloc[:, :-1].values\n",
    "y = Train.iloc[:, -1].values"
   ]
  },
  {
   "cell_type": "code",
   "execution_count": null,
   "metadata": {
    "colab": {
     "base_uri": "https://localhost:8080/",
     "height": 93
    },
    "executionInfo": {
     "elapsed": 1389,
     "status": "ok",
     "timestamp": 1629620817260,
     "user": {
      "displayName": "이성범",
      "photoUrl": "",
      "userId": "11166281350151773159"
     },
     "user_tz": -540
    },
    "id": "kg63u1Fwjfi6",
    "outputId": "22e347b0-521d-468d-bb01-e25c68301614"
   },
   "outputs": [
    {
     "data": {
      "image/png": "[encoded data removed]",
      "text/plain": [
       "<Figure size 1440x72 with 20 Axes>"
      ]
     },
     "metadata": {
      "needs_background": "light"
     },
     "output_type": "display_data"
    }
   ],
   "source": [
    "pltsize = 1\n",
    "plt.figure(figsize=(20 * pltsize, pltsize))\n",
    "for idx in range(0, 20):\n",
    "  plt.subplot(1, 20, idx + 1)\n",
    "  plt.axis('off')\n",
    "  plt.imshow(X[idx].reshape(28, 28), cmap='gray_r')\n",
    "  plt.title(f'Class : {y[idx]}')"
   ]
  },
  {
   "cell_type": "code",
   "execution_count": null,
   "metadata": {
    "id": "1MLqSq7utSGD"
   },
   "outputs": [],
   "source": [
    "X_test = Test.values"
   ]
  },
  {
   "cell_type": "code",
   "execution_count": null,
   "metadata": {
    "colab": {
     "base_uri": "https://localhost:8080/",
     "height": 78
    },
    "executionInfo": {
     "elapsed": 733,
     "status": "ok",
     "timestamp": 1629620817990,
     "user": {
      "displayName": "이성범",
      "photoUrl": "",
      "userId": "11166281350151773159"
     },
     "user_tz": -540
    },
    "id": "pzLOHRjvtYaD",
    "outputId": "8d9899c7-bc0e-49d0-d455-6a604239b9d7"
   },
   "outputs": [
    {
     "data": {
      "image/png": "[encoded data removed]",
      "text/plain": [
       "<Figure size 1440x72 with 20 Axes>"
      ]
     },
     "metadata": {
      "needs_background": "light"
     },
     "output_type": "display_data"
    }
   ],
   "source": [
    "pltsize = 1\n",
    "plt.figure(figsize=(20 * pltsize, pltsize))\n",
    "for idx in range(0, 20):\n",
    "  plt.subplot(1, 20, idx + 1)\n",
    "  plt.axis('off')\n",
    "  plt.imshow(X_test[idx].reshape(28, 28), cmap='gray_r')"
   ]
  },
  {
   "cell_type": "markdown",
   "metadata": {
    "id": "iSnwe75AsEPa"
   },
   "source": [
    "# 데이터 분리"
   ]
  },
  {
   "cell_type": "code",
   "execution_count": null,
   "metadata": {
    "id": "73ttBq_osFM0"
   },
   "outputs": [],
   "source": [
    "from sklearn.model_selection import train_test_split\n",
    "\n",
    "X_train, X_val, y_train, y_val = train_test_split(X, y, test_size = 0.2, random_state = 16, stratify = y, shuffle = True)\n",
    "\n",
    "# 정규화\n",
    "X_train = X_train / 255.0\n",
    "X_val = X_val / 255.0\n",
    "X_test = X_test / 255.0\n",
    "\n",
    "X_train = torch.FloatTensor(X_train)\n",
    "y_train = torch.LongTensor(y_train)\n",
    "\n",
    "X_val = torch.FloatTensor(X_val)\n",
    "y_val = torch.LongTensor(y_val)\n",
    "\n",
    "X_test = torch.FloatTensor(X_test)"
   ]
  },
  {
   "cell_type": "markdown",
   "metadata": {
    "id": "pWfHesQguKjT"
   },
   "source": [
    "# 함수 및 환경 설정"
   ]
  },
  {
   "cell_type": "code",
   "execution_count": null,
   "metadata": {
    "colab": {
     "base_uri": "https://localhost:8080/"
    },
    "executionInfo": {
     "elapsed": 7,
     "status": "ok",
     "timestamp": 1629620819639,
     "user": {
      "displayName": "이성범",
      "photoUrl": "",
      "userId": "11166281350151773159"
     },
     "user_tz": -540
    },
    "id": "2wS5oudTu0Tt",
    "outputId": "6f94f977-86f8-4b42-ce35-c50bb0c8e103"
   },
   "outputs": [
    {
     "name": "stdout",
     "output_type": "stream",
     "text": [
      "cpu\n"
     ]
    }
   ],
   "source": [
    "if torch.cuda.is_available():\n",
    "  DEVICE = torch.device('cuda')\n",
    "else:\n",
    "  DEVICE = torch.device('cpu')\n",
    "\n",
    "print(DEVICE)"
   ]
  },
  {
   "cell_type": "code",
   "execution_count": null,
   "metadata": {
    "id": "03C79ihXu820"
   },
   "outputs": [],
   "source": [
    "BATCH_SIZE = 128\n",
    "EPOCHS = 15"
   ]
  },
  {
   "cell_type": "code",
   "execution_count": null,
   "metadata": {
    "id": "UmyrqG90u_58"
   },
   "outputs": [],
   "source": [
    "from torch.utils.data import Dataset\n",
    "from torch.utils.data import DataLoader\n",
    "\n",
    "class DataSet(Dataset):\n",
    "  def __init__(self, image, label = None):\n",
    "    super(DataSet, self).__init__()\n",
    "    self._image = image\n",
    "    self._label = label\n",
    "\n",
    "  def __len__(self):\n",
    "    return len(self._image)\n",
    "\n",
    "  def __getitem__(self, idx):\n",
    "    if self._label is None:\n",
    "      image = self._image[idx]\n",
    "      return image\n",
    "\n",
    "    else:\n",
    "      image = self._image[idx]\n",
    "      label = self._label[idx]\n",
    "\n",
    "      return image, label"
   ]
  },
  {
   "cell_type": "code",
   "execution_count": null,
   "metadata": {
    "id": "tuuZXiJDuMqc"
   },
   "outputs": [],
   "source": [
    "train_dataset = DataSet(X_train, y_train)\n",
    "train_loader = DataLoader(train_dataset, batch_size = BATCH_SIZE, shuffle = True, drop_last = False)\n",
    "\n",
    "val_dataset = DataSet(X_val, y_val)\n",
    "val_loader = DataLoader(val_dataset, batch_size = BATCH_SIZE, shuffle = True, drop_last = False)\n",
    "\n",
    "test_dataset = DataSet(X_test)\n",
    "test_loader = DataLoader(test_dataset, batch_size = BATCH_SIZE, shuffle = False, drop_last = False)"
   ]
  },
  {
   "cell_type": "code",
   "execution_count": null,
   "metadata": {
    "id": "sAnZsabswlok"
   },
   "outputs": [],
   "source": [
    "def train(model, train_loader):\n",
    "  model.train()\n",
    "  train_loss = 0\n",
    "  correct = 0\n",
    "\n",
    "  for image, label in train_loader:\n",
    "    image = image.to(DEVICE)\n",
    "    label = label.to(DEVICE)\n",
    "    optimizer.zero_grad()\n",
    "    output = model(image)\n",
    "    loss = criterion(output, label)\n",
    "    loss.backward()\n",
    "    optimizer.step()\n",
    "\n",
    "    train_loss += loss.item()\n",
    "    prediction = output.max(1, keepdim = True)[1]\n",
    "    correct += prediction.eq(label.view_as(prediction)).sum().item()\n",
    "      \n",
    "  train_loss /= len(train_loader)\n",
    "  train_accuracy = 100. * correct / len(train_loader.dataset)\n",
    "  return train_loss, train_accuracy"
   ]
  },
  {
   "cell_type": "code",
   "execution_count": null,
   "metadata": {
    "id": "LBIYXA74qFgT"
   },
   "outputs": [],
   "source": [
    "def evaluate(model, test_loader):\n",
    "  model.eval()\n",
    "  test_loss = 0\n",
    "  correct = 0\n",
    "\n",
    "  with torch.no_grad():\n",
    "    for image, label in test_loader:\n",
    "      image = image.to(DEVICE)\n",
    "      label = label.to(DEVICE)\n",
    "      output = model(image)\n",
    "      test_loss += criterion(output, label).item()\n",
    "      prediction = output.max(1, keepdim = True)[1]\n",
    "      correct += prediction.eq(label.view_as(prediction)).sum().item()\n",
    "\n",
    "  test_loss /= len(test_loader)\n",
    "  test_accuracy = 100. * correct / len(test_loader.dataset)\n",
    "  return test_loss, test_accuracy"
   ]
  },
  {
   "cell_type": "code",
   "execution_count": null,
   "metadata": {
    "id": "VvCzzZrVw2wM"
   },
   "outputs": [],
   "source": [
    "def pred(model, test_loader):\n",
    "  model.eval()\n",
    "  pred_li = []\n",
    "\n",
    "  with torch.no_grad():\n",
    "    for image in test_loader:\n",
    "      image = image.to(DEVICE)\n",
    "      output = model(image)\n",
    "      pred_li.append(output.cpu().numpy().argmax(axis=1))\n",
    "\n",
    "  return np.concatenate(pred_li)"
   ]
  },
  {
   "cell_type": "markdown",
   "metadata": {
    "id": "IViKDmlGsFoq"
   },
   "source": [
    "# Simple_DNN"
   ]
  },
  {
   "cell_type": "code",
   "execution_count": null,
   "metadata": {
    "id": "68FFyZ7EsIi6"
   },
   "outputs": [],
   "source": [
    "class Net(nn.Module):\n",
    "  def __init__(self):\n",
    "    super(Net, self).__init__()\n",
    "    self.linear1 = nn.Sequential(\n",
    "        nn.Linear(28 * 28, 512)\n",
    "    )\n",
    "    self.linear2 = nn.Sequential(\n",
    "        nn.Linear(512, 256)\n",
    "    )\n",
    "    self.linear3 = nn.Sequential(\n",
    "        nn.Linear(256, 128)\n",
    "    )\n",
    "    self.linear4 = nn.Sequential(\n",
    "        nn.Linear(128, 10)\n",
    "    )\n",
    "\n",
    "  def forward(self, x):\n",
    "    x = x.view(-1, 28 * 28)\n",
    "    x = self.linear1(x)\n",
    "    x = self.linear2(x)\n",
    "    x = self.linear3(x)\n",
    "    x = self.linear4(x)\n",
    "    return x"
   ]
  },
  {
   "cell_type": "code",
   "execution_count": null,
   "metadata": {
    "colab": {
     "base_uri": "https://localhost:8080/"
    },
    "executionInfo": {
     "elapsed": 9,
     "status": "ok",
     "timestamp": 1629618670725,
     "user": {
      "displayName": "이성범",
      "photoUrl": "",
      "userId": "11166281350151773159"
     },
     "user_tz": -540
    },
    "id": "2v1DTo3NsIi-",
    "outputId": "0c4d34c0-a0d0-4fb9-fee2-00b11a2c3838"
   },
   "outputs": [
    {
     "name": "stdout",
     "output_type": "stream",
     "text": [
      "Net(\n",
      "  (linear1): Sequential(\n",
      "    (0): Linear(in_features=784, out_features=512, bias=True)\n",
      "  )\n",
      "  (linear2): Sequential(\n",
      "    (0): Linear(in_features=512, out_features=256, bias=True)\n",
      "  )\n",
      "  (linear3): Sequential(\n",
      "    (0): Linear(in_features=256, out_features=128, bias=True)\n",
      "  )\n",
      "  (linear4): Sequential(\n",
      "    (0): Linear(in_features=128, out_features=10, bias=True)\n",
      "  )\n",
      ")\n"
     ]
    }
   ],
   "source": [
    "model = Net().to(DEVICE)\n",
    "optimizer = torch.optim.SGD(model.parameters(), lr = 0.01, momentum = 0.5)\n",
    "criterion = nn.CrossEntropyLoss()\n",
    "\n",
    "print(model)"
   ]
  },
  {
   "cell_type": "code",
   "execution_count": null,
   "metadata": {
    "colab": {
     "base_uri": "https://localhost:8080/"
    },
    "executionInfo": {
     "elapsed": 58781,
     "status": "ok",
     "timestamp": 1629618729501,
     "user": {
      "displayName": "이성범",
      "photoUrl": "",
      "userId": "11166281350151773159"
     },
     "user_tz": -540
    },
    "id": "wVCYBe16sYka",
    "outputId": "06438aba-4dc7-4c7d-bfc4-e479733941df"
   },
   "outputs": [
    {
     "name": "stdout",
     "output_type": "stream",
     "text": [
      "[EPOCH: 1], \tTrain Loss: 1.3255, \tTrain Accuracy: 57.03 %, \tVal Loss: 0.8147, \tVal Accuracy: 69.37 % \n",
      "\n",
      "[EPOCH: 2], \tTrain Loss: 0.7146, \tTrain Accuracy: 73.83 %, \tVal Loss: 0.6427, \tVal Accuracy: 77.01 % \n",
      "\n",
      "[EPOCH: 3], \tTrain Loss: 0.6003, \tTrain Accuracy: 78.72 %, \tVal Loss: 0.5542, \tVal Accuracy: 80.32 % \n",
      "\n",
      "[EPOCH: 4], \tTrain Loss: 0.5401, \tTrain Accuracy: 81.25 %, \tVal Loss: 0.5189, \tVal Accuracy: 81.71 % \n",
      "\n",
      "[EPOCH: 5], \tTrain Loss: 0.5090, \tTrain Accuracy: 82.20 %, \tVal Loss: 0.5009, \tVal Accuracy: 82.68 % \n",
      "\n",
      "[EPOCH: 6], \tTrain Loss: 0.4904, \tTrain Accuracy: 82.70 %, \tVal Loss: 0.4808, \tVal Accuracy: 82.95 % \n",
      "\n",
      "[EPOCH: 7], \tTrain Loss: 0.4780, \tTrain Accuracy: 83.21 %, \tVal Loss: 0.4940, \tVal Accuracy: 82.13 % \n",
      "\n",
      "[EPOCH: 8], \tTrain Loss: 0.4678, \tTrain Accuracy: 83.64 %, \tVal Loss: 0.4552, \tVal Accuracy: 83.87 % \n",
      "\n",
      "[EPOCH: 9], \tTrain Loss: 0.4595, \tTrain Accuracy: 84.07 %, \tVal Loss: 0.4516, \tVal Accuracy: 84.06 % \n",
      "\n",
      "[EPOCH: 10], \tTrain Loss: 0.4524, \tTrain Accuracy: 84.16 %, \tVal Loss: 0.4476, \tVal Accuracy: 84.27 % \n",
      "\n",
      "[EPOCH: 11], \tTrain Loss: 0.4478, \tTrain Accuracy: 84.29 %, \tVal Loss: 0.4432, \tVal Accuracy: 84.44 % \n",
      "\n",
      "[EPOCH: 12], \tTrain Loss: 0.4427, \tTrain Accuracy: 84.46 %, \tVal Loss: 0.4597, \tVal Accuracy: 84.26 % \n",
      "\n",
      "[EPOCH: 13], \tTrain Loss: 0.4385, \tTrain Accuracy: 84.68 %, \tVal Loss: 0.4386, \tVal Accuracy: 84.68 % \n",
      "\n",
      "[EPOCH: 14], \tTrain Loss: 0.4358, \tTrain Accuracy: 84.77 %, \tVal Loss: 0.4332, \tVal Accuracy: 84.77 % \n",
      "\n",
      "[EPOCH: 15], \tTrain Loss: 0.4315, \tTrain Accuracy: 84.89 %, \tVal Loss: 0.4398, \tVal Accuracy: 84.66 % \n",
      "\n"
     ]
    }
   ],
   "source": [
    "result_list = []\n",
    "for epoch in range(1, EPOCHS + 1):\n",
    "  train_loss, train_accuracy = train(model, train_loader)\n",
    "  val_loss, val_accuracy = evaluate(model, val_loader)\n",
    "  print(f\"[EPOCH: {epoch}], \\tTrain Loss: {train_loss:.4f}, \\tTrain Accuracy: {train_accuracy:.2f} %, \\tVal Loss: {val_loss:.4f}, \\tVal Accuracy: {val_accuracy:.2f} % \\n\")\n",
    "  result = {\n",
    "    'EPOCH': epoch,\n",
    "    'Train Loss': train_loss,\n",
    "    'Train Accuracy': train_accuracy,\n",
    "    'Val Loss': val_loss,\n",
    "    'Val Accuracy': val_accuracy}\n",
    "  \n",
    "  result_list.append(result)\n",
    "result_df = pd.DataFrame(result_list)"
   ]
  },
  {
   "cell_type": "code",
   "execution_count": null,
   "metadata": {
    "colab": {
     "base_uri": "https://localhost:8080/",
     "height": 336
    },
    "executionInfo": {
     "elapsed": 13,
     "status": "ok",
     "timestamp": 1629618729502,
     "user": {
      "displayName": "이성범",
      "photoUrl": "",
      "userId": "11166281350151773159"
     },
     "user_tz": -540
    },
    "id": "AMNqp8Y4sIjA",
    "outputId": "5a9de406-878c-48b8-9177-ebb5c0616d2d"
   },
   "outputs": [
    {
     "data": {
      "image/png": "[encoded data removed]",
      "text/plain": [
       "<Figure size 1080x360 with 2 Axes>"
      ]
     },
     "metadata": {
      "needs_background": "light"
     },
     "output_type": "display_data"
    }
   ],
   "source": [
    "fig, axes = plt.subplots(nrows=1, ncols=2, figsize=(15, 5))\n",
    "\n",
    "axes[0].plot(result_df['EPOCH'], result_df['Train Loss'], label='Train Loss')\n",
    "axes[0].plot(result_df['EPOCH'], result_df['Val Loss'], label='Val Loss')\n",
    "axes[0].set_ylim(0.0, 1)\n",
    "axes[0].legend()\n",
    "axes[0].set_title('Loss')\n",
    "\n",
    "axes[1].plot(result_df['EPOCH'], result_df['Train Accuracy'], label='Train Accuracy')\n",
    "axes[1].plot(result_df['EPOCH'], result_df['Val Accuracy'], label='Val Accuracy')\n",
    "axes[1].set_ylim(80, 100)\n",
    "axes[1].legend()\n",
    "axes[1].set_title('ACC')\n",
    "\n",
    "plt.show()"
   ]
  },
  {
   "cell_type": "markdown",
   "metadata": {
    "id": "RyUYGuRhsYrp"
   },
   "source": [
    "# Activation Function"
   ]
  },
  {
   "cell_type": "code",
   "execution_count": null,
   "metadata": {
    "id": "MEXkcaJ4pMVq"
   },
   "outputs": [],
   "source": [
    "class Net(nn.Module):\n",
    "  def __init__(self):\n",
    "    super(Net, self).__init__()\n",
    "    self.linear1 = nn.Sequential(\n",
    "        nn.Linear(28 * 28, 512),\n",
    "        nn.ReLU()\n",
    "    )\n",
    "    self.linear2 = nn.Sequential(\n",
    "        nn.Linear(512, 256),\n",
    "        nn.ReLU()\n",
    "    )\n",
    "    self.linear3 = nn.Sequential(\n",
    "        nn.Linear(256, 128),\n",
    "        nn.ReLU()\n",
    "    )\n",
    "    self.linear4 = nn.Sequential(\n",
    "        nn.Linear(128, 10)\n",
    "    )\n",
    "\n",
    "  def forward(self, x):\n",
    "    x = x.view(-1, 28 * 28)\n",
    "    x = self.linear1(x)\n",
    "    x = self.linear2(x)\n",
    "    x = self.linear3(x)\n",
    "    x = self.linear4(x)\n",
    "    return x"
   ]
  },
  {
   "cell_type": "code",
   "execution_count": null,
   "metadata": {
    "colab": {
     "base_uri": "https://localhost:8080/"
    },
    "executionInfo": {
     "elapsed": 5,
     "status": "ok",
     "timestamp": 1629618730036,
     "user": {
      "displayName": "이성범",
      "photoUrl": "",
      "userId": "11166281350151773159"
     },
     "user_tz": -540
    },
    "id": "XtT3TuyLpsSw",
    "outputId": "d8f74eae-960b-4f37-b7ab-231a367192f5"
   },
   "outputs": [
    {
     "name": "stdout",
     "output_type": "stream",
     "text": [
      "Net(\n",
      "  (linear1): Sequential(\n",
      "    (0): Linear(in_features=784, out_features=512, bias=True)\n",
      "    (1): ReLU()\n",
      "  )\n",
      "  (linear2): Sequential(\n",
      "    (0): Linear(in_features=512, out_features=256, bias=True)\n",
      "    (1): ReLU()\n",
      "  )\n",
      "  (linear3): Sequential(\n",
      "    (0): Linear(in_features=256, out_features=128, bias=True)\n",
      "    (1): ReLU()\n",
      "  )\n",
      "  (linear4): Sequential(\n",
      "    (0): Linear(in_features=128, out_features=10, bias=True)\n",
      "  )\n",
      ")\n"
     ]
    }
   ],
   "source": [
    "model = Net().to(DEVICE)\n",
    "optimizer = torch.optim.SGD(model.parameters(), lr = 0.01, momentum = 0.5)\n",
    "criterion = nn.CrossEntropyLoss()\n",
    "\n",
    "print(model)"
   ]
  },
  {
   "cell_type": "code",
   "execution_count": null,
   "metadata": {
    "colab": {
     "base_uri": "https://localhost:8080/"
    },
    "executionInfo": {
     "elapsed": 59766,
     "status": "ok",
     "timestamp": 1629618789799,
     "user": {
      "displayName": "이성범",
      "photoUrl": "",
      "userId": "11166281350151773159"
     },
     "user_tz": -540
    },
    "id": "Q6QdeXBQz5HV",
    "outputId": "3e3d4e53-6a07-460c-d319-2e6ecdbf652f"
   },
   "outputs": [
    {
     "name": "stdout",
     "output_type": "stream",
     "text": [
      "[EPOCH: 1], \tTrain Loss: 1.9380, \tTrain Accuracy: 33.59 %, \tVal Loss: 1.2035, \tVal Accuracy: 59.36 % \n",
      "\n",
      "[EPOCH: 2], \tTrain Loss: 0.9337, \tTrain Accuracy: 64.72 %, \tVal Loss: 0.7758, \tVal Accuracy: 70.08 % \n",
      "\n",
      "[EPOCH: 3], \tTrain Loss: 0.7257, \tTrain Accuracy: 73.16 %, \tVal Loss: 0.6562, \tVal Accuracy: 76.92 % \n",
      "\n",
      "[EPOCH: 4], \tTrain Loss: 0.6343, \tTrain Accuracy: 77.55 %, \tVal Loss: 0.5887, \tVal Accuracy: 78.45 % \n",
      "\n",
      "[EPOCH: 5], \tTrain Loss: 0.5727, \tTrain Accuracy: 79.90 %, \tVal Loss: 0.5600, \tVal Accuracy: 80.05 % \n",
      "\n",
      "[EPOCH: 6], \tTrain Loss: 0.5369, \tTrain Accuracy: 81.03 %, \tVal Loss: 0.5068, \tVal Accuracy: 81.94 % \n",
      "\n",
      "[EPOCH: 7], \tTrain Loss: 0.5082, \tTrain Accuracy: 82.05 %, \tVal Loss: 0.4916, \tVal Accuracy: 82.18 % \n",
      "\n",
      "[EPOCH: 8], \tTrain Loss: 0.4890, \tTrain Accuracy: 82.71 %, \tVal Loss: 0.4704, \tVal Accuracy: 83.12 % \n",
      "\n",
      "[EPOCH: 9], \tTrain Loss: 0.4719, \tTrain Accuracy: 83.43 %, \tVal Loss: 0.4673, \tVal Accuracy: 82.94 % \n",
      "\n",
      "[EPOCH: 10], \tTrain Loss: 0.4605, \tTrain Accuracy: 83.70 %, \tVal Loss: 0.4497, \tVal Accuracy: 84.27 % \n",
      "\n",
      "[EPOCH: 11], \tTrain Loss: 0.4460, \tTrain Accuracy: 84.32 %, \tVal Loss: 0.4362, \tVal Accuracy: 84.24 % \n",
      "\n",
      "[EPOCH: 12], \tTrain Loss: 0.4374, \tTrain Accuracy: 84.49 %, \tVal Loss: 0.4301, \tVal Accuracy: 84.54 % \n",
      "\n",
      "[EPOCH: 13], \tTrain Loss: 0.4291, \tTrain Accuracy: 84.84 %, \tVal Loss: 0.4254, \tVal Accuracy: 84.64 % \n",
      "\n",
      "[EPOCH: 14], \tTrain Loss: 0.4205, \tTrain Accuracy: 85.08 %, \tVal Loss: 0.4084, \tVal Accuracy: 85.44 % \n",
      "\n",
      "[EPOCH: 15], \tTrain Loss: 0.4106, \tTrain Accuracy: 85.55 %, \tVal Loss: 0.4050, \tVal Accuracy: 85.59 % \n",
      "\n"
     ]
    }
   ],
   "source": [
    "result_list = []\n",
    "for epoch in range(1, EPOCHS + 1):\n",
    "  train_loss, train_accuracy = train(model, train_loader)\n",
    "  val_loss, val_accuracy = evaluate(model, val_loader)\n",
    "  print(f\"[EPOCH: {epoch}], \\tTrain Loss: {train_loss:.4f}, \\tTrain Accuracy: {train_accuracy:.2f} %, \\tVal Loss: {val_loss:.4f}, \\tVal Accuracy: {val_accuracy:.2f} % \\n\")\n",
    "  result = {\n",
    "    'EPOCH': epoch,\n",
    "    'Train Loss': train_loss,\n",
    "    'Train Accuracy': train_accuracy,\n",
    "    'Val Loss': val_loss,\n",
    "    'Val Accuracy': val_accuracy}\n",
    "  \n",
    "  result_list.append(result)\n",
    "result_df = pd.DataFrame(result_list)"
   ]
  },
  {
   "cell_type": "code",
   "execution_count": null,
   "metadata": {
    "colab": {
     "base_uri": "https://localhost:8080/",
     "height": 336
    },
    "executionInfo": {
     "elapsed": 776,
     "status": "ok",
     "timestamp": 1629618790565,
     "user": {
      "displayName": "이성범",
      "photoUrl": "",
      "userId": "11166281350151773159"
     },
     "user_tz": -540
    },
    "id": "Fljp667oz5HW",
    "outputId": "08543111-5bc3-4d27-db8e-aead12f95bb2"
   },
   "outputs": [
    {
     "data": {
      "image/png": "[encoded data removed]",
      "text/plain": [
       "<Figure size 1080x360 with 2 Axes>"
      ]
     },
     "metadata": {
      "needs_background": "light"
     },
     "output_type": "display_data"
    }
   ],
   "source": [
    "fig, axes = plt.subplots(nrows=1, ncols=2, figsize=(15, 5))\n",
    "\n",
    "axes[0].plot(result_df['EPOCH'], result_df['Train Loss'], label='Train Loss')\n",
    "axes[0].plot(result_df['EPOCH'], result_df['Val Loss'], label='Val Loss')\n",
    "axes[0].set_ylim(0.0, 1)\n",
    "axes[0].legend()\n",
    "axes[0].set_title('Loss')\n",
    "\n",
    "axes[1].plot(result_df['EPOCH'], result_df['Train Accuracy'], label='Train Accuracy')\n",
    "axes[1].plot(result_df['EPOCH'], result_df['Val Accuracy'], label='Val Accuracy')\n",
    "axes[1].set_ylim(80, 100)\n",
    "axes[1].legend()\n",
    "axes[1].set_title('ACC')\n",
    "\n",
    "plt.show()"
   ]
  },
  {
   "cell_type": "markdown",
   "metadata": {
    "id": "WNBsJv5TscN7"
   },
   "source": [
    "# Weight Initialization"
   ]
  },
  {
   "cell_type": "code",
   "execution_count": null,
   "metadata": {
    "id": "ueHAnrwNtTc9"
   },
   "outputs": [],
   "source": [
    "class Net(nn.Module):\n",
    "  def __init__(self):\n",
    "    super(Net, self).__init__()\n",
    "    self.linear1 = nn.Sequential(\n",
    "        nn.Linear(28 * 28, 512),\n",
    "        nn.ReLU()\n",
    "    )\n",
    "    self.linear2 = nn.Sequential(\n",
    "        nn.Linear(512, 256),\n",
    "        nn.ReLU()\n",
    "    )\n",
    "    self.linear3 = nn.Sequential(\n",
    "        nn.Linear(256, 128),\n",
    "        nn.ReLU()\n",
    "    )\n",
    "    self.linear4 = nn.Sequential(\n",
    "        nn.Linear(128, 10)\n",
    "    )\n",
    "\n",
    "    self._init_weight_()\n",
    "\n",
    "  def _init_weight_(self):\n",
    "    for m in self.linear1:\n",
    "      if isinstance(m, nn.Linear):\n",
    "        nn.init.kaiming_uniform_(m.weight)\n",
    "\n",
    "    for m in self.linear2:\n",
    "      if isinstance(m, nn.Linear):\n",
    "        nn.init.kaiming_uniform_(m.weight)\n",
    "\n",
    "    for m in self.linear3:\n",
    "      if isinstance(m, nn.Linear):\n",
    "        nn.init.kaiming_uniform_(m.weight)\n",
    "\n",
    "  def forward(self, x):\n",
    "    x = x.view(-1, 28 * 28)\n",
    "    x = self.linear1(x)\n",
    "    x = self.linear2(x)\n",
    "    x = self.linear3(x)\n",
    "    x = self.linear4(x)\n",
    "    return x"
   ]
  },
  {
   "cell_type": "code",
   "execution_count": null,
   "metadata": {
    "colab": {
     "base_uri": "https://localhost:8080/"
    },
    "executionInfo": {
     "elapsed": 9,
     "status": "ok",
     "timestamp": 1629618790567,
     "user": {
      "displayName": "이성범",
      "photoUrl": "",
      "userId": "11166281350151773159"
     },
     "user_tz": -540
    },
    "id": "APRetGtetTdJ",
    "outputId": "39a91cab-b7e4-4070-d114-384822c5f1d0"
   },
   "outputs": [
    {
     "name": "stdout",
     "output_type": "stream",
     "text": [
      "Net(\n",
      "  (linear1): Sequential(\n",
      "    (0): Linear(in_features=784, out_features=512, bias=True)\n",
      "    (1): ReLU()\n",
      "  )\n",
      "  (linear2): Sequential(\n",
      "    (0): Linear(in_features=512, out_features=256, bias=True)\n",
      "    (1): ReLU()\n",
      "  )\n",
      "  (linear3): Sequential(\n",
      "    (0): Linear(in_features=256, out_features=128, bias=True)\n",
      "    (1): ReLU()\n",
      "  )\n",
      "  (linear4): Sequential(\n",
      "    (0): Linear(in_features=128, out_features=10, bias=True)\n",
      "  )\n",
      ")\n"
     ]
    }
   ],
   "source": [
    "model = Net().to(DEVICE)\n",
    "optimizer = torch.optim.SGD(model.parameters(), lr = 0.01, momentum = 0.5)\n",
    "criterion = nn.CrossEntropyLoss()\n",
    "\n",
    "print(model)"
   ]
  },
  {
   "cell_type": "code",
   "execution_count": null,
   "metadata": {
    "colab": {
     "base_uri": "https://localhost:8080/"
    },
    "executionInfo": {
     "elapsed": 59474,
     "status": "ok",
     "timestamp": 1629618850037,
     "user": {
      "displayName": "이성범",
      "photoUrl": "",
      "userId": "11166281350151773159"
     },
     "user_tz": -540
    },
    "id": "E8bzvby50TMq",
    "outputId": "77bd11df-381b-43db-9455-022e9f02424a"
   },
   "outputs": [
    {
     "name": "stdout",
     "output_type": "stream",
     "text": [
      "[EPOCH: 1], \tTrain Loss: 0.9834, \tTrain Accuracy: 67.64 %, \tVal Loss: 0.6181, \tVal Accuracy: 78.76 % \n",
      "\n",
      "[EPOCH: 2], \tTrain Loss: 0.5687, \tTrain Accuracy: 80.35 %, \tVal Loss: 0.5099, \tVal Accuracy: 82.48 % \n",
      "\n",
      "[EPOCH: 3], \tTrain Loss: 0.4964, \tTrain Accuracy: 82.70 %, \tVal Loss: 0.4656, \tVal Accuracy: 83.98 % \n",
      "\n",
      "[EPOCH: 4], \tTrain Loss: 0.4615, \tTrain Accuracy: 83.77 %, \tVal Loss: 0.4841, \tVal Accuracy: 82.45 % \n",
      "\n",
      "[EPOCH: 5], \tTrain Loss: 0.4414, \tTrain Accuracy: 84.31 %, \tVal Loss: 0.4273, \tVal Accuracy: 84.82 % \n",
      "\n",
      "[EPOCH: 6], \tTrain Loss: 0.4253, \tTrain Accuracy: 84.95 %, \tVal Loss: 0.4496, \tVal Accuracy: 84.25 % \n",
      "\n",
      "[EPOCH: 7], \tTrain Loss: 0.4100, \tTrain Accuracy: 85.36 %, \tVal Loss: 0.4010, \tVal Accuracy: 85.97 % \n",
      "\n",
      "[EPOCH: 8], \tTrain Loss: 0.3958, \tTrain Accuracy: 85.95 %, \tVal Loss: 0.3845, \tVal Accuracy: 86.66 % \n",
      "\n",
      "[EPOCH: 9], \tTrain Loss: 0.3842, \tTrain Accuracy: 86.37 %, \tVal Loss: 0.3895, \tVal Accuracy: 86.28 % \n",
      "\n",
      "[EPOCH: 10], \tTrain Loss: 0.3740, \tTrain Accuracy: 86.66 %, \tVal Loss: 0.3932, \tVal Accuracy: 85.74 % \n",
      "\n",
      "[EPOCH: 11], \tTrain Loss: 0.3649, \tTrain Accuracy: 87.02 %, \tVal Loss: 0.3689, \tVal Accuracy: 87.17 % \n",
      "\n",
      "[EPOCH: 12], \tTrain Loss: 0.3574, \tTrain Accuracy: 87.27 %, \tVal Loss: 0.3871, \tVal Accuracy: 86.45 % \n",
      "\n",
      "[EPOCH: 13], \tTrain Loss: 0.3487, \tTrain Accuracy: 87.55 %, \tVal Loss: 0.3627, \tVal Accuracy: 87.38 % \n",
      "\n",
      "[EPOCH: 14], \tTrain Loss: 0.3413, \tTrain Accuracy: 87.81 %, \tVal Loss: 0.3714, \tVal Accuracy: 86.68 % \n",
      "\n",
      "[EPOCH: 15], \tTrain Loss: 0.3353, \tTrain Accuracy: 87.82 %, \tVal Loss: 0.3594, \tVal Accuracy: 87.23 % \n",
      "\n"
     ]
    }
   ],
   "source": [
    "result_list = []\n",
    "for epoch in range(1, EPOCHS + 1):\n",
    "  train_loss, train_accuracy = train(model, train_loader)\n",
    "  val_loss, val_accuracy = evaluate(model, val_loader)\n",
    "  print(f\"[EPOCH: {epoch}], \\tTrain Loss: {train_loss:.4f}, \\tTrain Accuracy: {train_accuracy:.2f} %, \\tVal Loss: {val_loss:.4f}, \\tVal Accuracy: {val_accuracy:.2f} % \\n\")\n",
    "  result = {\n",
    "    'EPOCH': epoch,\n",
    "    'Train Loss': train_loss,\n",
    "    'Train Accuracy': train_accuracy,\n",
    "    'Val Loss': val_loss,\n",
    "    'Val Accuracy': val_accuracy}\n",
    "  \n",
    "  result_list.append(result)\n",
    "result_df = pd.DataFrame(result_list)"
   ]
  },
  {
   "cell_type": "code",
   "execution_count": null,
   "metadata": {
    "colab": {
     "base_uri": "https://localhost:8080/",
     "height": 336
    },
    "executionInfo": {
     "elapsed": 802,
     "status": "ok",
     "timestamp": 1629618850827,
     "user": {
      "displayName": "이성범",
      "photoUrl": "",
      "userId": "11166281350151773159"
     },
     "user_tz": -540
    },
    "id": "FZ3w28Ot0TMr",
    "outputId": "2a578f9e-5599-4b0d-c21b-8b5975573b1b"
   },
   "outputs": [
    {
     "data": {
      "image/png": "[encoded data removed]",
      "text/plain": [
       "<Figure size 1080x360 with 2 Axes>"
      ]
     },
     "metadata": {
      "needs_background": "light"
     },
     "output_type": "display_data"
    }
   ],
   "source": [
    "fig, axes = plt.subplots(nrows=1, ncols=2, figsize=(15, 5))\n",
    "\n",
    "axes[0].plot(result_df['EPOCH'], result_df['Train Loss'], label='Train Loss')\n",
    "axes[0].plot(result_df['EPOCH'], result_df['Val Loss'], label='Val Loss')\n",
    "axes[0].set_ylim(0.0, 1)\n",
    "axes[0].legend()\n",
    "axes[0].set_title('Loss')\n",
    "\n",
    "axes[1].plot(result_df['EPOCH'], result_df['Train Accuracy'], label='Train Accuracy')\n",
    "axes[1].plot(result_df['EPOCH'], result_df['Val Accuracy'], label='Val Accuracy')\n",
    "axes[1].set_ylim(80, 100)\n",
    "axes[1].legend()\n",
    "axes[1].set_title('ACC')\n",
    "\n",
    "plt.show()"
   ]
  },
  {
   "cell_type": "markdown",
   "metadata": {
    "id": "ZQrOPXksse-7"
   },
   "source": [
    "# Batch Normalization"
   ]
  },
  {
   "cell_type": "code",
   "execution_count": null,
   "metadata": {
    "id": "tzszY6rO1Twt"
   },
   "outputs": [],
   "source": [
    "class Net(nn.Module):\n",
    "  def __init__(self):\n",
    "    super(Net, self).__init__()\n",
    "    self.linear1 = nn.Sequential(\n",
    "        nn.Linear(28 * 28, 512),\n",
    "        nn.BatchNorm1d(512),\n",
    "        nn.ReLU()\n",
    "    )\n",
    "    self.linear2 = nn.Sequential(\n",
    "        nn.Linear(512, 256),\n",
    "        nn.BatchNorm1d(256),\n",
    "        nn.ReLU()\n",
    "    )\n",
    "    self.linear3 = nn.Sequential(\n",
    "        nn.Linear(256, 128),\n",
    "        nn.BatchNorm1d(128),\n",
    "        nn.ReLU()\n",
    "    )\n",
    "    self.linear4 = nn.Sequential(\n",
    "        nn.Linear(128, 10)\n",
    "    )\n",
    "\n",
    "    self._init_weight_()\n",
    "\n",
    "  def _init_weight_(self):\n",
    "    for m in self.linear1:\n",
    "      if isinstance(m, nn.Linear):\n",
    "        nn.init.kaiming_uniform_(m.weight)\n",
    "\n",
    "    for m in self.linear2:\n",
    "      if isinstance(m, nn.Linear):\n",
    "        nn.init.kaiming_uniform_(m.weight)\n",
    "\n",
    "    for m in self.linear3:\n",
    "      if isinstance(m, nn.Linear):\n",
    "        nn.init.kaiming_uniform_(m.weight)\n",
    "\n",
    "  def forward(self, x):\n",
    "    x = x.view(-1, 28 * 28)\n",
    "    x = self.linear1(x)\n",
    "    x = self.linear2(x)\n",
    "    x = self.linear3(x)\n",
    "    x = self.linear4(x)\n",
    "    return x"
   ]
  },
  {
   "cell_type": "code",
   "execution_count": null,
   "metadata": {
    "colab": {
     "base_uri": "https://localhost:8080/"
    },
    "executionInfo": {
     "elapsed": 9,
     "status": "ok",
     "timestamp": 1629618850830,
     "user": {
      "displayName": "이성범",
      "photoUrl": "",
      "userId": "11166281350151773159"
     },
     "user_tz": -540
    },
    "id": "I9WRy-0C1Tw6",
    "outputId": "c025693c-5a41-44fb-eb19-1165bebb2783"
   },
   "outputs": [
    {
     "name": "stdout",
     "output_type": "stream",
     "text": [
      "Net(\n",
      "  (linear1): Sequential(\n",
      "    (0): Linear(in_features=784, out_features=512, bias=True)\n",
      "    (1): BatchNorm1d(512, eps=1e-05, momentum=0.1, affine=True, track_running_stats=True)\n",
      "    (2): ReLU()\n",
      "  )\n",
      "  (linear2): Sequential(\n",
      "    (0): Linear(in_features=512, out_features=256, bias=True)\n",
      "    (1): BatchNorm1d(256, eps=1e-05, momentum=0.1, affine=True, track_running_stats=True)\n",
      "    (2): ReLU()\n",
      "  )\n",
      "  (linear3): Sequential(\n",
      "    (0): Linear(in_features=256, out_features=128, bias=True)\n",
      "    (1): BatchNorm1d(128, eps=1e-05, momentum=0.1, affine=True, track_running_stats=True)\n",
      "    (2): ReLU()\n",
      "  )\n",
      "  (linear4): Sequential(\n",
      "    (0): Linear(in_features=128, out_features=10, bias=True)\n",
      "  )\n",
      ")\n"
     ]
    }
   ],
   "source": [
    "model = Net().to(DEVICE)\n",
    "optimizer = torch.optim.SGD(model.parameters(), lr = 0.01, momentum = 0.5)\n",
    "criterion = nn.CrossEntropyLoss()\n",
    "\n",
    "print(model)"
   ]
  },
  {
   "cell_type": "code",
   "execution_count": null,
   "metadata": {
    "colab": {
     "base_uri": "https://localhost:8080/"
    },
    "executionInfo": {
     "elapsed": 90413,
     "status": "ok",
     "timestamp": 1629618941238,
     "user": {
      "displayName": "이성범",
      "photoUrl": "",
      "userId": "11166281350151773159"
     },
     "user_tz": -540
    },
    "id": "_F7dKHTD0TsQ",
    "outputId": "fee2879a-31b8-4226-c2b8-0d196d72070a"
   },
   "outputs": [
    {
     "name": "stdout",
     "output_type": "stream",
     "text": [
      "[EPOCH: 1], \tTrain Loss: 0.8250, \tTrain Accuracy: 74.81 %, \tVal Loss: 0.5111, \tVal Accuracy: 82.68 % \n",
      "\n",
      "[EPOCH: 2], \tTrain Loss: 0.4741, \tTrain Accuracy: 83.72 %, \tVal Loss: 0.4178, \tVal Accuracy: 85.72 % \n",
      "\n",
      "[EPOCH: 3], \tTrain Loss: 0.4059, \tTrain Accuracy: 85.75 %, \tVal Loss: 0.3770, \tVal Accuracy: 86.99 % \n",
      "\n",
      "[EPOCH: 4], \tTrain Loss: 0.3665, \tTrain Accuracy: 87.00 %, \tVal Loss: 0.3589, \tVal Accuracy: 87.29 % \n",
      "\n",
      "[EPOCH: 5], \tTrain Loss: 0.3406, \tTrain Accuracy: 87.90 %, \tVal Loss: 0.3522, \tVal Accuracy: 87.34 % \n",
      "\n",
      "[EPOCH: 6], \tTrain Loss: 0.3180, \tTrain Accuracy: 88.70 %, \tVal Loss: 0.3452, \tVal Accuracy: 87.63 % \n",
      "\n",
      "[EPOCH: 7], \tTrain Loss: 0.2993, \tTrain Accuracy: 89.16 %, \tVal Loss: 0.3228, \tVal Accuracy: 88.47 % \n",
      "\n",
      "[EPOCH: 8], \tTrain Loss: 0.2815, \tTrain Accuracy: 89.83 %, \tVal Loss: 0.3331, \tVal Accuracy: 87.88 % \n",
      "\n",
      "[EPOCH: 9], \tTrain Loss: 0.2665, \tTrain Accuracy: 90.43 %, \tVal Loss: 0.3187, \tVal Accuracy: 88.35 % \n",
      "\n",
      "[EPOCH: 10], \tTrain Loss: 0.2510, \tTrain Accuracy: 91.09 %, \tVal Loss: 0.3183, \tVal Accuracy: 88.27 % \n",
      "\n",
      "[EPOCH: 11], \tTrain Loss: 0.2369, \tTrain Accuracy: 91.58 %, \tVal Loss: 0.3185, \tVal Accuracy: 88.76 % \n",
      "\n",
      "[EPOCH: 12], \tTrain Loss: 0.2245, \tTrain Accuracy: 92.11 %, \tVal Loss: 0.3144, \tVal Accuracy: 88.67 % \n",
      "\n",
      "[EPOCH: 13], \tTrain Loss: 0.2106, \tTrain Accuracy: 92.62 %, \tVal Loss: 0.3232, \tVal Accuracy: 88.45 % \n",
      "\n",
      "[EPOCH: 14], \tTrain Loss: 0.1992, \tTrain Accuracy: 93.11 %, \tVal Loss: 0.3274, \tVal Accuracy: 88.55 % \n",
      "\n",
      "[EPOCH: 15], \tTrain Loss: 0.1877, \tTrain Accuracy: 93.45 %, \tVal Loss: 0.3173, \tVal Accuracy: 88.76 % \n",
      "\n"
     ]
    }
   ],
   "source": [
    "result_list = []\n",
    "for epoch in range(1, EPOCHS + 1):\n",
    "  train_loss, train_accuracy = train(model, train_loader)\n",
    "  val_loss, val_accuracy = evaluate(model, val_loader)\n",
    "  print(f\"[EPOCH: {epoch}], \\tTrain Loss: {train_loss:.4f}, \\tTrain Accuracy: {train_accuracy:.2f} %, \\tVal Loss: {val_loss:.4f}, \\tVal Accuracy: {val_accuracy:.2f} % \\n\")\n",
    "  result = {\n",
    "    'EPOCH': epoch,\n",
    "    'Train Loss': train_loss,\n",
    "    'Train Accuracy': train_accuracy,\n",
    "    'Val Loss': val_loss,\n",
    "    'Val Accuracy': val_accuracy}\n",
    "  \n",
    "  result_list.append(result)\n",
    "result_df = pd.DataFrame(result_list)"
   ]
  },
  {
   "cell_type": "code",
   "execution_count": null,
   "metadata": {
    "colab": {
     "base_uri": "https://localhost:8080/",
     "height": 336
    },
    "executionInfo": {
     "elapsed": 16,
     "status": "ok",
     "timestamp": 1629618941239,
     "user": {
      "displayName": "이성범",
      "photoUrl": "",
      "userId": "11166281350151773159"
     },
     "user_tz": -540
    },
    "id": "ZgXRPSqy0TsQ",
    "outputId": "ea07fee8-46f6-4923-ef78-104b57c86c71"
   },
   "outputs": [
    {
     "data": {
      "image/png": "[encoded data removed]",
      "text/plain": [
       "<Figure size 1080x360 with 2 Axes>"
      ]
     },
     "metadata": {
      "needs_background": "light"
     },
     "output_type": "display_data"
    }
   ],
   "source": [
    "fig, axes = plt.subplots(nrows=1, ncols=2, figsize=(15, 5))\n",
    "\n",
    "axes[0].plot(result_df['EPOCH'], result_df['Train Loss'], label='Train Loss')\n",
    "axes[0].plot(result_df['EPOCH'], result_df['Val Loss'], label='Val Loss')\n",
    "axes[0].set_ylim(0.0, 1)\n",
    "axes[0].legend()\n",
    "axes[0].set_title('Loss')\n",
    "\n",
    "axes[1].plot(result_df['EPOCH'], result_df['Train Accuracy'], label='Train Accuracy')\n",
    "axes[1].plot(result_df['EPOCH'], result_df['Val Accuracy'], label='Val Accuracy')\n",
    "axes[1].set_ylim(80, 100)\n",
    "axes[1].legend()\n",
    "axes[1].set_title('ACC')\n",
    "\n",
    "plt.show()"
   ]
  },
  {
   "cell_type": "markdown",
   "metadata": {
    "id": "1gwUB32GshKT"
   },
   "source": [
    "# Optimization"
   ]
  },
  {
   "cell_type": "code",
   "execution_count": null,
   "metadata": {
    "id": "IX0cwOXy1fr-"
   },
   "outputs": [],
   "source": [
    "class Net(nn.Module):\n",
    "  def __init__(self):\n",
    "    super(Net, self).__init__()\n",
    "    self.linear1 = nn.Sequential(\n",
    "        nn.Linear(28 * 28, 512),\n",
    "        nn.BatchNorm1d(512),\n",
    "        nn.ReLU()\n",
    "    )\n",
    "    self.linear2 = nn.Sequential(\n",
    "        nn.Linear(512, 256),\n",
    "        nn.BatchNorm1d(256),\n",
    "        nn.ReLU()\n",
    "    )\n",
    "    self.linear3 = nn.Sequential(\n",
    "        nn.Linear(256, 128),\n",
    "        nn.BatchNorm1d(128),\n",
    "        nn.ReLU()\n",
    "    )\n",
    "    self.linear4 = nn.Sequential(\n",
    "        nn.Linear(128, 10)\n",
    "    )\n",
    "\n",
    "    self._init_weight_()\n",
    "\n",
    "  def _init_weight_(self):\n",
    "    for m in self.linear1:\n",
    "      if isinstance(m, nn.Linear):\n",
    "        nn.init.kaiming_uniform_(m.weight)\n",
    "\n",
    "    for m in self.linear2:\n",
    "      if isinstance(m, nn.Linear):\n",
    "        nn.init.kaiming_uniform_(m.weight)\n",
    "\n",
    "    for m in self.linear3:\n",
    "      if isinstance(m, nn.Linear):\n",
    "        nn.init.kaiming_uniform_(m.weight)\n",
    "\n",
    "  def forward(self, x):\n",
    "    x = x.view(-1, 28 * 28)\n",
    "    x = self.linear1(x)\n",
    "    x = self.linear2(x)\n",
    "    x = self.linear3(x)\n",
    "    x = self.linear4(x)\n",
    "    return x"
   ]
  },
  {
   "cell_type": "code",
   "execution_count": null,
   "metadata": {
    "colab": {
     "base_uri": "https://localhost:8080/"
    },
    "executionInfo": {
     "elapsed": 7,
     "status": "ok",
     "timestamp": 1629618941754,
     "user": {
      "displayName": "이성범",
      "photoUrl": "",
      "userId": "11166281350151773159"
     },
     "user_tz": -540
    },
    "id": "JCaB9wCZ1fsI",
    "outputId": "1528cf31-5518-4427-8c81-e623403e7f50"
   },
   "outputs": [
    {
     "name": "stdout",
     "output_type": "stream",
     "text": [
      "Net(\n",
      "  (linear1): Sequential(\n",
      "    (0): Linear(in_features=784, out_features=512, bias=True)\n",
      "    (1): BatchNorm1d(512, eps=1e-05, momentum=0.1, affine=True, track_running_stats=True)\n",
      "    (2): ReLU()\n",
      "  )\n",
      "  (linear2): Sequential(\n",
      "    (0): Linear(in_features=512, out_features=256, bias=True)\n",
      "    (1): BatchNorm1d(256, eps=1e-05, momentum=0.1, affine=True, track_running_stats=True)\n",
      "    (2): ReLU()\n",
      "  )\n",
      "  (linear3): Sequential(\n",
      "    (0): Linear(in_features=256, out_features=128, bias=True)\n",
      "    (1): BatchNorm1d(128, eps=1e-05, momentum=0.1, affine=True, track_running_stats=True)\n",
      "    (2): ReLU()\n",
      "  )\n",
      "  (linear4): Sequential(\n",
      "    (0): Linear(in_features=128, out_features=10, bias=True)\n",
      "  )\n",
      ")\n"
     ]
    }
   ],
   "source": [
    "model = Net().to(DEVICE)\n",
    "optimizer = torch.optim.Adam(model.parameters(), lr = 0.01)\n",
    "criterion = nn.CrossEntropyLoss()\n",
    "\n",
    "print(model)"
   ]
  },
  {
   "cell_type": "code",
   "execution_count": null,
   "metadata": {
    "colab": {
     "base_uri": "https://localhost:8080/"
    },
    "executionInfo": {
     "elapsed": 104603,
     "status": "ok",
     "timestamp": 1629619046352,
     "user": {
      "displayName": "이성범",
      "photoUrl": "",
      "userId": "11166281350151773159"
     },
     "user_tz": -540
    },
    "id": "mxeGk5BO0ULy",
    "outputId": "b28b5ea9-99c1-44b8-81f6-e7e067672d56"
   },
   "outputs": [
    {
     "name": "stdout",
     "output_type": "stream",
     "text": [
      "[EPOCH: 1], \tTrain Loss: 0.4864, \tTrain Accuracy: 82.29 %, \tVal Loss: 0.3932, \tVal Accuracy: 85.87 % \n",
      "\n",
      "[EPOCH: 2], \tTrain Loss: 0.3715, \tTrain Accuracy: 86.52 %, \tVal Loss: 0.4424, \tVal Accuracy: 84.60 % \n",
      "\n",
      "[EPOCH: 3], \tTrain Loss: 0.3308, \tTrain Accuracy: 87.68 %, \tVal Loss: 0.3646, \tVal Accuracy: 86.71 % \n",
      "\n",
      "[EPOCH: 4], \tTrain Loss: 0.3033, \tTrain Accuracy: 88.66 %, \tVal Loss: 0.3323, \tVal Accuracy: 87.76 % \n",
      "\n",
      "[EPOCH: 5], \tTrain Loss: 0.2774, \tTrain Accuracy: 89.58 %, \tVal Loss: 0.3814, \tVal Accuracy: 86.24 % \n",
      "\n",
      "[EPOCH: 6], \tTrain Loss: 0.2629, \tTrain Accuracy: 90.11 %, \tVal Loss: 0.3192, \tVal Accuracy: 88.35 % \n",
      "\n",
      "[EPOCH: 7], \tTrain Loss: 0.2456, \tTrain Accuracy: 90.72 %, \tVal Loss: 0.3455, \tVal Accuracy: 87.56 % \n",
      "\n",
      "[EPOCH: 8], \tTrain Loss: 0.2307, \tTrain Accuracy: 91.37 %, \tVal Loss: 0.3160, \tVal Accuracy: 88.91 % \n",
      "\n",
      "[EPOCH: 9], \tTrain Loss: 0.2179, \tTrain Accuracy: 91.83 %, \tVal Loss: 0.3178, \tVal Accuracy: 89.10 % \n",
      "\n",
      "[EPOCH: 10], \tTrain Loss: 0.2088, \tTrain Accuracy: 92.11 %, \tVal Loss: 0.3545, \tVal Accuracy: 87.97 % \n",
      "\n",
      "[EPOCH: 11], \tTrain Loss: 0.1932, \tTrain Accuracy: 92.59 %, \tVal Loss: 0.3147, \tVal Accuracy: 90.02 % \n",
      "\n",
      "[EPOCH: 12], \tTrain Loss: 0.1854, \tTrain Accuracy: 92.98 %, \tVal Loss: 0.3436, \tVal Accuracy: 88.80 % \n",
      "\n",
      "[EPOCH: 13], \tTrain Loss: 0.1710, \tTrain Accuracy: 93.43 %, \tVal Loss: 0.3425, \tVal Accuracy: 88.89 % \n",
      "\n",
      "[EPOCH: 14], \tTrain Loss: 0.1656, \tTrain Accuracy: 93.77 %, \tVal Loss: 0.3263, \tVal Accuracy: 89.76 % \n",
      "\n",
      "[EPOCH: 15], \tTrain Loss: 0.1547, \tTrain Accuracy: 94.03 %, \tVal Loss: 0.3266, \tVal Accuracy: 89.48 % \n",
      "\n"
     ]
    }
   ],
   "source": [
    "result_list = []\n",
    "for epoch in range(1, EPOCHS + 1):\n",
    "  train_loss, train_accuracy = train(model, train_loader)\n",
    "  val_loss, val_accuracy = evaluate(model, val_loader)\n",
    "  print(f\"[EPOCH: {epoch}], \\tTrain Loss: {train_loss:.4f}, \\tTrain Accuracy: {train_accuracy:.2f} %, \\tVal Loss: {val_loss:.4f}, \\tVal Accuracy: {val_accuracy:.2f} % \\n\")\n",
    "  result = {\n",
    "    'EPOCH': epoch,\n",
    "    'Train Loss': train_loss,\n",
    "    'Train Accuracy': train_accuracy,\n",
    "    'Val Loss': val_loss,\n",
    "    'Val Accuracy': val_accuracy}\n",
    "  \n",
    "  result_list.append(result)\n",
    "result_df = pd.DataFrame(result_list)"
   ]
  },
  {
   "cell_type": "code",
   "execution_count": null,
   "metadata": {
    "colab": {
     "base_uri": "https://localhost:8080/",
     "height": 336
    },
    "executionInfo": {
     "elapsed": 728,
     "status": "ok",
     "timestamp": 1629619047069,
     "user": {
      "displayName": "이성범",
      "photoUrl": "",
      "userId": "11166281350151773159"
     },
     "user_tz": -540
    },
    "id": "EfCVKKLJ0ULz",
    "outputId": "ec6a1c04-998d-40d8-8e00-c2d78dfcb202"
   },
   "outputs": [
    {
     "data": {
      "image/png": "[encoded data removed]",
      "text/plain": [
       "<Figure size 1080x360 with 2 Axes>"
      ]
     },
     "metadata": {
      "needs_background": "light"
     },
     "output_type": "display_data"
    }
   ],
   "source": [
    "fig, axes = plt.subplots(nrows=1, ncols=2, figsize=(15, 5))\n",
    "\n",
    "axes[0].plot(result_df['EPOCH'], result_df['Train Loss'], label='Train Loss')\n",
    "axes[0].plot(result_df['EPOCH'], result_df['Val Loss'], label='Val Loss')\n",
    "axes[0].set_ylim(0.0, 1)\n",
    "axes[0].legend()\n",
    "axes[0].set_title('Loss')\n",
    "\n",
    "axes[1].plot(result_df['EPOCH'], result_df['Train Accuracy'], label='Train Accuracy')\n",
    "axes[1].plot(result_df['EPOCH'], result_df['Val Accuracy'], label='Val Accuracy')\n",
    "axes[1].set_ylim(80, 100)\n",
    "axes[1].legend()\n",
    "axes[1].set_title('ACC')\n",
    "\n",
    "plt.show()"
   ]
  },
  {
   "cell_type": "markdown",
   "metadata": {
    "id": "efosC0aKsjO7"
   },
   "source": [
    "# Dropout"
   ]
  },
  {
   "cell_type": "code",
   "execution_count": null,
   "metadata": {
    "id": "raKGt6Ws1l9m"
   },
   "outputs": [],
   "source": [
    "class Net(nn.Module):\n",
    "  def __init__(self):\n",
    "    super(Net, self).__init__()\n",
    "    self.linear1 = nn.Sequential(\n",
    "        nn.Linear(28 * 28, 512),\n",
    "        nn.BatchNorm1d(512),\n",
    "        nn.ReLU(),\n",
    "        nn.Dropout(0.2)\n",
    "    )\n",
    "    self.linear2 = nn.Sequential(\n",
    "        nn.Linear(512, 256),\n",
    "        nn.BatchNorm1d(256),\n",
    "        nn.ReLU(),\n",
    "        nn.Dropout(0.2)\n",
    "    )\n",
    "    self.linear3 = nn.Sequential(\n",
    "        nn.Linear(256, 128),\n",
    "        nn.BatchNorm1d(128),\n",
    "        nn.ReLU(),\n",
    "        nn.Dropout(0.2)\n",
    "    )\n",
    "    self.linear4 = nn.Sequential(\n",
    "        nn.Linear(128, 10)\n",
    "    )\n",
    "\n",
    "    self._init_weight_()\n",
    "\n",
    "  def _init_weight_(self):\n",
    "    for m in self.linear1:\n",
    "      if isinstance(m, nn.Linear):\n",
    "        nn.init.kaiming_uniform_(m.weight)\n",
    "\n",
    "    for m in self.linear2:\n",
    "      if isinstance(m, nn.Linear):\n",
    "        nn.init.kaiming_uniform_(m.weight)\n",
    "\n",
    "    for m in self.linear3:\n",
    "      if isinstance(m, nn.Linear):\n",
    "        nn.init.kaiming_uniform_(m.weight)\n",
    "\n",
    "  def forward(self, x):\n",
    "    x = x.view(-1, 28 * 28)\n",
    "    x = self.linear1(x)\n",
    "    x = self.linear2(x)\n",
    "    x = self.linear3(x)\n",
    "    x = self.linear4(x)\n",
    "    return x"
   ]
  },
  {
   "cell_type": "code",
   "execution_count": null,
   "metadata": {
    "colab": {
     "base_uri": "https://localhost:8080/"
    },
    "executionInfo": {
     "elapsed": 9,
     "status": "ok",
     "timestamp": 1629619047071,
     "user": {
      "displayName": "이성범",
      "photoUrl": "",
      "userId": "11166281350151773159"
     },
     "user_tz": -540
    },
    "id": "4XGK9N2E1l9m",
    "outputId": "02b26d88-dc9f-4531-8282-ad3f116b6a1d"
   },
   "outputs": [
    {
     "name": "stdout",
     "output_type": "stream",
     "text": [
      "Net(\n",
      "  (linear1): Sequential(\n",
      "    (0): Linear(in_features=784, out_features=512, bias=True)\n",
      "    (1): BatchNorm1d(512, eps=1e-05, momentum=0.1, affine=True, track_running_stats=True)\n",
      "    (2): ReLU()\n",
      "    (3): Dropout(p=0.2, inplace=False)\n",
      "  )\n",
      "  (linear2): Sequential(\n",
      "    (0): Linear(in_features=512, out_features=256, bias=True)\n",
      "    (1): BatchNorm1d(256, eps=1e-05, momentum=0.1, affine=True, track_running_stats=True)\n",
      "    (2): ReLU()\n",
      "    (3): Dropout(p=0.2, inplace=False)\n",
      "  )\n",
      "  (linear3): Sequential(\n",
      "    (0): Linear(in_features=256, out_features=128, bias=True)\n",
      "    (1): BatchNorm1d(128, eps=1e-05, momentum=0.1, affine=True, track_running_stats=True)\n",
      "    (2): ReLU()\n",
      "    (3): Dropout(p=0.2, inplace=False)\n",
      "  )\n",
      "  (linear4): Sequential(\n",
      "    (0): Linear(in_features=128, out_features=10, bias=True)\n",
      "  )\n",
      ")\n"
     ]
    }
   ],
   "source": [
    "model = Net().to(DEVICE)\n",
    "optimizer = torch.optim.Adam(model.parameters(), lr = 0.01)\n",
    "criterion = nn.CrossEntropyLoss()\n",
    "\n",
    "print(model)"
   ]
  },
  {
   "cell_type": "code",
   "execution_count": null,
   "metadata": {
    "colab": {
     "base_uri": "https://localhost:8080/"
    },
    "executionInfo": {
     "elapsed": 108313,
     "status": "ok",
     "timestamp": 1629619155379,
     "user": {
      "displayName": "이성범",
      "photoUrl": "",
      "userId": "11166281350151773159"
     },
     "user_tz": -540
    },
    "id": "QMCB53iN1l9m",
    "outputId": "bb319cc5-ae65-408a-d9be-016d768a94cb"
   },
   "outputs": [
    {
     "name": "stdout",
     "output_type": "stream",
     "text": [
      "[EPOCH: 1], \tTrain Loss: 0.5282, \tTrain Accuracy: 80.74 %, \tVal Loss: 0.3850, \tVal Accuracy: 85.78 % \n",
      "\n",
      "[EPOCH: 2], \tTrain Loss: 0.4143, \tTrain Accuracy: 85.00 %, \tVal Loss: 0.3645, \tVal Accuracy: 86.31 % \n",
      "\n",
      "[EPOCH: 3], \tTrain Loss: 0.3743, \tTrain Accuracy: 86.35 %, \tVal Loss: 0.3596, \tVal Accuracy: 86.80 % \n",
      "\n",
      "[EPOCH: 4], \tTrain Loss: 0.3480, \tTrain Accuracy: 87.31 %, \tVal Loss: 0.3333, \tVal Accuracy: 87.71 % \n",
      "\n",
      "[EPOCH: 5], \tTrain Loss: 0.3228, \tTrain Accuracy: 88.03 %, \tVal Loss: 0.3286, \tVal Accuracy: 88.13 % \n",
      "\n",
      "[EPOCH: 6], \tTrain Loss: 0.3105, \tTrain Accuracy: 88.60 %, \tVal Loss: 0.3033, \tVal Accuracy: 88.97 % \n",
      "\n",
      "[EPOCH: 7], \tTrain Loss: 0.2946, \tTrain Accuracy: 89.04 %, \tVal Loss: 0.3140, \tVal Accuracy: 88.32 % \n",
      "\n",
      "[EPOCH: 8], \tTrain Loss: 0.2873, \tTrain Accuracy: 89.38 %, \tVal Loss: 0.2897, \tVal Accuracy: 89.45 % \n",
      "\n",
      "[EPOCH: 9], \tTrain Loss: 0.2716, \tTrain Accuracy: 89.72 %, \tVal Loss: 0.2934, \tVal Accuracy: 89.80 % \n",
      "\n",
      "[EPOCH: 10], \tTrain Loss: 0.2616, \tTrain Accuracy: 90.18 %, \tVal Loss: 0.3002, \tVal Accuracy: 89.03 % \n",
      "\n",
      "[EPOCH: 11], \tTrain Loss: 0.2516, \tTrain Accuracy: 90.66 %, \tVal Loss: 0.2987, \tVal Accuracy: 89.24 % \n",
      "\n",
      "[EPOCH: 12], \tTrain Loss: 0.2451, \tTrain Accuracy: 90.86 %, \tVal Loss: 0.2910, \tVal Accuracy: 89.30 % \n",
      "\n",
      "[EPOCH: 13], \tTrain Loss: 0.2354, \tTrain Accuracy: 91.22 %, \tVal Loss: 0.2777, \tVal Accuracy: 90.13 % \n",
      "\n",
      "[EPOCH: 14], \tTrain Loss: 0.2319, \tTrain Accuracy: 91.30 %, \tVal Loss: 0.3125, \tVal Accuracy: 89.19 % \n",
      "\n",
      "[EPOCH: 15], \tTrain Loss: 0.2217, \tTrain Accuracy: 91.76 %, \tVal Loss: 0.3144, \tVal Accuracy: 88.94 % \n",
      "\n"
     ]
    }
   ],
   "source": [
    "result_list = []\n",
    "for epoch in range(1, EPOCHS + 1):\n",
    "  train_loss, train_accuracy = train(model, train_loader)\n",
    "  val_loss, val_accuracy = evaluate(model, val_loader)\n",
    "  print(f\"[EPOCH: {epoch}], \\tTrain Loss: {train_loss:.4f}, \\tTrain Accuracy: {train_accuracy:.2f} %, \\tVal Loss: {val_loss:.4f}, \\tVal Accuracy: {val_accuracy:.2f} % \\n\")\n",
    "  result = {\n",
    "    'EPOCH': epoch,\n",
    "    'Train Loss': train_loss,\n",
    "    'Train Accuracy': train_accuracy,\n",
    "    'Val Loss': val_loss,\n",
    "    'Val Accuracy': val_accuracy}\n",
    "  \n",
    "  result_list.append(result)\n",
    "result_df = pd.DataFrame(result_list)"
   ]
  },
  {
   "cell_type": "code",
   "execution_count": null,
   "metadata": {
    "colab": {
     "base_uri": "https://localhost:8080/",
     "height": 336
    },
    "executionInfo": {
     "elapsed": 1181,
     "status": "ok",
     "timestamp": 1629619194683,
     "user": {
      "displayName": "이성범",
      "photoUrl": "",
      "userId": "11166281350151773159"
     },
     "user_tz": -540
    },
    "id": "lN8J06SK0Use",
    "outputId": "19e22b10-67d8-440e-e1d5-8a1b005c3dde"
   },
   "outputs": [
    {
     "data": {
      "image/png": "[encoded data removed]",
      "text/plain": [
       "<Figure size 1080x360 with 2 Axes>"
      ]
     },
     "metadata": {
      "needs_background": "light"
     },
     "output_type": "display_data"
    }
   ],
   "source": [
    "fig, axes = plt.subplots(nrows=1, ncols=2, figsize=(15, 5))\n",
    "\n",
    "axes[0].plot(result_df['EPOCH'], result_df['Train Loss'], label='Train Loss')\n",
    "axes[0].plot(result_df['EPOCH'], result_df['Val Loss'], label='Val Loss')\n",
    "axes[0].set_ylim(0.0, 1)\n",
    "axes[0].legend()\n",
    "axes[0].set_title('Loss')\n",
    "\n",
    "axes[1].plot(result_df['EPOCH'], result_df['Train Accuracy'], label='Train Accuracy')\n",
    "axes[1].plot(result_df['EPOCH'], result_df['Val Accuracy'], label='Val Accuracy')\n",
    "axes[1].set_ylim(80, 100)\n",
    "axes[1].legend()\n",
    "axes[1].set_title('ACC')\n",
    "\n",
    "plt.show()"
   ]
  },
  {
   "cell_type": "markdown",
   "metadata": {
    "id": "xj3e9wo2snij"
   },
   "source": [
    "# Regularization"
   ]
  },
  {
   "cell_type": "code",
   "execution_count": null,
   "metadata": {
    "id": "CgPtNZuq1uDl"
   },
   "outputs": [],
   "source": [
    "class Net(nn.Module):\n",
    "  def __init__(self):\n",
    "    super(Net, self).__init__()\n",
    "    self.linear1 = nn.Sequential(\n",
    "        nn.Linear(28 * 28, 512),\n",
    "        nn.BatchNorm1d(512),\n",
    "        nn.ReLU(),\n",
    "        nn.Dropout(0.2)\n",
    "    )\n",
    "    self.linear2 = nn.Sequential(\n",
    "        nn.Linear(512, 256),\n",
    "        nn.BatchNorm1d(256),\n",
    "        nn.ReLU(),\n",
    "        nn.Dropout(0.2)\n",
    "    )\n",
    "    self.linear3 = nn.Sequential(\n",
    "        nn.Linear(256, 128),\n",
    "        nn.BatchNorm1d(128),\n",
    "        nn.ReLU(),\n",
    "        nn.Dropout(0.2)\n",
    "    )\n",
    "    self.linear4 = nn.Sequential(\n",
    "        nn.Linear(128, 10)\n",
    "    )\n",
    "\n",
    "    self._init_weight_()\n",
    "\n",
    "  def _init_weight_(self):\n",
    "    for m in self.linear1:\n",
    "      if isinstance(m, nn.Linear):\n",
    "        nn.init.kaiming_uniform_(m.weight)\n",
    "\n",
    "    for m in self.linear2:\n",
    "      if isinstance(m, nn.Linear):\n",
    "        nn.init.kaiming_uniform_(m.weight)\n",
    "\n",
    "    for m in self.linear3:\n",
    "      if isinstance(m, nn.Linear):\n",
    "        nn.init.kaiming_uniform_(m.weight)\n",
    "\n",
    "  def forward(self, x):\n",
    "    x = x.view(-1, 28 * 28)\n",
    "    x = self.linear1(x)\n",
    "    x = self.linear2(x)\n",
    "    x = self.linear3(x)\n",
    "    x = self.linear4(x)\n",
    "    return x"
   ]
  },
  {
   "cell_type": "code",
   "execution_count": null,
   "metadata": {
    "colab": {
     "base_uri": "https://localhost:8080/"
    },
    "executionInfo": {
     "elapsed": 502,
     "status": "ok",
     "timestamp": 1629619229976,
     "user": {
      "displayName": "이성범",
      "photoUrl": "",
      "userId": "11166281350151773159"
     },
     "user_tz": -540
    },
    "id": "q1cJo6fO1uDm",
    "outputId": "3b8c6ca3-51f4-4f74-fd8a-14774d87c045"
   },
   "outputs": [
    {
     "name": "stdout",
     "output_type": "stream",
     "text": [
      "Net(\n",
      "  (linear1): Sequential(\n",
      "    (0): Linear(in_features=784, out_features=512, bias=True)\n",
      "    (1): BatchNorm1d(512, eps=1e-05, momentum=0.1, affine=True, track_running_stats=True)\n",
      "    (2): ReLU()\n",
      "    (3): Dropout(p=0.2, inplace=False)\n",
      "  )\n",
      "  (linear2): Sequential(\n",
      "    (0): Linear(in_features=512, out_features=256, bias=True)\n",
      "    (1): BatchNorm1d(256, eps=1e-05, momentum=0.1, affine=True, track_running_stats=True)\n",
      "    (2): ReLU()\n",
      "    (3): Dropout(p=0.2, inplace=False)\n",
      "  )\n",
      "  (linear3): Sequential(\n",
      "    (0): Linear(in_features=256, out_features=128, bias=True)\n",
      "    (1): BatchNorm1d(128, eps=1e-05, momentum=0.1, affine=True, track_running_stats=True)\n",
      "    (2): ReLU()\n",
      "    (3): Dropout(p=0.2, inplace=False)\n",
      "  )\n",
      "  (linear4): Sequential(\n",
      "    (0): Linear(in_features=128, out_features=10, bias=True)\n",
      "  )\n",
      ")\n"
     ]
    }
   ],
   "source": [
    "model = Net().to(DEVICE)\n",
    "optimizer = torch.optim.Adam(model.parameters(), lr = 0.01, weight_decay = 0.001)\n",
    "criterion = nn.CrossEntropyLoss()\n",
    "\n",
    "print(model)"
   ]
  },
  {
   "cell_type": "code",
   "execution_count": null,
   "metadata": {
    "colab": {
     "base_uri": "https://localhost:8080/"
    },
    "executionInfo": {
     "elapsed": 1381864,
     "status": "ok",
     "timestamp": 1629620611837,
     "user": {
      "displayName": "이성범",
      "photoUrl": "",
      "userId": "11166281350151773159"
     },
     "user_tz": -540
    },
    "id": "OwMdinys0VGH",
    "outputId": "9e368f54-518a-4842-e320-c7cd3361b3ca"
   },
   "outputs": [
    {
     "name": "stdout",
     "output_type": "stream",
     "text": [
      "[EPOCH: 1], \tTrain Loss: 0.6341, \tTrain Accuracy: 77.47 %, \tVal Loss: 0.5979, \tVal Accuracy: 77.86 % \n",
      "\n",
      "[EPOCH: 2], \tTrain Loss: 0.6045, \tTrain Accuracy: 78.64 %, \tVal Loss: 0.6358, \tVal Accuracy: 76.29 % \n",
      "\n",
      "[EPOCH: 3], \tTrain Loss: 0.5973, \tTrain Accuracy: 78.95 %, \tVal Loss: 0.5553, \tVal Accuracy: 79.46 % \n",
      "\n",
      "[EPOCH: 4], \tTrain Loss: 0.5959, \tTrain Accuracy: 79.01 %, \tVal Loss: 0.6302, \tVal Accuracy: 76.97 % \n",
      "\n",
      "[EPOCH: 5], \tTrain Loss: 0.5900, \tTrain Accuracy: 79.09 %, \tVal Loss: 0.5921, \tVal Accuracy: 78.33 % \n",
      "\n",
      "[EPOCH: 6], \tTrain Loss: 0.5957, \tTrain Accuracy: 79.11 %, \tVal Loss: 0.5394, \tVal Accuracy: 81.40 % \n",
      "\n",
      "[EPOCH: 7], \tTrain Loss: 0.5903, \tTrain Accuracy: 79.29 %, \tVal Loss: 0.5371, \tVal Accuracy: 81.35 % \n",
      "\n",
      "[EPOCH: 8], \tTrain Loss: 0.5881, \tTrain Accuracy: 79.51 %, \tVal Loss: 0.6010, \tVal Accuracy: 77.45 % \n",
      "\n",
      "[EPOCH: 9], \tTrain Loss: 0.5941, \tTrain Accuracy: 79.13 %, \tVal Loss: 0.5868, \tVal Accuracy: 78.76 % \n",
      "\n",
      "[EPOCH: 10], \tTrain Loss: 0.5847, \tTrain Accuracy: 79.25 %, \tVal Loss: 0.5739, \tVal Accuracy: 78.31 % \n",
      "\n",
      "[EPOCH: 11], \tTrain Loss: 0.5837, \tTrain Accuracy: 79.60 %, \tVal Loss: 0.5400, \tVal Accuracy: 81.01 % \n",
      "\n",
      "[EPOCH: 12], \tTrain Loss: 0.5864, \tTrain Accuracy: 79.44 %, \tVal Loss: 0.6285, \tVal Accuracy: 77.84 % \n",
      "\n",
      "[EPOCH: 13], \tTrain Loss: 0.5836, \tTrain Accuracy: 79.73 %, \tVal Loss: 0.5440, \tVal Accuracy: 80.44 % \n",
      "\n",
      "[EPOCH: 14], \tTrain Loss: 0.5817, \tTrain Accuracy: 79.44 %, \tVal Loss: 0.5376, \tVal Accuracy: 79.73 % \n",
      "\n",
      "[EPOCH: 15], \tTrain Loss: 0.5820, \tTrain Accuracy: 79.54 %, \tVal Loss: 0.5022, \tVal Accuracy: 82.71 % \n",
      "\n"
     ]
    }
   ],
   "source": [
    "result_list = []\n",
    "for epoch in range(1, EPOCHS + 1):\n",
    "  train_loss, train_accuracy = train(model, train_loader)\n",
    "  val_loss, val_accuracy = evaluate(model, val_loader)\n",
    "  print(f\"[EPOCH: {epoch}], \\tTrain Loss: {train_loss:.4f}, \\tTrain Accuracy: {train_accuracy:.2f} %, \\tVal Loss: {val_loss:.4f}, \\tVal Accuracy: {val_accuracy:.2f} % \\n\")\n",
    "  result = {\n",
    "    'EPOCH': epoch,\n",
    "    'Train Loss': train_loss,\n",
    "    'Train Accuracy': train_accuracy,\n",
    "    'Val Loss': val_loss,\n",
    "    'Val Accuracy': val_accuracy}\n",
    "  \n",
    "  result_list.append(result)\n",
    "result_df = pd.DataFrame(result_list)"
   ]
  },
  {
   "cell_type": "code",
   "execution_count": null,
   "metadata": {
    "colab": {
     "base_uri": "https://localhost:8080/",
     "height": 336
    },
    "executionInfo": {
     "elapsed": 8,
     "status": "ok",
     "timestamp": 1629620611837,
     "user": {
      "displayName": "이성범",
      "photoUrl": "",
      "userId": "11166281350151773159"
     },
     "user_tz": -540
    },
    "id": "GQkygs4i0VGH",
    "outputId": "c40e6589-8afa-4c7f-980b-c67efc8f7c05"
   },
   "outputs": [
    {
     "data": {
      "image/png": "[encoded data removed]",
      "text/plain": [
       "<Figure size 1080x360 with 2 Axes>"
      ]
     },
     "metadata": {
      "needs_background": "light"
     },
     "output_type": "display_data"
    }
   ],
   "source": [
    "fig, axes = plt.subplots(nrows=1, ncols=2, figsize=(15, 5))\n",
    "\n",
    "axes[0].plot(result_df['EPOCH'], result_df['Train Loss'], label='Train Loss')\n",
    "axes[0].plot(result_df['EPOCH'], result_df['Val Loss'], label='Val Loss')\n",
    "axes[0].set_ylim(0.0, 1)\n",
    "axes[0].legend()\n",
    "axes[0].set_title('Loss')\n",
    "\n",
    "axes[1].plot(result_df['EPOCH'], result_df['Train Accuracy'], label='Train Accuracy')\n",
    "axes[1].plot(result_df['EPOCH'], result_df['Val Accuracy'], label='Val Accuracy')\n",
    "axes[1].set_ylim(70, 100)\n",
    "axes[1].legend()\n",
    "axes[1].set_title('ACC')\n",
    "\n",
    "plt.show()"
   ]
  },
  {
   "cell_type": "markdown",
   "metadata": {
    "id": "dSLnNAGatnRb"
   },
   "source": [
    "# 제출"
   ]
  },
  {
   "cell_type": "code",
   "execution_count": null,
   "metadata": {
    "id": "ADxy8kMw49ts"
   },
   "outputs": [],
   "source": [
    "BATCH_SIZE = 128\n",
    "EPOCHS = 100"
   ]
  },
  {
   "cell_type": "code",
   "execution_count": null,
   "metadata": {
    "id": "DH-mIU7z49tz"
   },
   "outputs": [],
   "source": [
    "class Net(nn.Module):\n",
    "  def __init__(self):\n",
    "    super(Net, self).__init__()\n",
    "    self.linear1 = nn.Sequential(\n",
    "        nn.Linear(28 * 28, 512),\n",
    "        nn.BatchNorm1d(512),\n",
    "        nn.ReLU(),\n",
    "        nn.Dropout(0.2)\n",
    "    )\n",
    "    self.linear2 = nn.Sequential(\n",
    "        nn.Linear(512, 256),\n",
    "        nn.BatchNorm1d(256),\n",
    "        nn.ReLU(),\n",
    "        nn.Dropout(0.2)\n",
    "    )\n",
    "    self.linear3 = nn.Sequential(\n",
    "        nn.Linear(256, 128),\n",
    "        nn.BatchNorm1d(128),\n",
    "        nn.ReLU(),\n",
    "        nn.Dropout(0.2)\n",
    "    )\n",
    "    self.linear4 = nn.Sequential(\n",
    "        nn.Linear(128, 10)\n",
    "    )\n",
    "\n",
    "    self._init_weight_()\n",
    "\n",
    "  def _init_weight_(self):\n",
    "    for m in self.linear1:\n",
    "      if isinstance(m, nn.Linear):\n",
    "        nn.init.kaiming_uniform_(m.weight)\n",
    "\n",
    "    for m in self.linear2:\n",
    "      if isinstance(m, nn.Linear):\n",
    "        nn.init.kaiming_uniform_(m.weight)\n",
    "\n",
    "    for m in self.linear3:\n",
    "      if isinstance(m, nn.Linear):\n",
    "        nn.init.kaiming_uniform_(m.weight)\n",
    "\n",
    "  def forward(self, x):\n",
    "    x = x.view(-1, 28 * 28)\n",
    "    x = self.linear1(x)\n",
    "    x = self.linear2(x)\n",
    "    x = self.linear3(x)\n",
    "    x = self.linear4(x)\n",
    "    return x"
   ]
  },
  {
   "cell_type": "code",
   "execution_count": null,
   "metadata": {
    "colab": {
     "base_uri": "https://localhost:8080/"
    },
    "executionInfo": {
     "elapsed": 538,
     "status": "ok",
     "timestamp": 1629620830774,
     "user": {
      "displayName": "이성범",
      "photoUrl": "",
      "userId": "11166281350151773159"
     },
     "user_tz": -540
    },
    "id": "Qj9X1vtd49tz",
    "outputId": "25100768-7a04-4830-ae27-b76671a34c46"
   },
   "outputs": [
    {
     "name": "stdout",
     "output_type": "stream",
     "text": [
      "Net(\n",
      "  (linear1): Sequential(\n",
      "    (0): Linear(in_features=784, out_features=512, bias=True)\n",
      "    (1): BatchNorm1d(512, eps=1e-05, momentum=0.1, affine=True, track_running_stats=True)\n",
      "    (2): ReLU()\n",
      "    (3): Dropout(p=0.2, inplace=False)\n",
      "  )\n",
      "  (linear2): Sequential(\n",
      "    (0): Linear(in_features=512, out_features=256, bias=True)\n",
      "    (1): BatchNorm1d(256, eps=1e-05, momentum=0.1, affine=True, track_running_stats=True)\n",
      "    (2): ReLU()\n",
      "    (3): Dropout(p=0.2, inplace=False)\n",
      "  )\n",
      "  (linear3): Sequential(\n",
      "    (0): Linear(in_features=256, out_features=128, bias=True)\n",
      "    (1): BatchNorm1d(128, eps=1e-05, momentum=0.1, affine=True, track_running_stats=True)\n",
      "    (2): ReLU()\n",
      "    (3): Dropout(p=0.2, inplace=False)\n",
      "  )\n",
      "  (linear4): Sequential(\n",
      "    (0): Linear(in_features=128, out_features=10, bias=True)\n",
      "  )\n",
      ")\n"
     ]
    }
   ],
   "source": [
    "model = Net().to(DEVICE)\n",
    "optimizer = torch.optim.Adam(model.parameters(), lr = 0.01)\n",
    "criterion = nn.CrossEntropyLoss()\n",
    "\n",
    "print(model)"
   ]
  },
  {
   "cell_type": "code",
   "execution_count": null,
   "metadata": {
    "colab": {
     "base_uri": "https://localhost:8080/"
    },
    "executionInfo": {
     "elapsed": 745667,
     "status": "ok",
     "timestamp": 1629621576438,
     "user": {
      "displayName": "이성범",
      "photoUrl": "",
      "userId": "11166281350151773159"
     },
     "user_tz": -540
    },
    "id": "JxV_tHEm49tz",
    "outputId": "ce8802b9-19ea-4824-97d4-7e02b2158f8a"
   },
   "outputs": [
    {
     "name": "stdout",
     "output_type": "stream",
     "text": [
      "[EPOCH: 1], \tTrain Loss: 0.5250, \tTrain Accuracy: 80.93 %, \tVal Loss: 0.3712, \tVal Accuracy: 86.29 % \n",
      "\n",
      "[EPOCH: 2], \tTrain Loss: 0.4103, \tTrain Accuracy: 85.09 %, \tVal Loss: 0.3539, \tVal Accuracy: 86.85 % \n",
      "\n",
      "[EPOCH: 3], \tTrain Loss: 0.3680, \tTrain Accuracy: 86.54 %, \tVal Loss: 0.3529, \tVal Accuracy: 87.35 % \n",
      "\n",
      "[EPOCH: 4], \tTrain Loss: 0.3424, \tTrain Accuracy: 87.41 %, \tVal Loss: 0.3105, \tVal Accuracy: 88.68 % \n",
      "\n",
      "[EPOCH: 5], \tTrain Loss: 0.3236, \tTrain Accuracy: 88.07 %, \tVal Loss: 0.3140, \tVal Accuracy: 88.55 % \n",
      "\n",
      "[EPOCH: 6], \tTrain Loss: 0.3088, \tTrain Accuracy: 88.68 %, \tVal Loss: 0.3480, \tVal Accuracy: 87.02 % \n",
      "\n",
      "[EPOCH: 7], \tTrain Loss: 0.2955, \tTrain Accuracy: 89.12 %, \tVal Loss: 0.2998, \tVal Accuracy: 88.93 % \n",
      "\n",
      "[EPOCH: 8], \tTrain Loss: 0.2778, \tTrain Accuracy: 89.64 %, \tVal Loss: 0.3012, \tVal Accuracy: 89.13 % \n",
      "\n",
      "[EPOCH: 9], \tTrain Loss: 0.2711, \tTrain Accuracy: 89.93 %, \tVal Loss: 0.2966, \tVal Accuracy: 89.30 % \n",
      "\n",
      "[EPOCH: 10], \tTrain Loss: 0.2577, \tTrain Accuracy: 90.42 %, \tVal Loss: 0.3225, \tVal Accuracy: 88.50 % \n",
      "\n",
      "[EPOCH: 11], \tTrain Loss: 0.2521, \tTrain Accuracy: 90.56 %, \tVal Loss: 0.3114, \tVal Accuracy: 89.44 % \n",
      "\n",
      "[EPOCH: 12], \tTrain Loss: 0.2450, \tTrain Accuracy: 90.81 %, \tVal Loss: 0.3050, \tVal Accuracy: 89.25 % \n",
      "\n",
      "[EPOCH: 13], \tTrain Loss: 0.2328, \tTrain Accuracy: 91.30 %, \tVal Loss: 0.3587, \tVal Accuracy: 87.69 % \n",
      "\n",
      "[EPOCH: 14], \tTrain Loss: 0.2287, \tTrain Accuracy: 91.45 %, \tVal Loss: 0.3245, \tVal Accuracy: 88.74 % \n",
      "\n",
      "[EPOCH: 15], \tTrain Loss: 0.2206, \tTrain Accuracy: 91.73 %, \tVal Loss: 0.3097, \tVal Accuracy: 89.57 % \n",
      "\n",
      "[EPOCH: 16], \tTrain Loss: 0.2145, \tTrain Accuracy: 91.91 %, \tVal Loss: 0.2890, \tVal Accuracy: 89.70 % \n",
      "\n",
      "[EPOCH: 17], \tTrain Loss: 0.2056, \tTrain Accuracy: 92.15 %, \tVal Loss: 0.3541, \tVal Accuracy: 87.82 % \n",
      "\n",
      "[EPOCH: 18], \tTrain Loss: 0.1999, \tTrain Accuracy: 92.47 %, \tVal Loss: 0.3063, \tVal Accuracy: 89.98 % \n",
      "\n",
      "[EPOCH: 19], \tTrain Loss: 0.1973, \tTrain Accuracy: 92.66 %, \tVal Loss: 0.3157, \tVal Accuracy: 89.35 % \n",
      "\n",
      "[EPOCH: 20], \tTrain Loss: 0.1899, \tTrain Accuracy: 92.80 %, \tVal Loss: 0.3006, \tVal Accuracy: 89.82 % \n",
      "\n",
      "[EPOCH: 21], \tTrain Loss: 0.1889, \tTrain Accuracy: 92.92 %, \tVal Loss: 0.3152, \tVal Accuracy: 89.51 % \n",
      "\n",
      "[EPOCH: 22], \tTrain Loss: 0.1791, \tTrain Accuracy: 93.28 %, \tVal Loss: 0.3132, \tVal Accuracy: 89.89 % \n",
      "\n",
      "[EPOCH: 23], \tTrain Loss: 0.1757, \tTrain Accuracy: 93.34 %, \tVal Loss: 0.3241, \tVal Accuracy: 89.94 % \n",
      "\n",
      "[EPOCH: 24], \tTrain Loss: 0.1713, \tTrain Accuracy: 93.54 %, \tVal Loss: 0.3168, \tVal Accuracy: 89.79 % \n",
      "\n",
      "[EPOCH: 25], \tTrain Loss: 0.1649, \tTrain Accuracy: 93.80 %, \tVal Loss: 0.3172, \tVal Accuracy: 89.92 % \n",
      "\n",
      "[EPOCH: 26], \tTrain Loss: 0.1634, \tTrain Accuracy: 93.85 %, \tVal Loss: 0.3033, \tVal Accuracy: 90.38 % \n",
      "\n",
      "[EPOCH: 27], \tTrain Loss: 0.1579, \tTrain Accuracy: 94.16 %, \tVal Loss: 0.3083, \tVal Accuracy: 90.28 % \n",
      "\n",
      "[EPOCH: 28], \tTrain Loss: 0.1550, \tTrain Accuracy: 94.21 %, \tVal Loss: 0.3289, \tVal Accuracy: 89.88 % \n",
      "\n",
      "[EPOCH: 29], \tTrain Loss: 0.1517, \tTrain Accuracy: 94.31 %, \tVal Loss: 0.3296, \tVal Accuracy: 89.75 % \n",
      "\n",
      "[EPOCH: 30], \tTrain Loss: 0.1462, \tTrain Accuracy: 94.46 %, \tVal Loss: 0.3132, \tVal Accuracy: 90.37 % \n",
      "\n",
      "[EPOCH: 31], \tTrain Loss: 0.1451, \tTrain Accuracy: 94.60 %, \tVal Loss: 0.3275, \tVal Accuracy: 89.94 % \n",
      "\n",
      "[EPOCH: 32], \tTrain Loss: 0.1438, \tTrain Accuracy: 94.65 %, \tVal Loss: 0.3093, \tVal Accuracy: 90.03 % \n",
      "\n",
      "[EPOCH: 33], \tTrain Loss: 0.1394, \tTrain Accuracy: 94.71 %, \tVal Loss: 0.3355, \tVal Accuracy: 90.12 % \n",
      "\n",
      "[EPOCH: 34], \tTrain Loss: 0.1362, \tTrain Accuracy: 94.84 %, \tVal Loss: 0.3445, \tVal Accuracy: 90.10 % \n",
      "\n",
      "[EPOCH: 35], \tTrain Loss: 0.1354, \tTrain Accuracy: 94.86 %, \tVal Loss: 0.3257, \tVal Accuracy: 90.46 % \n",
      "\n",
      "[EPOCH: 36], \tTrain Loss: 0.1285, \tTrain Accuracy: 95.16 %, \tVal Loss: 0.3406, \tVal Accuracy: 90.38 % \n",
      "\n",
      "[EPOCH: 37], \tTrain Loss: 0.1277, \tTrain Accuracy: 95.18 %, \tVal Loss: 0.3296, \tVal Accuracy: 90.43 % \n",
      "\n",
      "[EPOCH: 38], \tTrain Loss: 0.1279, \tTrain Accuracy: 95.17 %, \tVal Loss: 0.3380, \tVal Accuracy: 89.95 % \n",
      "\n",
      "[EPOCH: 39], \tTrain Loss: 0.1248, \tTrain Accuracy: 95.29 %, \tVal Loss: 0.3412, \tVal Accuracy: 90.53 % \n",
      "\n",
      "[EPOCH: 40], \tTrain Loss: 0.1221, \tTrain Accuracy: 95.33 %, \tVal Loss: 0.3453, \tVal Accuracy: 90.50 % \n",
      "\n",
      "[EPOCH: 41], \tTrain Loss: 0.1179, \tTrain Accuracy: 95.60 %, \tVal Loss: 0.3291, \tVal Accuracy: 90.62 % \n",
      "\n",
      "[EPOCH: 42], \tTrain Loss: 0.1170, \tTrain Accuracy: 95.62 %, \tVal Loss: 0.3645, \tVal Accuracy: 90.53 % \n",
      "\n",
      "[EPOCH: 43], \tTrain Loss: 0.1158, \tTrain Accuracy: 95.67 %, \tVal Loss: 0.3760, \tVal Accuracy: 89.79 % \n",
      "\n",
      "[EPOCH: 44], \tTrain Loss: 0.1153, \tTrain Accuracy: 95.77 %, \tVal Loss: 0.3742, \tVal Accuracy: 89.95 % \n",
      "\n",
      "[EPOCH: 45], \tTrain Loss: 0.1108, \tTrain Accuracy: 95.81 %, \tVal Loss: 0.3627, \tVal Accuracy: 90.01 % \n",
      "\n",
      "[EPOCH: 46], \tTrain Loss: 0.1066, \tTrain Accuracy: 96.11 %, \tVal Loss: 0.3929, \tVal Accuracy: 89.40 % \n",
      "\n",
      "[EPOCH: 47], \tTrain Loss: 0.1091, \tTrain Accuracy: 95.97 %, \tVal Loss: 0.3629, \tVal Accuracy: 90.48 % \n",
      "\n",
      "[EPOCH: 48], \tTrain Loss: 0.1075, \tTrain Accuracy: 96.07 %, \tVal Loss: 0.3493, \tVal Accuracy: 90.20 % \n",
      "\n",
      "[EPOCH: 49], \tTrain Loss: 0.1072, \tTrain Accuracy: 95.93 %, \tVal Loss: 0.3712, \tVal Accuracy: 90.54 % \n",
      "\n",
      "[EPOCH: 50], \tTrain Loss: 0.1024, \tTrain Accuracy: 96.22 %, \tVal Loss: 0.3656, \tVal Accuracy: 90.36 % \n",
      "\n",
      "[EPOCH: 51], \tTrain Loss: 0.1019, \tTrain Accuracy: 96.16 %, \tVal Loss: 0.3620, \tVal Accuracy: 89.97 % \n",
      "\n",
      "[EPOCH: 52], \tTrain Loss: 0.1002, \tTrain Accuracy: 96.25 %, \tVal Loss: 0.3659, \tVal Accuracy: 90.32 % \n",
      "\n",
      "[EPOCH: 53], \tTrain Loss: 0.0948, \tTrain Accuracy: 96.39 %, \tVal Loss: 0.3914, \tVal Accuracy: 90.36 % \n",
      "\n",
      "[EPOCH: 54], \tTrain Loss: 0.1008, \tTrain Accuracy: 96.17 %, \tVal Loss: 0.3716, \tVal Accuracy: 90.24 % \n",
      "\n",
      "[EPOCH: 55], \tTrain Loss: 0.0965, \tTrain Accuracy: 96.39 %, \tVal Loss: 0.3771, \tVal Accuracy: 90.55 % \n",
      "\n",
      "[EPOCH: 56], \tTrain Loss: 0.0918, \tTrain Accuracy: 96.58 %, \tVal Loss: 0.3496, \tVal Accuracy: 90.78 % \n",
      "\n",
      "[EPOCH: 57], \tTrain Loss: 0.0921, \tTrain Accuracy: 96.62 %, \tVal Loss: 0.3665, \tVal Accuracy: 90.76 % \n",
      "\n",
      "[EPOCH: 58], \tTrain Loss: 0.0899, \tTrain Accuracy: 96.67 %, \tVal Loss: 0.3906, \tVal Accuracy: 90.39 % \n",
      "\n",
      "[EPOCH: 59], \tTrain Loss: 0.0899, \tTrain Accuracy: 96.63 %, \tVal Loss: 0.3826, \tVal Accuracy: 90.47 % \n",
      "\n",
      "[EPOCH: 60], \tTrain Loss: 0.0865, \tTrain Accuracy: 96.75 %, \tVal Loss: 0.3629, \tVal Accuracy: 90.22 % \n",
      "\n",
      "[EPOCH: 61], \tTrain Loss: 0.0872, \tTrain Accuracy: 96.79 %, \tVal Loss: 0.4160, \tVal Accuracy: 89.72 % \n",
      "\n",
      "[EPOCH: 62], \tTrain Loss: 0.0852, \tTrain Accuracy: 96.95 %, \tVal Loss: 0.4259, \tVal Accuracy: 90.05 % \n",
      "\n",
      "[EPOCH: 63], \tTrain Loss: 0.0822, \tTrain Accuracy: 97.03 %, \tVal Loss: 0.4225, \tVal Accuracy: 90.18 % \n",
      "\n",
      "[EPOCH: 64], \tTrain Loss: 0.0874, \tTrain Accuracy: 96.78 %, \tVal Loss: 0.3866, \tVal Accuracy: 90.46 % \n",
      "\n",
      "[EPOCH: 65], \tTrain Loss: 0.0841, \tTrain Accuracy: 96.91 %, \tVal Loss: 0.3744, \tVal Accuracy: 90.14 % \n",
      "\n",
      "[EPOCH: 66], \tTrain Loss: 0.0810, \tTrain Accuracy: 96.96 %, \tVal Loss: 0.3997, \tVal Accuracy: 90.31 % \n",
      "\n",
      "[EPOCH: 67], \tTrain Loss: 0.0799, \tTrain Accuracy: 97.05 %, \tVal Loss: 0.4086, \tVal Accuracy: 90.49 % \n",
      "\n",
      "[EPOCH: 68], \tTrain Loss: 0.0791, \tTrain Accuracy: 97.03 %, \tVal Loss: 0.3994, \tVal Accuracy: 89.97 % \n",
      "\n",
      "[EPOCH: 69], \tTrain Loss: 0.0796, \tTrain Accuracy: 97.15 %, \tVal Loss: 0.4055, \tVal Accuracy: 90.58 % \n",
      "\n",
      "[EPOCH: 70], \tTrain Loss: 0.0733, \tTrain Accuracy: 97.31 %, \tVal Loss: 0.4196, \tVal Accuracy: 90.50 % \n",
      "\n",
      "[EPOCH: 71], \tTrain Loss: 0.0760, \tTrain Accuracy: 97.20 %, \tVal Loss: 0.4234, \tVal Accuracy: 90.15 % \n",
      "\n",
      "[EPOCH: 72], \tTrain Loss: 0.0791, \tTrain Accuracy: 97.03 %, \tVal Loss: 0.4405, \tVal Accuracy: 89.76 % \n",
      "\n",
      "[EPOCH: 73], \tTrain Loss: 0.0770, \tTrain Accuracy: 97.14 %, \tVal Loss: 0.4262, \tVal Accuracy: 89.55 % \n",
      "\n",
      "[EPOCH: 74], \tTrain Loss: 0.0741, \tTrain Accuracy: 97.27 %, \tVal Loss: 0.4325, \tVal Accuracy: 90.11 % \n",
      "\n",
      "[EPOCH: 75], \tTrain Loss: 0.0714, \tTrain Accuracy: 97.37 %, \tVal Loss: 0.4295, \tVal Accuracy: 90.81 % \n",
      "\n",
      "[EPOCH: 76], \tTrain Loss: 0.0709, \tTrain Accuracy: 97.42 %, \tVal Loss: 0.4415, \tVal Accuracy: 90.13 % \n",
      "\n",
      "[EPOCH: 77], \tTrain Loss: 0.0751, \tTrain Accuracy: 97.22 %, \tVal Loss: 0.4236, \tVal Accuracy: 90.43 % \n",
      "\n",
      "[EPOCH: 78], \tTrain Loss: 0.0697, \tTrain Accuracy: 97.47 %, \tVal Loss: 0.3860, \tVal Accuracy: 90.53 % \n",
      "\n",
      "[EPOCH: 79], \tTrain Loss: 0.0709, \tTrain Accuracy: 97.42 %, \tVal Loss: 0.4339, \tVal Accuracy: 90.20 % \n",
      "\n",
      "[EPOCH: 80], \tTrain Loss: 0.0719, \tTrain Accuracy: 97.37 %, \tVal Loss: 0.4384, \tVal Accuracy: 90.27 % \n",
      "\n",
      "[EPOCH: 81], \tTrain Loss: 0.0680, \tTrain Accuracy: 97.53 %, \tVal Loss: 0.4268, \tVal Accuracy: 90.23 % \n",
      "\n",
      "[EPOCH: 82], \tTrain Loss: 0.0642, \tTrain Accuracy: 97.67 %, \tVal Loss: 0.4150, \tVal Accuracy: 90.87 % \n",
      "\n",
      "[EPOCH: 83], \tTrain Loss: 0.0673, \tTrain Accuracy: 97.63 %, \tVal Loss: 0.4464, \tVal Accuracy: 90.58 % \n",
      "\n",
      "[EPOCH: 84], \tTrain Loss: 0.0665, \tTrain Accuracy: 97.58 %, \tVal Loss: 0.4351, \tVal Accuracy: 89.96 % \n",
      "\n",
      "[EPOCH: 85], \tTrain Loss: 0.0650, \tTrain Accuracy: 97.63 %, \tVal Loss: 0.4290, \tVal Accuracy: 90.44 % \n",
      "\n",
      "[EPOCH: 86], \tTrain Loss: 0.0671, \tTrain Accuracy: 97.53 %, \tVal Loss: 0.4574, \tVal Accuracy: 90.38 % \n",
      "\n",
      "[EPOCH: 87], \tTrain Loss: 0.0659, \tTrain Accuracy: 97.62 %, \tVal Loss: 0.4326, \tVal Accuracy: 90.38 % \n",
      "\n",
      "[EPOCH: 88], \tTrain Loss: 0.0638, \tTrain Accuracy: 97.72 %, \tVal Loss: 0.4408, \tVal Accuracy: 90.47 % \n",
      "\n",
      "[EPOCH: 89], \tTrain Loss: 0.0650, \tTrain Accuracy: 97.64 %, \tVal Loss: 0.4493, \tVal Accuracy: 90.39 % \n",
      "\n",
      "[EPOCH: 90], \tTrain Loss: 0.0635, \tTrain Accuracy: 97.60 %, \tVal Loss: 0.4381, \tVal Accuracy: 90.44 % \n",
      "\n",
      "[EPOCH: 91], \tTrain Loss: 0.0627, \tTrain Accuracy: 97.75 %, \tVal Loss: 0.4521, \tVal Accuracy: 90.43 % \n",
      "\n",
      "[EPOCH: 92], \tTrain Loss: 0.0654, \tTrain Accuracy: 97.61 %, \tVal Loss: 0.4551, \tVal Accuracy: 90.42 % \n",
      "\n",
      "[EPOCH: 93], \tTrain Loss: 0.0610, \tTrain Accuracy: 97.88 %, \tVal Loss: 0.4405, \tVal Accuracy: 90.82 % \n",
      "\n",
      "[EPOCH: 94], \tTrain Loss: 0.0607, \tTrain Accuracy: 97.74 %, \tVal Loss: 0.4494, \tVal Accuracy: 90.34 % \n",
      "\n",
      "[EPOCH: 95], \tTrain Loss: 0.0595, \tTrain Accuracy: 97.87 %, \tVal Loss: 0.4541, \tVal Accuracy: 90.55 % \n",
      "\n",
      "[EPOCH: 96], \tTrain Loss: 0.0640, \tTrain Accuracy: 97.72 %, \tVal Loss: 0.4425, \tVal Accuracy: 90.46 % \n",
      "\n",
      "[EPOCH: 97], \tTrain Loss: 0.0614, \tTrain Accuracy: 97.81 %, \tVal Loss: 0.4414, \tVal Accuracy: 90.46 % \n",
      "\n",
      "[EPOCH: 98], \tTrain Loss: 0.0605, \tTrain Accuracy: 97.76 %, \tVal Loss: 0.4417, \tVal Accuracy: 90.29 % \n",
      "\n",
      "[EPOCH: 99], \tTrain Loss: 0.0586, \tTrain Accuracy: 97.84 %, \tVal Loss: 0.4480, \tVal Accuracy: 90.35 % \n",
      "\n",
      "[EPOCH: 100], \tTrain Loss: 0.0551, \tTrain Accuracy: 98.01 %, \tVal Loss: 0.4775, \tVal Accuracy: 90.29 % \n",
      "\n"
     ]
    }
   ],
   "source": [
    "result_list = []\n",
    "for epoch in range(1, EPOCHS + 1):\n",
    "  train_loss, train_accuracy = train(model, train_loader)\n",
    "  val_loss, val_accuracy = evaluate(model, val_loader)\n",
    "  print(f\"[EPOCH: {epoch}], \\tTrain Loss: {train_loss:.4f}, \\tTrain Accuracy: {train_accuracy:.2f} %, \\tVal Loss: {val_loss:.4f}, \\tVal Accuracy: {val_accuracy:.2f} % \\n\")\n",
    "  result = {\n",
    "    'EPOCH': epoch,\n",
    "    'Train Loss': train_loss,\n",
    "    'Train Accuracy': train_accuracy,\n",
    "    'Val Loss': val_loss,\n",
    "    'Val Accuracy': val_accuracy}\n",
    "  \n",
    "  result_list.append(result)\n",
    "result_df = pd.DataFrame(result_list)"
   ]
  },
  {
   "cell_type": "code",
   "execution_count": null,
   "metadata": {
    "colab": {
     "base_uri": "https://localhost:8080/",
     "height": 336
    },
    "executionInfo": {
     "elapsed": 890,
     "status": "ok",
     "timestamp": 1629621577317,
     "user": {
      "displayName": "이성범",
      "photoUrl": "",
      "userId": "11166281350151773159"
     },
     "user_tz": -540
    },
    "id": "dQ2cZnIY49t0",
    "outputId": "3992c162-7a13-48e0-b30a-dcb366a182b1"
   },
   "outputs": [
    {
     "data": {
      "image/png": "[encoded data removed]",
      "text/plain": [
       "<Figure size 1080x360 with 2 Axes>"
      ]
     },
     "metadata": {
      "needs_background": "light"
     },
     "output_type": "display_data"
    }
   ],
   "source": [
    "fig, axes = plt.subplots(nrows=1, ncols=2, figsize=(15, 5))\n",
    "\n",
    "axes[0].plot(result_df['EPOCH'], result_df['Train Loss'], label='Train Loss')\n",
    "axes[0].plot(result_df['EPOCH'], result_df['Val Loss'], label='Val Loss')\n",
    "axes[0].set_ylim(0.0, 1)\n",
    "axes[0].legend()\n",
    "axes[0].set_title('Loss')\n",
    "\n",
    "axes[1].plot(result_df['EPOCH'], result_df['Train Accuracy'], label='Train Accuracy')\n",
    "axes[1].plot(result_df['EPOCH'], result_df['Val Accuracy'], label='Val Accuracy')\n",
    "axes[1].set_ylim(80, 100)\n",
    "axes[1].legend()\n",
    "axes[1].set_title('ACC')\n",
    "\n",
    "plt.show()"
   ]
  },
  {
   "cell_type": "code",
   "execution_count": null,
   "metadata": {
    "colab": {
     "base_uri": "https://localhost:8080/",
     "height": 202
    },
    "executionInfo": {
     "elapsed": 8,
     "status": "ok",
     "timestamp": 1629621577317,
     "user": {
      "displayName": "이성범",
      "photoUrl": "",
      "userId": "11166281350151773159"
     },
     "user_tz": -540
    },
    "id": "P2oIdaLGtozX",
    "outputId": "48b36097-4964-45a5-d55a-cc17a9cb6a87"
   },
   "outputs": [
    {
     "data": {
      "text/html": [
       "<div>\n",
       "<style scoped>\n",
       "    .dataframe tbody tr th:only-of-type {\n",
       "        vertical-align: middle;\n",
       "    }\n",
       "\n",
       "    .dataframe tbody tr th {\n",
       "        vertical-align: top;\n",
       "    }\n",
       "\n",
       "    .dataframe thead th {\n",
       "        text-align: right;\n",
       "    }\n",
       "</style>\n",
       "<table border=\"1\" class=\"dataframe\">\n",
       "  <thead>\n",
       "    <tr style=\"text-align: right;\">\n",
       "      <th></th>\n",
       "      <th>id</th>\n",
       "      <th>label</th>\n",
       "    </tr>\n",
       "  </thead>\n",
       "  <tbody>\n",
       "    <tr>\n",
       "      <th>0</th>\n",
       "      <td>0</td>\n",
       "      <td>6</td>\n",
       "    </tr>\n",
       "    <tr>\n",
       "      <th>1</th>\n",
       "      <td>1</td>\n",
       "      <td>4</td>\n",
       "    </tr>\n",
       "    <tr>\n",
       "      <th>2</th>\n",
       "      <td>2</td>\n",
       "      <td>0</td>\n",
       "    </tr>\n",
       "    <tr>\n",
       "      <th>3</th>\n",
       "      <td>3</td>\n",
       "      <td>6</td>\n",
       "    </tr>\n",
       "    <tr>\n",
       "      <th>4</th>\n",
       "      <td>4</td>\n",
       "      <td>0</td>\n",
       "    </tr>\n",
       "  </tbody>\n",
       "</table>\n",
       "</div>"
      ],
      "text/plain": [
       "   id  label\n",
       "0   0      6\n",
       "1   1      4\n",
       "2   2      0\n",
       "3   3      6\n",
       "4   4      0"
      ]
     },
     "execution_count": 27,
     "metadata": {},
     "output_type": "execute_result"
    }
   ],
   "source": [
    "pred_label = pred(model, test_loader)\n",
    "\n",
    "submission['label'] = pred_label\n",
    "\n",
    "submission.to_csv(data_dir + 'BaseLine_Model.csv', index = False)\n",
    "\n",
    "submission.head()"
   ]
  },
  {
   "cell_type": "code",
   "execution_count": null,
   "metadata": {
    "id": "UwCKGN68-Jzw"
   },
   "outputs": [],
   "source": []
  }
 ],
 "metadata": {
  "accelerator": "GPU",
  "colab": {
   "collapsed_sections": [],
   "name": "Week7_NN심화_BaseLine_Model.ipynb",
   "provenance": []
  },
  "kernelspec": {
   "display_name": "Python 3",
   "language": "python",
   "name": "python3"
  },
  "language_info": {
   "name": "python"
  },
  "toc": {
   "base_numbering": 1,
   "nav_menu": {},
   "number_sections": true,
   "sideBar": true,
   "skip_h1_title": false,
   "title_cell": "Table of Contents",
   "title_sidebar": "Contents",
   "toc_cell": false,
   "toc_position": {},
   "toc_section_display": true,
   "toc_window_display": false
  }
 },
 "nbformat": 4,
 "nbformat_minor": 1
}
