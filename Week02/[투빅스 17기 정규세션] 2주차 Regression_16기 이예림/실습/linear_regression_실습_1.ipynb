{
 "cells": [
  {
   "cell_type": "markdown",
   "metadata": {
    "id": "qWxRTqQPYd44"
   },
   "source": [
    "# **선형회귀 모델 구축**\n",
    "1. 설명 : 선형 회귀 모델을 구축해 통계적 해석\n",
    "2. 예측 : 새로운 Input (X)에 대한 미래의 Output (Y) 예측 / 평가\n"
   ]
  },
  {
   "cell_type": "code",
   "execution_count": 4,
   "metadata": {},
   "outputs": [
    {
     "name": "stdout",
     "output_type": "stream",
     "text": [
      "Collecting package metadata (current_repodata.json): done\n",
      "Solving environment: done\n",
      "\n",
      "\n",
      "==> WARNING: A newer version of conda exists. <==\n",
      "  current version: 4.10.3\n",
      "  latest version: 4.11.0\n",
      "\n",
      "Please update conda by running\n",
      "\n",
      "    $ conda update -n base -c defaults conda\n",
      "\n",
      "\n",
      "\n",
      "# All requested packages already installed.\n",
      "\n",
      "\n",
      "Note: you may need to restart the kernel to use updated packages.\n"
     ]
    }
   ],
   "source": [
    "conda install statsmodels"
   ]
  },
  {
   "cell_type": "markdown",
   "metadata": {
    "id": "fhvU-q2sagQ5"
   },
   "source": [
    "## **모듈 불러오기**"
   ]
  },
  {
   "cell_type": "code",
   "execution_count": 5,
   "metadata": {
    "id": "X4l1NbpQYCEr"
   },
   "outputs": [],
   "source": [
    "%matplotlib inline \n",
    "\n",
    "#실습용 데이터\n",
    "from sklearn.datasets import load_boston\n",
    "\n",
    "#데이터 전처리\n",
    "import pandas as pd\n",
    "import numpy as np\n",
    "\n",
    "\n",
    "#머신러닝 모델 구축 / 평가\n",
    "import scipy as sp\n",
    "import scipy.stats as stats\n",
    "\n",
    "import statsmodels.api as sm\n",
    "from statsmodels.formula.api import ols\n",
    "\n",
    "from sklearn.model_selection import train_test_split\n",
    "from sklearn.metrics import mean_squared_error,r2_score,mean_absolute_error\n",
    "\n",
    "#데이터 시각화\n",
    "import seaborn as sns\n",
    "import matplotlib.pyplot as plt\n",
    "import matplotlib.font_manager as fm\n",
    "\n",
    "#한글 폰트\n",
    "plt.style.use('seaborn')\n",
    "plt.rc('font', family='DejaVu Sans')\n",
    "plt.rc('axes', unicode_minus=False)"
   ]
  },
  {
   "cell_type": "markdown",
   "metadata": {
    "id": "QPHQ3gY-YZKc"
   },
   "source": [
    "## **Data** \n",
    ": 1978년 보스턴 주택 가격에 대한 데이터 "
   ]
  },
  {
   "cell_type": "markdown",
   "metadata": {
    "id": "TtdqfhW4bioy"
   },
   "source": [
    "1. 구조\n",
    "* 506 X 14\n",
    "* 관측치 : 506개\n",
    "* 설명 변수 (X) : 13개 \n",
    "* 반응 변수 (Y) : 1개 "
   ]
  },
  {
   "cell_type": "code",
   "execution_count": 6,
   "metadata": {
    "colab": {
     "base_uri": "https://localhost:8080/"
    },
    "id": "dmL07-WzYQ5S",
    "outputId": "0848d286-cc00-4105-805f-b68658aaf436"
   },
   "outputs": [
    {
     "name": "stdout",
     "output_type": "stream",
     "text": [
      ".. _boston_dataset:\n",
      "\n",
      "Boston house prices dataset\n",
      "---------------------------\n",
      "\n",
      "**Data Set Characteristics:**  \n",
      "\n",
      "    :Number of Instances: 506 \n",
      "\n",
      "    :Number of Attributes: 13 numeric/categorical predictive. Median Value (attribute 14) is usually the target.\n",
      "\n",
      "    :Attribute Information (in order):\n",
      "        - CRIM     per capita crime rate by town\n",
      "        - ZN       proportion of residential land zoned for lots over 25,000 sq.ft.\n",
      "        - INDUS    proportion of non-retail business acres per town\n",
      "        - CHAS     Charles River dummy variable (= 1 if tract bounds river; 0 otherwise)\n",
      "        - NOX      nitric oxides concentration (parts per 10 million)\n",
      "        - RM       average number of rooms per dwelling\n",
      "        - AGE      proportion of owner-occupied units built prior to 1940\n",
      "        - DIS      weighted distances to five Boston employment centres\n",
      "        - RAD      index of accessibility to radial highways\n",
      "        - TAX      full-value property-tax rate per $10,000\n",
      "        - PTRATIO  pupil-teacher ratio by town\n",
      "        - B        1000(Bk - 0.63)^2 where Bk is the proportion of black people by town\n",
      "        - LSTAT    % lower status of the population\n",
      "        - MEDV     Median value of owner-occupied homes in $1000's\n",
      "\n",
      "    :Missing Attribute Values: None\n",
      "\n",
      "    :Creator: Harrison, D. and Rubinfeld, D.L.\n",
      "\n",
      "This is a copy of UCI ML housing dataset.\n",
      "https://archive.ics.uci.edu/ml/machine-learning-databases/housing/\n",
      "\n",
      "\n",
      "This dataset was taken from the StatLib library which is maintained at Carnegie Mellon University.\n",
      "\n",
      "The Boston house-price data of Harrison, D. and Rubinfeld, D.L. 'Hedonic\n",
      "prices and the demand for clean air', J. Environ. Economics & Management,\n",
      "vol.5, 81-102, 1978.   Used in Belsley, Kuh & Welsch, 'Regression diagnostics\n",
      "...', Wiley, 1980.   N.B. Various transformations are used in the table on\n",
      "pages 244-261 of the latter.\n",
      "\n",
      "The Boston house-price data has been used in many machine learning papers that address regression\n",
      "problems.   \n",
      "     \n",
      ".. topic:: References\n",
      "\n",
      "   - Belsley, Kuh & Welsch, 'Regression diagnostics: Identifying Influential Data and Sources of Collinearity', Wiley, 1980. 244-261.\n",
      "   - Quinlan,R. (1993). Combining Instance-Based and Model-Based Learning. In Proceedings on the Tenth International Conference of Machine Learning, 236-243, University of Massachusetts, Amherst. Morgan Kaufmann.\n",
      "\n"
     ]
    }
   ],
   "source": [
    "boston=load_boston()\n",
    "print(boston.DESCR) #data set에 대한 설명"
   ]
  },
  {
   "cell_type": "code",
   "execution_count": 7,
   "metadata": {
    "colab": {
     "base_uri": "https://localhost:8080/"
    },
    "id": "enXeXap8dLGE",
    "outputId": "4e498bed-a996-4aa2-b0e9-da155869ad0d"
   },
   "outputs": [
    {
     "data": {
      "text/plain": [
       "array([[6.3200e-03, 1.8000e+01, 2.3100e+00, ..., 1.5300e+01, 3.9690e+02,\n",
       "        4.9800e+00],\n",
       "       [2.7310e-02, 0.0000e+00, 7.0700e+00, ..., 1.7800e+01, 3.9690e+02,\n",
       "        9.1400e+00],\n",
       "       [2.7290e-02, 0.0000e+00, 7.0700e+00, ..., 1.7800e+01, 3.9283e+02,\n",
       "        4.0300e+00],\n",
       "       ...,\n",
       "       [6.0760e-02, 0.0000e+00, 1.1930e+01, ..., 2.1000e+01, 3.9690e+02,\n",
       "        5.6400e+00],\n",
       "       [1.0959e-01, 0.0000e+00, 1.1930e+01, ..., 2.1000e+01, 3.9345e+02,\n",
       "        6.4800e+00],\n",
       "       [4.7410e-02, 0.0000e+00, 1.1930e+01, ..., 2.1000e+01, 3.9690e+02,\n",
       "        7.8800e+00]])"
      ]
     },
     "execution_count": 7,
     "metadata": {},
     "output_type": "execute_result"
    }
   ],
   "source": [
    "boston.data"
   ]
  },
  {
   "cell_type": "code",
   "execution_count": 20,
   "metadata": {
    "colab": {
     "base_uri": "https://localhost:8080/"
    },
    "id": "POYnxrAJdaOe",
    "outputId": "7ea05ad7-df98-4335-c7b6-b260f11acea6"
   },
   "outputs": [
    {
     "data": {
      "text/plain": [
       "array([24. , 21.6, 34.7, 33.4, 36.2, 28.7, 22.9, 27.1, 16.5, 18.9, 15. ,\n",
       "       18.9, 21.7, 20.4, 18.2, 19.9, 23.1, 17.5, 20.2, 18.2, 13.6, 19.6,\n",
       "       15.2, 14.5, 15.6, 13.9, 16.6, 14.8, 18.4, 21. , 12.7, 14.5, 13.2,\n",
       "       13.1, 13.5, 18.9, 20. , 21. , 24.7, 30.8, 34.9, 26.6, 25.3, 24.7,\n",
       "       21.2, 19.3, 20. , 16.6, 14.4, 19.4, 19.7, 20.5, 25. , 23.4, 18.9,\n",
       "       35.4, 24.7, 31.6, 23.3, 19.6, 18.7, 16. , 22.2, 25. , 33. , 23.5,\n",
       "       19.4, 22. , 17.4, 20.9, 24.2, 21.7, 22.8, 23.4, 24.1, 21.4, 20. ,\n",
       "       20.8, 21.2, 20.3, 28. , 23.9, 24.8, 22.9, 23.9, 26.6, 22.5, 22.2,\n",
       "       23.6, 28.7, 22.6, 22. , 22.9, 25. , 20.6, 28.4, 21.4, 38.7, 43.8,\n",
       "       33.2, 27.5, 26.5, 18.6, 19.3, 20.1, 19.5, 19.5, 20.4, 19.8, 19.4,\n",
       "       21.7, 22.8, 18.8, 18.7, 18.5, 18.3, 21.2, 19.2, 20.4, 19.3, 22. ,\n",
       "       20.3, 20.5, 17.3, 18.8, 21.4, 15.7, 16.2, 18. , 14.3, 19.2, 19.6,\n",
       "       23. , 18.4, 15.6, 18.1, 17.4, 17.1, 13.3, 17.8, 14. , 14.4, 13.4,\n",
       "       15.6, 11.8, 13.8, 15.6, 14.6, 17.8, 15.4, 21.5, 19.6, 15.3, 19.4,\n",
       "       17. , 15.6, 13.1, 41.3, 24.3, 23.3, 27. , 50. , 50. , 50. , 22.7,\n",
       "       25. , 50. , 23.8, 23.8, 22.3, 17.4, 19.1, 23.1, 23.6, 22.6, 29.4,\n",
       "       23.2, 24.6, 29.9, 37.2, 39.8, 36.2, 37.9, 32.5, 26.4, 29.6, 50. ,\n",
       "       32. , 29.8, 34.9, 37. , 30.5, 36.4, 31.1, 29.1, 50. , 33.3, 30.3,\n",
       "       34.6, 34.9, 32.9, 24.1, 42.3, 48.5, 50. , 22.6, 24.4, 22.5, 24.4,\n",
       "       20. , 21.7, 19.3, 22.4, 28.1, 23.7, 25. , 23.3, 28.7, 21.5, 23. ,\n",
       "       26.7, 21.7, 27.5, 30.1, 44.8, 50. , 37.6, 31.6, 46.7, 31.5, 24.3,\n",
       "       31.7, 41.7, 48.3, 29. , 24. , 25.1, 31.5, 23.7, 23.3, 22. , 20.1,\n",
       "       22.2, 23.7, 17.6, 18.5, 24.3, 20.5, 24.5, 26.2, 24.4, 24.8, 29.6,\n",
       "       42.8, 21.9, 20.9, 44. , 50. , 36. , 30.1, 33.8, 43.1, 48.8, 31. ,\n",
       "       36.5, 22.8, 30.7, 50. , 43.5, 20.7, 21.1, 25.2, 24.4, 35.2, 32.4,\n",
       "       32. , 33.2, 33.1, 29.1, 35.1, 45.4, 35.4, 46. , 50. , 32.2, 22. ,\n",
       "       20.1, 23.2, 22.3, 24.8, 28.5, 37.3, 27.9, 23.9, 21.7, 28.6, 27.1,\n",
       "       20.3, 22.5, 29. , 24.8, 22. , 26.4, 33.1, 36.1, 28.4, 33.4, 28.2,\n",
       "       22.8, 20.3, 16.1, 22.1, 19.4, 21.6, 23.8, 16.2, 17.8, 19.8, 23.1,\n",
       "       21. , 23.8, 23.1, 20.4, 18.5, 25. , 24.6, 23. , 22.2, 19.3, 22.6,\n",
       "       19.8, 17.1, 19.4, 22.2, 20.7, 21.1, 19.5, 18.5, 20.6, 19. , 18.7,\n",
       "       32.7, 16.5, 23.9, 31.2, 17.5, 17.2, 23.1, 24.5, 26.6, 22.9, 24.1,\n",
       "       18.6, 30.1, 18.2, 20.6, 17.8, 21.7, 22.7, 22.6, 25. , 19.9, 20.8,\n",
       "       16.8, 21.9, 27.5, 21.9, 23.1, 50. , 50. , 50. , 50. , 50. , 13.8,\n",
       "       13.8, 15. , 13.9, 13.3, 13.1, 10.2, 10.4, 10.9, 11.3, 12.3,  8.8,\n",
       "        7.2, 10.5,  7.4, 10.2, 11.5, 15.1, 23.2,  9.7, 13.8, 12.7, 13.1,\n",
       "       12.5,  8.5,  5. ,  6.3,  5.6,  7.2, 12.1,  8.3,  8.5,  5. , 11.9,\n",
       "       27.9, 17.2, 27.5, 15. , 17.2, 17.9, 16.3,  7. ,  7.2,  7.5, 10.4,\n",
       "        8.8,  8.4, 16.7, 14.2, 20.8, 13.4, 11.7,  8.3, 10.2, 10.9, 11. ,\n",
       "        9.5, 14.5, 14.1, 16.1, 14.3, 11.7, 13.4,  9.6,  8.7,  8.4, 12.8,\n",
       "       10.5, 17.1, 18.4, 15.4, 10.8, 11.8, 14.9, 12.6, 14.1, 13. , 13.4,\n",
       "       15.2, 16.1, 17.8, 14.9, 14.1, 12.7, 13.5, 14.9, 20. , 16.4, 17.7,\n",
       "       19.5, 20.2, 21.4, 19.9, 19. , 19.1, 19.1, 20.1, 19.9, 19.6, 23.2,\n",
       "       29.8, 13.8, 13.3, 16.7, 12. , 14.6, 21.4, 23. , 23.7, 25. , 21.8,\n",
       "       20.6, 21.2, 19.1, 20.6, 15.2,  7. ,  8.1, 13.6, 20.1, 21.8, 24.5,\n",
       "       23.1, 19.7, 18.3, 21.2, 17.5, 16.8, 22.4, 20.6, 23.9, 22. , 11.9])"
      ]
     },
     "execution_count": 20,
     "metadata": {},
     "output_type": "execute_result"
    }
   ],
   "source": [
    "boston.target #data의 y값 확인"
   ]
  },
  {
   "cell_type": "code",
   "execution_count": 21,
   "metadata": {
    "colab": {
     "base_uri": "https://localhost:8080/"
    },
    "id": "DIrktRbYdcbm",
    "outputId": "a20740ac-263d-491e-b80e-ed4273a073eb"
   },
   "outputs": [
    {
     "data": {
      "text/plain": [
       "array(['CRIM', 'ZN', 'INDUS', 'CHAS', 'NOX', 'RM', 'AGE', 'DIS', 'RAD',\n",
       "       'TAX', 'PTRATIO', 'B', 'LSTAT'], dtype='<U7')"
      ]
     },
     "execution_count": 21,
     "metadata": {},
     "output_type": "execute_result"
    }
   ],
   "source": [
    "boston.feature_names #data 설명변수명(X) 확인"
   ]
  },
  {
   "cell_type": "code",
   "execution_count": 22,
   "metadata": {
    "colab": {
     "base_uri": "https://localhost:8080/"
    },
    "id": "ykYesGJ_dj8K",
    "outputId": "04f7faf4-4c56-4499-dc58-5c6c7f2bd407"
   },
   "outputs": [
    {
     "data": {
      "text/plain": [
       "(506, 13)"
      ]
     },
     "execution_count": 22,
     "metadata": {},
     "output_type": "execute_result"
    }
   ],
   "source": [
    "boston.data.shape #data 설명변수 shape 확인"
   ]
  },
  {
   "cell_type": "code",
   "execution_count": 23,
   "metadata": {
    "id": "1_rhjaIBd2lb"
   },
   "outputs": [],
   "source": [
    "#data frame 형태로 변환\n",
    "X=pd.DataFrame(boston.data,columns=boston.feature_names)\n",
    "y=pd.DataFrame(boston.target,columns=[\"MEDV\"])"
   ]
  },
  {
   "cell_type": "code",
   "execution_count": 24,
   "metadata": {
    "colab": {
     "base_uri": "https://localhost:8080/",
     "height": 222
    },
    "id": "Zr9SuEpweVz9",
    "outputId": "69808413-727a-4c2e-e3d3-87bd5b038e08"
   },
   "outputs": [
    {
     "data": {
      "text/html": [
       "<div>\n",
       "<style scoped>\n",
       "    .dataframe tbody tr th:only-of-type {\n",
       "        vertical-align: middle;\n",
       "    }\n",
       "\n",
       "    .dataframe tbody tr th {\n",
       "        vertical-align: top;\n",
       "    }\n",
       "\n",
       "    .dataframe thead th {\n",
       "        text-align: right;\n",
       "    }\n",
       "</style>\n",
       "<table border=\"1\" class=\"dataframe\">\n",
       "  <thead>\n",
       "    <tr style=\"text-align: right;\">\n",
       "      <th></th>\n",
       "      <th>CRIM</th>\n",
       "      <th>ZN</th>\n",
       "      <th>INDUS</th>\n",
       "      <th>CHAS</th>\n",
       "      <th>NOX</th>\n",
       "      <th>RM</th>\n",
       "      <th>AGE</th>\n",
       "      <th>DIS</th>\n",
       "      <th>RAD</th>\n",
       "      <th>TAX</th>\n",
       "      <th>PTRATIO</th>\n",
       "      <th>B</th>\n",
       "      <th>LSTAT</th>\n",
       "    </tr>\n",
       "  </thead>\n",
       "  <tbody>\n",
       "    <tr>\n",
       "      <th>0</th>\n",
       "      <td>0.00632</td>\n",
       "      <td>18.0</td>\n",
       "      <td>2.31</td>\n",
       "      <td>0.0</td>\n",
       "      <td>0.538</td>\n",
       "      <td>6.575</td>\n",
       "      <td>65.2</td>\n",
       "      <td>4.0900</td>\n",
       "      <td>1.0</td>\n",
       "      <td>296.0</td>\n",
       "      <td>15.3</td>\n",
       "      <td>396.90</td>\n",
       "      <td>4.98</td>\n",
       "    </tr>\n",
       "    <tr>\n",
       "      <th>1</th>\n",
       "      <td>0.02731</td>\n",
       "      <td>0.0</td>\n",
       "      <td>7.07</td>\n",
       "      <td>0.0</td>\n",
       "      <td>0.469</td>\n",
       "      <td>6.421</td>\n",
       "      <td>78.9</td>\n",
       "      <td>4.9671</td>\n",
       "      <td>2.0</td>\n",
       "      <td>242.0</td>\n",
       "      <td>17.8</td>\n",
       "      <td>396.90</td>\n",
       "      <td>9.14</td>\n",
       "    </tr>\n",
       "    <tr>\n",
       "      <th>2</th>\n",
       "      <td>0.02729</td>\n",
       "      <td>0.0</td>\n",
       "      <td>7.07</td>\n",
       "      <td>0.0</td>\n",
       "      <td>0.469</td>\n",
       "      <td>7.185</td>\n",
       "      <td>61.1</td>\n",
       "      <td>4.9671</td>\n",
       "      <td>2.0</td>\n",
       "      <td>242.0</td>\n",
       "      <td>17.8</td>\n",
       "      <td>392.83</td>\n",
       "      <td>4.03</td>\n",
       "    </tr>\n",
       "    <tr>\n",
       "      <th>3</th>\n",
       "      <td>0.03237</td>\n",
       "      <td>0.0</td>\n",
       "      <td>2.18</td>\n",
       "      <td>0.0</td>\n",
       "      <td>0.458</td>\n",
       "      <td>6.998</td>\n",
       "      <td>45.8</td>\n",
       "      <td>6.0622</td>\n",
       "      <td>3.0</td>\n",
       "      <td>222.0</td>\n",
       "      <td>18.7</td>\n",
       "      <td>394.63</td>\n",
       "      <td>2.94</td>\n",
       "    </tr>\n",
       "    <tr>\n",
       "      <th>4</th>\n",
       "      <td>0.06905</td>\n",
       "      <td>0.0</td>\n",
       "      <td>2.18</td>\n",
       "      <td>0.0</td>\n",
       "      <td>0.458</td>\n",
       "      <td>7.147</td>\n",
       "      <td>54.2</td>\n",
       "      <td>6.0622</td>\n",
       "      <td>3.0</td>\n",
       "      <td>222.0</td>\n",
       "      <td>18.7</td>\n",
       "      <td>396.90</td>\n",
       "      <td>5.33</td>\n",
       "    </tr>\n",
       "  </tbody>\n",
       "</table>\n",
       "</div>"
      ],
      "text/plain": [
       "      CRIM    ZN  INDUS  CHAS    NOX     RM   AGE     DIS  RAD    TAX  \\\n",
       "0  0.00632  18.0   2.31   0.0  0.538  6.575  65.2  4.0900  1.0  296.0   \n",
       "1  0.02731   0.0   7.07   0.0  0.469  6.421  78.9  4.9671  2.0  242.0   \n",
       "2  0.02729   0.0   7.07   0.0  0.469  7.185  61.1  4.9671  2.0  242.0   \n",
       "3  0.03237   0.0   2.18   0.0  0.458  6.998  45.8  6.0622  3.0  222.0   \n",
       "4  0.06905   0.0   2.18   0.0  0.458  7.147  54.2  6.0622  3.0  222.0   \n",
       "\n",
       "   PTRATIO       B  LSTAT  \n",
       "0     15.3  396.90   4.98  \n",
       "1     17.8  396.90   9.14  \n",
       "2     17.8  392.83   4.03  \n",
       "3     18.7  394.63   2.94  \n",
       "4     18.7  396.90   5.33  "
      ]
     },
     "execution_count": 24,
     "metadata": {},
     "output_type": "execute_result"
    }
   ],
   "source": [
    "X.head() # X 상위 5개"
   ]
  },
  {
   "cell_type": "code",
   "execution_count": 25,
   "metadata": {
    "colab": {
     "base_uri": "https://localhost:8080/",
     "height": 202
    },
    "id": "VGO2XNI-ebj4",
    "outputId": "d904d41b-b8f4-47f1-9aa3-3490e2ee0a1a"
   },
   "outputs": [
    {
     "data": {
      "text/html": [
       "<div>\n",
       "<style scoped>\n",
       "    .dataframe tbody tr th:only-of-type {\n",
       "        vertical-align: middle;\n",
       "    }\n",
       "\n",
       "    .dataframe tbody tr th {\n",
       "        vertical-align: top;\n",
       "    }\n",
       "\n",
       "    .dataframe thead th {\n",
       "        text-align: right;\n",
       "    }\n",
       "</style>\n",
       "<table border=\"1\" class=\"dataframe\">\n",
       "  <thead>\n",
       "    <tr style=\"text-align: right;\">\n",
       "      <th></th>\n",
       "      <th>MEDV</th>\n",
       "    </tr>\n",
       "  </thead>\n",
       "  <tbody>\n",
       "    <tr>\n",
       "      <th>0</th>\n",
       "      <td>24.0</td>\n",
       "    </tr>\n",
       "    <tr>\n",
       "      <th>1</th>\n",
       "      <td>21.6</td>\n",
       "    </tr>\n",
       "    <tr>\n",
       "      <th>2</th>\n",
       "      <td>34.7</td>\n",
       "    </tr>\n",
       "    <tr>\n",
       "      <th>3</th>\n",
       "      <td>33.4</td>\n",
       "    </tr>\n",
       "    <tr>\n",
       "      <th>4</th>\n",
       "      <td>36.2</td>\n",
       "    </tr>\n",
       "  </tbody>\n",
       "</table>\n",
       "</div>"
      ],
      "text/plain": [
       "   MEDV\n",
       "0  24.0\n",
       "1  21.6\n",
       "2  34.7\n",
       "3  33.4\n",
       "4  36.2"
      ]
     },
     "execution_count": 25,
     "metadata": {},
     "output_type": "execute_result"
    }
   ],
   "source": [
    "y.head() # y 상위 5개"
   ]
  },
  {
   "cell_type": "markdown",
   "metadata": {
    "id": "gd6jiZf-e48g"
   },
   "source": [
    "\n",
    "## **train / test set 나누기**"
   ]
  },
  {
   "cell_type": "code",
   "execution_count": 26,
   "metadata": {
    "id": "sMEnATzOeiZ6"
   },
   "outputs": [],
   "source": [
    "X_train,X_test,y_train,y_test=train_test_split(X,y,test_size=0.2,random_state=2021)"
   ]
  },
  {
   "cell_type": "markdown",
   "metadata": {
    "id": "c4m10gFgfKFe"
   },
   "source": [
    "# **선형회귀 모델 구축**\n",
    "statsmodels의 OLS를 이용해 선형회귀분석 시행\n",
    "* OLS : 잔차제곱합(RSS : Residual Sum of Squares) 최소화하는 회귀 계수 구하기"
   ]
  },
  {
   "cell_type": "markdown",
   "metadata": {
    "id": "fXtgJnLlf4ev"
   },
   "source": [
    "### **선형회귀 모델 가정 확인**"
   ]
  },
  {
   "cell_type": "code",
   "execution_count": 29,
   "metadata": {
    "id": "_NCBahbefIWu"
   },
   "outputs": [],
   "source": [
    "X_train=sm.add_constant(X_train) #beta_0 값이 될 변수 만들기\n",
    "model=sm.OLS(y_train,X_train,axis=1)\n",
    "model_trained=model.fit()"
   ]
  },
  {
   "cell_type": "markdown",
   "metadata": {
    "id": "18XTyYg-gj6d"
   },
   "source": [
    "#### 1. 확률 오차의 정규성 확인\n",
    "빨간색 실선을 잘 따라가는 것을 보아 확률오차가 정규성을 잘 따라 가는 것을 알 수 있음"
   ]
  },
  {
   "cell_type": "code",
   "execution_count": 30,
   "metadata": {
    "colab": {
     "base_uri": "https://localhost:8080/",
     "height": 705
    },
    "id": "5QSubQdYf1_-",
    "outputId": "ac7105d2-8754-4789-e25f-41f6a14bedbd"
   },
   "outputs": [
    {
     "data": {
      "image/png": "[encoded data removed]",
      "text/plain": [
       "<Figure size 576x396 with 1 Axes>"
      ]
     },
     "execution_count": 30,
     "metadata": {},
     "output_type": "execute_result"
    },
    {
     "data": {
      "image/png": "[encoded data removed]",
      "text/plain": [
       "<Figure size 576x396 with 1 Axes>"
      ]
     },
     "metadata": {},
     "output_type": "display_data"
    }
   ],
   "source": [
    "model_residuals=model_trained.resid\n",
    "\n",
    "plt.rcParams[\"axes.unicode_minus\"]=False #폰트 깨짐 방지\n",
    "sm.ProbPlot(model_residuals).qqplot(line=\"s\")"
   ]
  },
  {
   "cell_type": "markdown",
   "metadata": {
    "id": "kIFuAMRLjL2N"
   },
   "source": [
    "#### 2. 확률 오차의 등분산성 확인\n",
    "어느정도 일직선을 따라가는 경향을 보임"
   ]
  },
  {
   "cell_type": "code",
   "execution_count": 32,
   "metadata": {
    "colab": {
     "base_uri": "https://localhost:8080/",
     "height": 449
    },
    "id": "hh1x4A8IhJ-T",
    "outputId": "be4fc2ac-ca5a-4c85-f06f-c533714fa00b"
   },
   "outputs": [
    {
     "name": "stderr",
     "output_type": "stream",
     "text": [
      "/Users/yejinlee/opt/anaconda3/envs/practice_tensorflow/lib/python3.7/site-packages/seaborn/_decorators.py:43: FutureWarning: Pass the following variables as keyword args: x, y. From version 0.12, the only valid positional argument will be `data`, and passing other arguments without an explicit keyword will result in an error or misinterpretation.\n",
      "  FutureWarning\n"
     ]
    },
    {
     "data": {
      "text/plain": [
       "Text(0, 0.5, 'residuals')"
      ]
     },
     "execution_count": 32,
     "metadata": {},
     "output_type": "execute_result"
    },
    {
     "data": {
      "image/png": "[encoded data removed]",
      "text/plain": [
       "<Figure size 576x396 with 1 Axes>"
      ]
     },
     "metadata": {},
     "output_type": "display_data"
    }
   ],
   "source": [
    "model_fitted_y=model_trained.fittedvalues\n",
    "\n",
    "sns.residplot(model_fitted_y, y_train,data=X_train, lowess=True, scatter_kws={\"alpha\":0.5},line_kws={\"color\":\"red\"})\n",
    "\n",
    "plt.title(\"residuals vs Fitted\")\n",
    "plt.xlabel(\"fitted values\")\n",
    "plt.ylabel(\"residuals\")"
   ]
  },
  {
   "cell_type": "markdown",
   "metadata": {
    "id": "KZ_Oll8klfRY"
   },
   "source": [
    "### **설명 : 통계적인 해석**\n",
    "* R-squared : 모형의 성능\n",
    "* coef (회귀계수) : X가 1 단위 증가함에 따른 y의 변화량\n",
    "* p-value : 0.05 (유의 수준) 이하일 때 변수 유의미"
   ]
  },
  {
   "cell_type": "code",
   "execution_count": 34,
   "metadata": {
    "colab": {
     "base_uri": "https://localhost:8080/"
    },
    "id": "rTOqwo6Sj51A",
    "outputId": "9fcd6d38-d410-4f27-c228-b07d63906571"
   },
   "outputs": [
    {
     "name": "stdout",
     "output_type": "stream",
     "text": [
      "                            OLS Regression Results                            \n",
      "==============================================================================\n",
      "Dep. Variable:                   MEDV   R-squared:                       0.756\n",
      "Model:                            OLS   Adj. R-squared:                  0.748\n",
      "Method:                 Least Squares   F-statistic:                     93.01\n",
      "Date:                Wed, 02 Feb 2022   Prob (F-statistic):          1.02e-110\n",
      "Time:                        13:59:05   Log-Likelihood:                -1196.3\n",
      "No. Observations:                 404   AIC:                             2421.\n",
      "Df Residuals:                     390   BIC:                             2477.\n",
      "Df Model:                          13                                         \n",
      "Covariance Type:            nonrobust                                         \n",
      "==============================================================================\n",
      "                 coef    std err          t      P>|t|      [0.025      0.975]\n",
      "------------------------------------------------------------------------------\n",
      "const         35.0744      5.844      6.002      0.000      23.585      46.564\n",
      "CRIM          -0.1146      0.034     -3.419      0.001      -0.180      -0.049\n",
      "ZN             0.0532      0.015      3.488      0.001       0.023       0.083\n",
      "INDUS          0.0033      0.068      0.048      0.962      -0.131       0.138\n",
      "CHAS           3.5085      1.013      3.464      0.001       1.517       5.500\n",
      "NOX          -18.1357      4.211     -4.307      0.000     -26.414      -9.857\n",
      "RM             3.8252      0.478      8.011      0.000       2.886       4.764\n",
      "AGE            0.0111      0.015      0.714      0.476      -0.019       0.042\n",
      "DIS           -1.5300      0.227     -6.731      0.000      -1.977      -1.083\n",
      "RAD            0.3392      0.071      4.747      0.000       0.199       0.480\n",
      "TAX           -0.0119      0.004     -2.918      0.004      -0.020      -0.004\n",
      "PTRATIO       -0.8842      0.149     -5.920      0.000      -1.178      -0.591\n",
      "B              0.0095      0.003      3.227      0.001       0.004       0.015\n",
      "LSTAT         -0.5782      0.059     -9.850      0.000      -0.694      -0.463\n",
      "==============================================================================\n",
      "Omnibus:                      137.227   Durbin-Watson:                   1.873\n",
      "Prob(Omnibus):                  0.000   Jarque-Bera (JB):              530.658\n",
      "Skew:                           1.475   Prob(JB):                    5.88e-116\n",
      "Kurtosis:                       7.777   Cond. No.                     1.55e+04\n",
      "==============================================================================\n",
      "\n",
      "Notes:\n",
      "[1] Standard Errors assume that the covariance matrix of the errors is correctly specified.\n",
      "[2] The condition number is large, 1.55e+04. This might indicate that there are\n",
      "strong multicollinearity or other numerical problems.\n"
     ]
    }
   ],
   "source": [
    "print(model_trained.summary()) #통계량 제공됨"
   ]
  },
  {
   "cell_type": "markdown",
   "metadata": {
    "id": "uFRW5LItmOBm"
   },
   "source": [
    "상대적으로 p-value 값이 높은 변수 값 제거 : `INDUS`,`AGE` "
   ]
  },
  {
   "cell_type": "code",
   "execution_count": 35,
   "metadata": {
    "colab": {
     "base_uri": "https://localhost:8080/"
    },
    "id": "RFpdo2XWl-6M",
    "outputId": "7b5aff0d-107e-41b9-a27b-acd177c36d22"
   },
   "outputs": [
    {
     "name": "stdout",
     "output_type": "stream",
     "text": [
      "                            OLS Regression Results                            \n",
      "==============================================================================\n",
      "Dep. Variable:                   MEDV   R-squared:                       0.756\n",
      "Model:                            OLS   Adj. R-squared:                  0.749\n",
      "Method:                 Least Squares   F-statistic:                     110.3\n",
      "Date:                Wed, 02 Feb 2022   Prob (F-statistic):          1.19e-112\n",
      "Time:                        13:59:19   Log-Likelihood:                -1196.5\n",
      "No. Observations:                 404   AIC:                             2417.\n",
      "Df Residuals:                     392   BIC:                             2465.\n",
      "Df Model:                          11                                         \n",
      "Covariance Type:            nonrobust                                         \n",
      "==============================================================================\n",
      "                 coef    std err          t      P>|t|      [0.025      0.975]\n",
      "------------------------------------------------------------------------------\n",
      "const         34.6295      5.783      5.988      0.000      23.260      45.999\n",
      "CRIM          -0.1149      0.033     -3.441      0.001      -0.181      -0.049\n",
      "ZN             0.0522      0.015      3.449      0.001       0.022       0.082\n",
      "CHAS           3.5374      1.007      3.514      0.000       1.558       5.516\n",
      "NOX          -17.2688      3.883     -4.447      0.000     -24.903      -9.635\n",
      "RM             3.9019      0.463      8.426      0.000       2.991       4.812\n",
      "DIS           -1.5845      0.208     -7.603      0.000      -1.994      -1.175\n",
      "RAD            0.3354      0.068      4.931      0.000       0.202       0.469\n",
      "TAX           -0.0118      0.004     -3.253      0.001      -0.019      -0.005\n",
      "PTRATIO       -0.8708      0.146     -5.949      0.000      -1.159      -0.583\n",
      "B              0.0097      0.003      3.293      0.001       0.004       0.015\n",
      "LSTAT         -0.5624      0.054    -10.385      0.000      -0.669      -0.456\n",
      "==============================================================================\n",
      "Omnibus:                      141.554   Durbin-Watson:                   1.873\n",
      "Prob(Omnibus):                  0.000   Jarque-Bera (JB):              569.018\n",
      "Skew:                           1.511   Prob(JB):                    2.75e-124\n",
      "Kurtosis:                       7.967   Cond. No.                     1.50e+04\n",
      "==============================================================================\n",
      "\n",
      "Notes:\n",
      "[1] Standard Errors assume that the covariance matrix of the errors is correctly specified.\n",
      "[2] The condition number is large, 1.5e+04. This might indicate that there are\n",
      "strong multicollinearity or other numerical problems.\n"
     ]
    }
   ],
   "source": [
    "model=sm.OLS(y_train,X_train.drop([\"INDUS\",\"AGE\"],axis=1))\n",
    "model_trained=model.fit()\n",
    "print(model_trained.summary())"
   ]
  },
  {
   "cell_type": "markdown",
   "metadata": {
    "id": "RNQFnQzenEWX"
   },
   "source": [
    "성능에 직접적인 개선은 없지만 다른 통계량에 대한 유의미한 해석 이루어질 수 있음"
   ]
  },
  {
   "cell_type": "markdown",
   "metadata": {
    "id": "NSVnnaIwnUZ6"
   },
   "source": [
    "### **예측 : 미래의 반응변수 값 예측**"
   ]
  },
  {
   "cell_type": "code",
   "execution_count": 36,
   "metadata": {
    "colab": {
     "base_uri": "https://localhost:8080/",
     "height": 513
    },
    "id": "eW2d3c_Hm0U_",
    "outputId": "04b45cbd-70ae-44e4-c938-4b6c7eeb64c2"
   },
   "outputs": [
    {
     "data": {
      "image/png": "[encoded data removed]",
      "text/plain": [
       "<Figure size 576x576 with 1 Axes>"
      ]
     },
     "metadata": {},
     "output_type": "display_data"
    }
   ],
   "source": [
    "#train하는 부분\n",
    "y_train_pred=model_trained.fittedvalues\n",
    "\n",
    "plt.figure(figsize=(8,8))\n",
    "plt.title(\"true value vs predict value\")\n",
    "plt.scatter(y_train,y_train_pred)\n",
    "plt.plot([-5,55],[-5,55],ls=\"--\",c=\"red\")\n",
    "plt.xlabel(\"true value\")\n",
    "plt.ylabel(\"predict value\")\n",
    "plt.xlim(-5,55)\n",
    "plt.ylim(-5,55)\n",
    "plt.show()\n",
    "\n",
    "#일직선을 따르면 어느정도 정확한 예측을 함"
   ]
  },
  {
   "cell_type": "markdown",
   "metadata": {
    "id": "LokQciP9qTId"
   },
   "source": [
    "test set에 대한 train 진행"
   ]
  },
  {
   "cell_type": "code",
   "execution_count": 37,
   "metadata": {
    "id": "bH3z23uyn5IH"
   },
   "outputs": [],
   "source": [
    "X_test=sm.add_constant(X_test)"
   ]
  },
  {
   "cell_type": "code",
   "execution_count": 38,
   "metadata": {
    "colab": {
     "base_uri": "https://localhost:8080/"
    },
    "id": "6tdiqI65oibt",
    "outputId": "0a84c350-3770-40e7-ae3c-c0e78d7008f8"
   },
   "outputs": [
    {
     "data": {
      "text/plain": [
       "210    22.787949\n",
       "24     15.482380\n",
       "36     22.346630\n",
       "439    13.433993\n",
       "161    36.890921\n",
       "dtype: float64"
      ]
     },
     "execution_count": 38,
     "metadata": {},
     "output_type": "execute_result"
    }
   ],
   "source": [
    "y_test_pred=model_trained.predict(X_test.drop([\"INDUS\",\"AGE\"],axis=1))\n",
    "y_test_pred.head()"
   ]
  },
  {
   "cell_type": "markdown",
   "metadata": {
    "id": "UjNCSqM7qQGd"
   },
   "source": [
    "모델의 성능을 평가하는 정량적인 지표들"
   ]
  },
  {
   "cell_type": "markdown",
   "metadata": {
    "id": "d83RVr0xp8xg"
   },
   "source": [
    "#### **R squared (결정계수)**"
   ]
  },
  {
   "cell_type": "markdown",
   "metadata": {
    "id": "uLfcCOd26vNe"
   },
   "source": [
    "![image.png](data:image/png;base64,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)"
   ]
  },
  {
   "cell_type": "code",
   "execution_count": 39,
   "metadata": {
    "colab": {
     "base_uri": "https://localhost:8080/"
    },
    "id": "ToDgtB8Tp5kn",
    "outputId": "bfc3ba1c-4a0d-46da-c957-6dd97f71d305"
   },
   "outputs": [
    {
     "name": "stdout",
     "output_type": "stream",
     "text": [
      "0.638940321549958\n"
     ]
    }
   ],
   "source": [
    "print(r2_score(y_test,y_test_pred))"
   ]
  },
  {
   "cell_type": "markdown",
   "metadata": {
    "id": "jeUhDk0Do7fP"
   },
   "source": [
    "#### **평균제곱오차**"
   ]
  },
  {
   "cell_type": "markdown",
   "metadata": {
    "id": "lXLJycH87BJQ"
   },
   "source": [
    "![image.png](data:image/png;base64,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)"
   ]
  },
  {
   "cell_type": "code",
   "execution_count": 40,
   "metadata": {
    "colab": {
     "base_uri": "https://localhost:8080/"
    },
    "id": "kVEeHbR1ou1w",
    "outputId": "822e4e8e-f679-4fbc-d8f9-defadb083a1b"
   },
   "outputs": [
    {
     "name": "stdout",
     "output_type": "stream",
     "text": [
      "23.063158240353737\n"
     ]
    }
   ],
   "source": [
    "print(mean_squared_error(y_test,y_test_pred))"
   ]
  },
  {
   "cell_type": "markdown",
   "metadata": {
    "id": "1kvJQ2X2pI2F"
   },
   "source": [
    "#### **제곱근 평균 제곱 오차**"
   ]
  },
  {
   "cell_type": "markdown",
   "metadata": {
    "id": "msA4W1qx7OEa"
   },
   "source": [
    "![image.png](data:image/png;base64,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)"
   ]
  },
  {
   "cell_type": "code",
   "execution_count": 42,
   "metadata": {
    "colab": {
     "base_uri": "https://localhost:8080/"
    },
    "id": "f5FKH3InpHPI",
    "outputId": "63d71c60-6265-4fad-94d5-4a94f4d398c9"
   },
   "outputs": [
    {
     "name": "stdout",
     "output_type": "stream",
     "text": [
      "4.802411710833812\n"
     ]
    }
   ],
   "source": [
    "print(np.sqrt(mean_squared_error(y_test,y_test_pred)))"
   ]
  },
  {
   "cell_type": "markdown",
   "metadata": {
    "id": "pXWxxVhCpUxP"
   },
   "source": [
    "#### **평균 절대 오차**"
   ]
  },
  {
   "cell_type": "markdown",
   "metadata": {
    "id": "hUdVeD7S7Uq5"
   },
   "source": [
    "![image.png](data:image/png;base64,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)"
   ]
  },
  {
   "cell_type": "code",
   "execution_count": 43,
   "metadata": {
    "colab": {
     "base_uri": "https://localhost:8080/"
    },
    "id": "GtKmty0DpS4O",
    "outputId": "15786649-1535-4eac-a848-090901dc7875"
   },
   "outputs": [
    {
     "name": "stdout",
     "output_type": "stream",
     "text": [
      "3.512302350895111\n"
     ]
    }
   ],
   "source": [
    "print(mean_absolute_error(y_test,y_test_pred))"
   ]
  },
  {
   "cell_type": "markdown",
   "metadata": {
    "id": "nVzK9WRbpfTZ"
   },
   "source": [
    "#### **평균 절대 백분율 오차**"
   ]
  },
  {
   "cell_type": "markdown",
   "metadata": {
    "id": "dvWYYvaD7vIa"
   },
   "source": [
    "![image.png](data:image/png;base64,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)"
   ]
  },
  {
   "cell_type": "code",
   "execution_count": 44,
   "metadata": {
    "colab": {
     "base_uri": "https://localhost:8080/"
    },
    "id": "nX1Ur90vpce2",
    "outputId": "aae248a7-0734-45de-f298-68c44f0124c0"
   },
   "outputs": [
    {
     "name": "stdout",
     "output_type": "stream",
     "text": [
      "3.512302350895111\n"
     ]
    }
   ],
   "source": [
    "def mean_absolute_percentage_error(y_true,y_pred):\n",
    "    y_true,y_pred=np.array(y_true),np.array(y_pred)\n",
    "    return np.mean(np.abs((y_true-y_pred)/y_true))*100\n",
    "\n",
    "print(mean_absolute_error(y_test,y_test_pred))"
   ]
  },
  {
   "cell_type": "markdown",
   "metadata": {
    "id": "Qd4I77XDqiEv"
   },
   "source": [
    "##### **결과 정리**"
   ]
  },
  {
   "cell_type": "code",
   "execution_count": 45,
   "metadata": {
    "colab": {
     "base_uri": "https://localhost:8080/"
    },
    "id": "Zr7Wf-t5qIQy",
    "outputId": "097a7a05-c7ed-44cb-ba1b-5cc949cf77e1"
   },
   "outputs": [
    {
     "name": "stdout",
     "output_type": "stream",
     "text": [
      "Training MSE : 21.881\n",
      "Training RMSE : 4.678\n",
      "Training MAE : 3.315\n",
      "Training MAPE : 51.174\n",
      "Training R2 : 0.756\n"
     ]
    }
   ],
   "source": [
    "print(\"Training MSE : {:.3f}\".format(mean_squared_error(y_train,y_train_pred)))\n",
    "print(\"Training RMSE : {:.3f}\".format(np.sqrt(mean_squared_error(y_train,y_train_pred))))\n",
    "print(\"Training MAE : {:.3f}\".format(mean_absolute_error(y_train,y_train_pred)))\n",
    "print(\"Training MAPE : {:.3f}\".format(mean_absolute_percentage_error(y_train,y_train_pred)))\n",
    "print(\"Training R2 : {:.3f}\".format(r2_score(y_train,y_train_pred)))"
   ]
  },
  {
   "cell_type": "code",
   "execution_count": 46,
   "metadata": {
    "colab": {
     "base_uri": "https://localhost:8080/"
    },
    "id": "3_toYRC7qyxv",
    "outputId": "bb2fabc2-b89e-45ad-f96b-88452953834d"
   },
   "outputs": [
    {
     "name": "stdout",
     "output_type": "stream",
     "text": [
      "Testing MSE : 23.063\n",
      "Testing RMSE : 4.802\n",
      "Testing MAE : 3.512\n",
      "Testing MAPE : 43.946\n",
      "Testing R2 : 0.639\n"
     ]
    }
   ],
   "source": [
    "print(\"Testing MSE : {:.3f}\".format(mean_squared_error(y_test,y_test_pred)))\n",
    "print(\"Testing RMSE : {:.3f}\".format(np.sqrt(mean_squared_error(y_test,y_test_pred))))\n",
    "print(\"Testing MAE : {:.3f}\".format(mean_absolute_error(y_test,y_test_pred)))\n",
    "print(\"Testing MAPE : {:.3f}\".format(mean_absolute_percentage_error(y_test,y_test_pred)))\n",
    "print(\"Testing R2 : {:.3f}\".format(r2_score(y_test,y_test_pred)))"
   ]
  },
  {
   "cell_type": "markdown",
   "metadata": {
    "id": "T6ogwRsiszDs"
   },
   "source": [
    "## StatModels vs Sklearn\n",
    "* statModels : 통계분석 도구\n",
    "옵션이 다양하지 않지만 검증된 통계 및 계량 도구 제공\n",
    "* sklearn : 데이터분석 도구\n",
    "개발 속도, 많은 유저들 사용, \n",
    "회귀, 분류 등에 대한 간단하고 용이한 알고리즘 제공"
   ]
  },
  {
   "cell_type": "code",
   "execution_count": 47,
   "metadata": {
    "id": "4m8yVrC0shhd"
   },
   "outputs": [],
   "source": [
    "from sklearn.linear_model import LinearRegression\n",
    "import statsmodels.api as sm"
   ]
  },
  {
   "cell_type": "code",
   "execution_count": 48,
   "metadata": {
    "id": "L63G47iKtrsp"
   },
   "outputs": [],
   "source": [
    "lr_skl=LinearRegression(fit_intercept=False)\n",
    "lr_skl.fit(X_train,y_train)\n",
    "y_pred_skl=lr_skl.predict(X_test)\n",
    "\n",
    "lr_stat=sm.OLS(y_train,X_train).fit()\n",
    "y_pred_stat=lr_stat.predict(X_test)"
   ]
  },
  {
   "cell_type": "code",
   "execution_count": 49,
   "metadata": {
    "colab": {
     "base_uri": "https://localhost:8080/"
    },
    "id": "SeyKd28xt1Kc",
    "outputId": "f19ec2e6-ae66-4bf9-db30-a7fbd353cfbf"
   },
   "outputs": [
    {
     "name": "stdout",
     "output_type": "stream",
     "text": [
      "Testing MSE : 23.300\n",
      "Testing RMSE : 4.827\n",
      "Testing MAE : 3.519\n",
      "Testing MAPE : 43.914\n",
      "Testing R2 : 0.635\n"
     ]
    }
   ],
   "source": [
    "#statModel 결과\n",
    "test_mse_stat=mean_squared_error(y_test,y_pred_stat)\n",
    "test_rmse_stat=np.sqrt(mean_squared_error(y_test,y_pred_stat))\n",
    "test_mae_stat=mean_absolute_error(y_test,y_pred_stat)\n",
    "test_mape_stat=mean_absolute_percentage_error(y_test,y_pred_stat)\n",
    "test_r2_stat=r2_score(y_test,y_pred_stat)\n",
    "\n",
    "print(\"Testing MSE : {:.3f}\".format(test_mse_stat))\n",
    "print(\"Testing RMSE : {:.3f}\".format(test_rmse_stat))\n",
    "print(\"Testing MAE : {:.3f}\".format(test_mae_stat))\n",
    "print(\"Testing MAPE : {:.3f}\".format(test_mape_stat))\n",
    "print(\"Testing R2 : {:.3f}\".format(test_r2_stat))"
   ]
  },
  {
   "cell_type": "code",
   "execution_count": 50,
   "metadata": {
    "colab": {
     "base_uri": "https://localhost:8080/"
    },
    "id": "uwjhHXy1u2mm",
    "outputId": "71b831b7-5ddb-458a-c5b7-ae68e6f534da"
   },
   "outputs": [
    {
     "name": "stdout",
     "output_type": "stream",
     "text": [
      "Testing MSE : 23.300\n",
      "Testing RMSE : 4.827\n",
      "Testing MAE : 3.519\n",
      "Testing MAPE : 17.366\n",
      "Testing R2 : 0.635\n"
     ]
    }
   ],
   "source": [
    "#Sklearn 결과\n",
    "test_mse_skl=mean_squared_error(y_test,y_pred_skl)\n",
    "test_rmse_skl=np.sqrt(mean_squared_error(y_test,y_pred_skl))\n",
    "test_mae_skl=mean_absolute_error(y_test,y_pred_skl)\n",
    "test_mape_skl=mean_absolute_percentage_error(y_test,y_pred_skl)\n",
    "test_r2_skl=r2_score(y_test,y_pred_skl)\n",
    "\n",
    "print(\"Testing MSE : {:.3f}\".format(test_mse_skl))\n",
    "print(\"Testing RMSE : {:.3f}\".format(test_rmse_skl))\n",
    "print(\"Testing MAE : {:.3f}\".format(test_mae_skl))\n",
    "print(\"Testing MAPE : {:.3f}\".format(test_mape_skl))\n",
    "print(\"Testing R2 : {:.3f}\".format(test_r2_skl))"
   ]
  },
  {
   "cell_type": "code",
   "execution_count": null,
   "metadata": {
    "id": "WHND61aRvMxE"
   },
   "outputs": [],
   "source": []
  },
  {
   "cell_type": "code",
   "execution_count": null,
   "metadata": {},
   "outputs": [],
   "source": []
  }
 ],
 "metadata": {
  "colab": {
   "name": "linear_regression_실습_1.ipynb",
   "provenance": []
  },
  "kernelspec": {
   "display_name": "Python 3",
   "language": "python",
   "name": "python3"
  },
  "language_info": {
   "codemirror_mode": {
    "name": "ipython",
    "version": 3
   },
   "file_extension": ".py",
   "mimetype": "text/x-python",
   "name": "python",
   "nbconvert_exporter": "python",
   "pygments_lexer": "ipython3",
   "version": "3.7.10"
  },
  "toc": {
   "base_numbering": 1,
   "nav_menu": {},
   "number_sections": true,
   "sideBar": true,
   "skip_h1_title": false,
   "title_cell": "Table of Contents",
   "title_sidebar": "Contents",
   "toc_cell": false,
   "toc_position": {},
   "toc_section_display": true,
   "toc_window_display": false
  }
 },
 "nbformat": 4,
 "nbformat_minor": 1
}
