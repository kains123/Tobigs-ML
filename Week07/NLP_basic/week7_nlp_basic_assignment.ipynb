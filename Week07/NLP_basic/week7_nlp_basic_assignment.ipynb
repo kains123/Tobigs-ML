{
  "cells": [
    {
      "cell_type": "markdown",
      "metadata": {
        "id": "Jg59dPdMiRlw"
      },
      "source": [
        "# NLP 기초 Assignment\n",
        "## NLP 맛보기 - spam.csv를 가지고 유의미한 해석을 도출해주세요!"
      ]
    },
    {
      "cell_type": "code",
      "execution_count": 1,
      "metadata": {
        "colab": {
          "base_uri": "https://localhost:8080/"
        },
        "id": "SDqMzCzUiRlz",
        "outputId": "638374b5-b912-465d-8f78-c6b37c9da569"
      },
      "outputs": [
        {
          "output_type": "stream",
          "name": "stdout",
          "text": [
            "Collecting glove_python_binary\n",
            "  Downloading glove_python_binary-0.2.0-cp37-cp37m-manylinux1_x86_64.whl (948 kB)\n",
            "\u001b[?25l\r\u001b[K     |▍                               | 10 kB 20.1 MB/s eta 0:00:01\r\u001b[K     |▊                               | 20 kB 23.5 MB/s eta 0:00:01\r\u001b[K     |█                               | 30 kB 22.4 MB/s eta 0:00:01\r\u001b[K     |█▍                              | 40 kB 14.8 MB/s eta 0:00:01\r\u001b[K     |█▊                              | 51 kB 12.5 MB/s eta 0:00:01\r\u001b[K     |██                              | 61 kB 14.5 MB/s eta 0:00:01\r\u001b[K     |██▍                             | 71 kB 12.5 MB/s eta 0:00:01\r\u001b[K     |██▊                             | 81 kB 13.0 MB/s eta 0:00:01\r\u001b[K     |███                             | 92 kB 13.7 MB/s eta 0:00:01\r\u001b[K     |███▌                            | 102 kB 12.9 MB/s eta 0:00:01\r\u001b[K     |███▉                            | 112 kB 12.9 MB/s eta 0:00:01\r\u001b[K     |████▏                           | 122 kB 12.9 MB/s eta 0:00:01\r\u001b[K     |████▌                           | 133 kB 12.9 MB/s eta 0:00:01\r\u001b[K     |████▉                           | 143 kB 12.9 MB/s eta 0:00:01\r\u001b[K     |█████▏                          | 153 kB 12.9 MB/s eta 0:00:01\r\u001b[K     |█████▌                          | 163 kB 12.9 MB/s eta 0:00:01\r\u001b[K     |█████▉                          | 174 kB 12.9 MB/s eta 0:00:01\r\u001b[K     |██████▏                         | 184 kB 12.9 MB/s eta 0:00:01\r\u001b[K     |██████▋                         | 194 kB 12.9 MB/s eta 0:00:01\r\u001b[K     |███████                         | 204 kB 12.9 MB/s eta 0:00:01\r\u001b[K     |███████▎                        | 215 kB 12.9 MB/s eta 0:00:01\r\u001b[K     |███████▋                        | 225 kB 12.9 MB/s eta 0:00:01\r\u001b[K     |████████                        | 235 kB 12.9 MB/s eta 0:00:01\r\u001b[K     |████████▎                       | 245 kB 12.9 MB/s eta 0:00:01\r\u001b[K     |████████▋                       | 256 kB 12.9 MB/s eta 0:00:01\r\u001b[K     |█████████                       | 266 kB 12.9 MB/s eta 0:00:01\r\u001b[K     |█████████▎                      | 276 kB 12.9 MB/s eta 0:00:01\r\u001b[K     |█████████▊                      | 286 kB 12.9 MB/s eta 0:00:01\r\u001b[K     |██████████                      | 296 kB 12.9 MB/s eta 0:00:01\r\u001b[K     |██████████▍                     | 307 kB 12.9 MB/s eta 0:00:01\r\u001b[K     |██████████▊                     | 317 kB 12.9 MB/s eta 0:00:01\r\u001b[K     |███████████                     | 327 kB 12.9 MB/s eta 0:00:01\r\u001b[K     |███████████▍                    | 337 kB 12.9 MB/s eta 0:00:01\r\u001b[K     |███████████▊                    | 348 kB 12.9 MB/s eta 0:00:01\r\u001b[K     |████████████                    | 358 kB 12.9 MB/s eta 0:00:01\r\u001b[K     |████████████▍                   | 368 kB 12.9 MB/s eta 0:00:01\r\u001b[K     |████████████▊                   | 378 kB 12.9 MB/s eta 0:00:01\r\u001b[K     |█████████████▏                  | 389 kB 12.9 MB/s eta 0:00:01\r\u001b[K     |█████████████▌                  | 399 kB 12.9 MB/s eta 0:00:01\r\u001b[K     |█████████████▉                  | 409 kB 12.9 MB/s eta 0:00:01\r\u001b[K     |██████████████▏                 | 419 kB 12.9 MB/s eta 0:00:01\r\u001b[K     |██████████████▌                 | 430 kB 12.9 MB/s eta 0:00:01\r\u001b[K     |██████████████▉                 | 440 kB 12.9 MB/s eta 0:00:01\r\u001b[K     |███████████████▏                | 450 kB 12.9 MB/s eta 0:00:01\r\u001b[K     |███████████████▌                | 460 kB 12.9 MB/s eta 0:00:01\r\u001b[K     |███████████████▉                | 471 kB 12.9 MB/s eta 0:00:01\r\u001b[K     |████████████████▎               | 481 kB 12.9 MB/s eta 0:00:01\r\u001b[K     |████████████████▋               | 491 kB 12.9 MB/s eta 0:00:01\r\u001b[K     |█████████████████               | 501 kB 12.9 MB/s eta 0:00:01\r\u001b[K     |█████████████████▎              | 512 kB 12.9 MB/s eta 0:00:01\r\u001b[K     |█████████████████▋              | 522 kB 12.9 MB/s eta 0:00:01\r\u001b[K     |██████████████████              | 532 kB 12.9 MB/s eta 0:00:01\r\u001b[K     |██████████████████▎             | 542 kB 12.9 MB/s eta 0:00:01\r\u001b[K     |██████████████████▋             | 552 kB 12.9 MB/s eta 0:00:01\r\u001b[K     |███████████████████             | 563 kB 12.9 MB/s eta 0:00:01\r\u001b[K     |███████████████████▍            | 573 kB 12.9 MB/s eta 0:00:01\r\u001b[K     |███████████████████▊            | 583 kB 12.9 MB/s eta 0:00:01\r\u001b[K     |████████████████████            | 593 kB 12.9 MB/s eta 0:00:01\r\u001b[K     |████████████████████▍           | 604 kB 12.9 MB/s eta 0:00:01\r\u001b[K     |████████████████████▊           | 614 kB 12.9 MB/s eta 0:00:01\r\u001b[K     |█████████████████████           | 624 kB 12.9 MB/s eta 0:00:01\r\u001b[K     |█████████████████████▍          | 634 kB 12.9 MB/s eta 0:00:01\r\u001b[K     |█████████████████████▊          | 645 kB 12.9 MB/s eta 0:00:01\r\u001b[K     |██████████████████████          | 655 kB 12.9 MB/s eta 0:00:01\r\u001b[K     |██████████████████████▌         | 665 kB 12.9 MB/s eta 0:00:01\r\u001b[K     |██████████████████████▉         | 675 kB 12.9 MB/s eta 0:00:01\r\u001b[K     |███████████████████████▏        | 686 kB 12.9 MB/s eta 0:00:01\r\u001b[K     |███████████████████████▌        | 696 kB 12.9 MB/s eta 0:00:01\r\u001b[K     |███████████████████████▉        | 706 kB 12.9 MB/s eta 0:00:01\r\u001b[K     |████████████████████████▏       | 716 kB 12.9 MB/s eta 0:00:01\r\u001b[K     |████████████████████████▌       | 727 kB 12.9 MB/s eta 0:00:01\r\u001b[K     |████████████████████████▉       | 737 kB 12.9 MB/s eta 0:00:01\r\u001b[K     |█████████████████████████▏      | 747 kB 12.9 MB/s eta 0:00:01\r\u001b[K     |█████████████████████████▌      | 757 kB 12.9 MB/s eta 0:00:01\r\u001b[K     |██████████████████████████      | 768 kB 12.9 MB/s eta 0:00:01\r\u001b[K     |██████████████████████████▎     | 778 kB 12.9 MB/s eta 0:00:01\r\u001b[K     |██████████████████████████▋     | 788 kB 12.9 MB/s eta 0:00:01\r\u001b[K     |███████████████████████████     | 798 kB 12.9 MB/s eta 0:00:01\r\u001b[K     |███████████████████████████▎    | 808 kB 12.9 MB/s eta 0:00:01\r\u001b[K     |███████████████████████████▋    | 819 kB 12.9 MB/s eta 0:00:01\r\u001b[K     |████████████████████████████    | 829 kB 12.9 MB/s eta 0:00:01\r\u001b[K     |████████████████████████████▎   | 839 kB 12.9 MB/s eta 0:00:01\r\u001b[K     |████████████████████████████▋   | 849 kB 12.9 MB/s eta 0:00:01\r\u001b[K     |█████████████████████████████   | 860 kB 12.9 MB/s eta 0:00:01\r\u001b[K     |█████████████████████████████▍  | 870 kB 12.9 MB/s eta 0:00:01\r\u001b[K     |█████████████████████████████▊  | 880 kB 12.9 MB/s eta 0:00:01\r\u001b[K     |██████████████████████████████  | 890 kB 12.9 MB/s eta 0:00:01\r\u001b[K     |██████████████████████████████▍ | 901 kB 12.9 MB/s eta 0:00:01\r\u001b[K     |██████████████████████████████▊ | 911 kB 12.9 MB/s eta 0:00:01\r\u001b[K     |███████████████████████████████ | 921 kB 12.9 MB/s eta 0:00:01\r\u001b[K     |███████████████████████████████▍| 931 kB 12.9 MB/s eta 0:00:01\r\u001b[K     |███████████████████████████████▊| 942 kB 12.9 MB/s eta 0:00:01\r\u001b[K     |████████████████████████████████| 948 kB 12.9 MB/s \n",
            "\u001b[?25hRequirement already satisfied: numpy in /usr/local/lib/python3.7/dist-packages (from glove_python_binary) (1.21.5)\n",
            "Requirement already satisfied: scipy in /usr/local/lib/python3.7/dist-packages (from glove_python_binary) (1.4.1)\n",
            "Installing collected packages: glove-python-binary\n",
            "Successfully installed glove-python-binary-0.2.0\n"
          ]
        }
      ],
      "source": [
        "# 필요한 모듈 불러오기\n",
        "import pandas as pd\n",
        "!pip install glove_python_binary"
      ]
    },
    {
      "cell_type": "code",
      "source": [
        "# 필요한 라이브러리들 올리기\n",
        "# 사용할 라이브러리들이 import되어있어야 사용할 수 있습니다. \n",
        "import gensim\n",
        "from gensim.models import Word2Vec, FastText\n",
        "import scipy.stats as st\n",
        "\n",
        "import matplotlib.pyplot as plt\n",
        "import seaborn as sns\n",
        "\n",
        "import pandas as pd\n",
        "import re\n",
        "import nltk\n",
        "nltk.download('punkt')\n",
        "from nltk import word_tokenize\n",
        "from nltk.corpus import stopwords\n",
        "nltk.download('stopwords')"
      ],
      "metadata": {
        "colab": {
          "base_uri": "https://localhost:8080/"
        },
        "id": "dUJnArVgi8P8",
        "outputId": "f8bdcb07-c176-4b3e-c7eb-005e1519af7c"
      },
      "execution_count": 2,
      "outputs": [
        {
          "output_type": "stream",
          "name": "stdout",
          "text": [
            "[nltk_data] Downloading package punkt to /root/nltk_data...\n",
            "[nltk_data]   Unzipping tokenizers/punkt.zip.\n",
            "[nltk_data] Downloading package stopwords to /root/nltk_data...\n",
            "[nltk_data]   Unzipping corpora/stopwords.zip.\n"
          ]
        },
        {
          "output_type": "execute_result",
          "data": {
            "text/plain": [
              "True"
            ]
          },
          "metadata": {},
          "execution_count": 2
        }
      ]
    },
    {
      "cell_type": "code",
      "source": [
        "from google.colab import drive\n",
        "drive.mount('/content/drive')"
      ],
      "metadata": {
        "colab": {
          "base_uri": "https://localhost:8080/"
        },
        "id": "sDdRKenIgbNQ",
        "outputId": "09b6cf60-412e-457d-cad5-e2253f1031b6"
      },
      "execution_count": 12,
      "outputs": [
        {
          "output_type": "stream",
          "name": "stdout",
          "text": [
            "Mounted at /content/drive\n"
          ]
        }
      ]
    },
    {
      "cell_type": "markdown",
      "metadata": {
        "id": "FSYzsQytiRl0"
      },
      "source": [
        "## Load Data\n",
        "- 보시면 아시다시피 spam.csv는 라벨이 있는 데이터입니다. 물론 7주차 주제가 텍스트 기초인만큼 텍스트만 활용하셔도 되고, 라벨까지 활용하셔서 모델을 돌려보셔도 좋습니다 :)"
      ]
    },
    {
      "cell_type": "code",
      "execution_count": 13,
      "metadata": {
        "id": "9lONnfmMiRl0"
      },
      "outputs": [],
      "source": [
        "spam = pd.read_csv('/content/drive/MyDrive/NLP/spam.csv')"
      ]
    },
    {
      "cell_type": "code",
      "source": [
        "spam.head(30)"
      ],
      "metadata": {
        "colab": {
          "base_uri": "https://localhost:8080/",
          "height": 990
        },
        "id": "GKRyK9sNifxa",
        "outputId": "43975676-4226-4447-81e8-1845ced9d84a"
      },
      "execution_count": 14,
      "outputs": [
        {
          "output_type": "execute_result",
          "data": {
            "text/plain": [
              "      v1                                                 v2\n",
              "0    ham  Go until jurong point, crazy.. Available only ...\n",
              "1    ham                      Ok lar... Joking wif u oni...\n",
              "2   spam  Free entry in 2 a wkly comp to win FA Cup fina...\n",
              "3    ham  U dun say so early hor... U c already then say...\n",
              "4    ham  Nah I don't think he goes to usf, he lives aro...\n",
              "5   spam  FreeMsg Hey there darling it's been 3 week's n...\n",
              "6    ham  Even my brother is not like to speak with me. ...\n",
              "7    ham  As per your request 'Melle Melle (Oru Minnamin...\n",
              "8   spam  WINNER!! As a valued network customer you have...\n",
              "9   spam  Had your mobile 11 months or more? U R entitle...\n",
              "10   ham  I'm gonna be home soon and i don't want to tal...\n",
              "11  spam  SIX chances to win CASH! From 100 to 20,000 po...\n",
              "12  spam  URGENT! You have won a 1 week FREE membership ...\n",
              "13   ham  I've been searching for the right words to tha...\n",
              "14   ham                I HAVE A DATE ON SUNDAY WITH WILL!!\n",
              "15  spam  XXXMobileMovieClub: To use your credit, click ...\n",
              "16   ham                         Oh k...i'm watching here:)\n",
              "17   ham  Eh u remember how 2 spell his name... Yes i di...\n",
              "18   ham  Fine if thatåÕs the way u feel. ThatåÕs the wa...\n",
              "19  spam  England v Macedonia - dont miss the goals/team...\n",
              "20   ham          Is that seriously how you spell his name?\n",
              "21   ham  IÛ÷m going to try for 2 months ha ha only joking\n",
              "22   ham  So Ì_ pay first lar... Then when is da stock c...\n",
              "23   ham  Aft i finish my lunch then i go str down lor. ...\n",
              "24   ham  Ffffffffff. Alright no way I can meet up with ...\n",
              "25   ham  Just forced myself to eat a slice. I'm really ...\n",
              "26   ham                     Lol your always so convincing.\n",
              "27   ham  Did you catch the bus ? Are you frying an egg ...\n",
              "28   ham  I'm back &amp; we're packing the car now, I'll...\n",
              "29   ham  Ahhh. Work. I vaguely remember that! What does..."
            ],
            "text/html": [
              "\n",
              "  <div id=\"df-6a6410d3-b2b6-46ec-83ad-82b7b4e30709\">\n",
              "    <div class=\"colab-df-container\">\n",
              "      <div>\n",
              "<style scoped>\n",
              "    .dataframe tbody tr th:only-of-type {\n",
              "        vertical-align: middle;\n",
              "    }\n",
              "\n",
              "    .dataframe tbody tr th {\n",
              "        vertical-align: top;\n",
              "    }\n",
              "\n",
              "    .dataframe thead th {\n",
              "        text-align: right;\n",
              "    }\n",
              "</style>\n",
              "<table border=\"1\" class=\"dataframe\">\n",
              "  <thead>\n",
              "    <tr style=\"text-align: right;\">\n",
              "      <th></th>\n",
              "      <th>v1</th>\n",
              "      <th>v2</th>\n",
              "    </tr>\n",
              "  </thead>\n",
              "  <tbody>\n",
              "    <tr>\n",
              "      <th>0</th>\n",
              "      <td>ham</td>\n",
              "      <td>Go until jurong point, crazy.. Available only ...</td>\n",
              "    </tr>\n",
              "    <tr>\n",
              "      <th>1</th>\n",
              "      <td>ham</td>\n",
              "      <td>Ok lar... Joking wif u oni...</td>\n",
              "    </tr>\n",
              "    <tr>\n",
              "      <th>2</th>\n",
              "      <td>spam</td>\n",
              "      <td>Free entry in 2 a wkly comp to win FA Cup fina...</td>\n",
              "    </tr>\n",
              "    <tr>\n",
              "      <th>3</th>\n",
              "      <td>ham</td>\n",
              "      <td>U dun say so early hor... U c already then say...</td>\n",
              "    </tr>\n",
              "    <tr>\n",
              "      <th>4</th>\n",
              "      <td>ham</td>\n",
              "      <td>Nah I don't think he goes to usf, he lives aro...</td>\n",
              "    </tr>\n",
              "    <tr>\n",
              "      <th>5</th>\n",
              "      <td>spam</td>\n",
              "      <td>FreeMsg Hey there darling it's been 3 week's n...</td>\n",
              "    </tr>\n",
              "    <tr>\n",
              "      <th>6</th>\n",
              "      <td>ham</td>\n",
              "      <td>Even my brother is not like to speak with me. ...</td>\n",
              "    </tr>\n",
              "    <tr>\n",
              "      <th>7</th>\n",
              "      <td>ham</td>\n",
              "      <td>As per your request 'Melle Melle (Oru Minnamin...</td>\n",
              "    </tr>\n",
              "    <tr>\n",
              "      <th>8</th>\n",
              "      <td>spam</td>\n",
              "      <td>WINNER!! As a valued network customer you have...</td>\n",
              "    </tr>\n",
              "    <tr>\n",
              "      <th>9</th>\n",
              "      <td>spam</td>\n",
              "      <td>Had your mobile 11 months or more? U R entitle...</td>\n",
              "    </tr>\n",
              "    <tr>\n",
              "      <th>10</th>\n",
              "      <td>ham</td>\n",
              "      <td>I'm gonna be home soon and i don't want to tal...</td>\n",
              "    </tr>\n",
              "    <tr>\n",
              "      <th>11</th>\n",
              "      <td>spam</td>\n",
              "      <td>SIX chances to win CASH! From 100 to 20,000 po...</td>\n",
              "    </tr>\n",
              "    <tr>\n",
              "      <th>12</th>\n",
              "      <td>spam</td>\n",
              "      <td>URGENT! You have won a 1 week FREE membership ...</td>\n",
              "    </tr>\n",
              "    <tr>\n",
              "      <th>13</th>\n",
              "      <td>ham</td>\n",
              "      <td>I've been searching for the right words to tha...</td>\n",
              "    </tr>\n",
              "    <tr>\n",
              "      <th>14</th>\n",
              "      <td>ham</td>\n",
              "      <td>I HAVE A DATE ON SUNDAY WITH WILL!!</td>\n",
              "    </tr>\n",
              "    <tr>\n",
              "      <th>15</th>\n",
              "      <td>spam</td>\n",
              "      <td>XXXMobileMovieClub: To use your credit, click ...</td>\n",
              "    </tr>\n",
              "    <tr>\n",
              "      <th>16</th>\n",
              "      <td>ham</td>\n",
              "      <td>Oh k...i'm watching here:)</td>\n",
              "    </tr>\n",
              "    <tr>\n",
              "      <th>17</th>\n",
              "      <td>ham</td>\n",
              "      <td>Eh u remember how 2 spell his name... Yes i di...</td>\n",
              "    </tr>\n",
              "    <tr>\n",
              "      <th>18</th>\n",
              "      <td>ham</td>\n",
              "      <td>Fine if thatåÕs the way u feel. ThatåÕs the wa...</td>\n",
              "    </tr>\n",
              "    <tr>\n",
              "      <th>19</th>\n",
              "      <td>spam</td>\n",
              "      <td>England v Macedonia - dont miss the goals/team...</td>\n",
              "    </tr>\n",
              "    <tr>\n",
              "      <th>20</th>\n",
              "      <td>ham</td>\n",
              "      <td>Is that seriously how you spell his name?</td>\n",
              "    </tr>\n",
              "    <tr>\n",
              "      <th>21</th>\n",
              "      <td>ham</td>\n",
              "      <td>IÛ÷m going to try for 2 months ha ha only joking</td>\n",
              "    </tr>\n",
              "    <tr>\n",
              "      <th>22</th>\n",
              "      <td>ham</td>\n",
              "      <td>So Ì_ pay first lar... Then when is da stock c...</td>\n",
              "    </tr>\n",
              "    <tr>\n",
              "      <th>23</th>\n",
              "      <td>ham</td>\n",
              "      <td>Aft i finish my lunch then i go str down lor. ...</td>\n",
              "    </tr>\n",
              "    <tr>\n",
              "      <th>24</th>\n",
              "      <td>ham</td>\n",
              "      <td>Ffffffffff. Alright no way I can meet up with ...</td>\n",
              "    </tr>\n",
              "    <tr>\n",
              "      <th>25</th>\n",
              "      <td>ham</td>\n",
              "      <td>Just forced myself to eat a slice. I'm really ...</td>\n",
              "    </tr>\n",
              "    <tr>\n",
              "      <th>26</th>\n",
              "      <td>ham</td>\n",
              "      <td>Lol your always so convincing.</td>\n",
              "    </tr>\n",
              "    <tr>\n",
              "      <th>27</th>\n",
              "      <td>ham</td>\n",
              "      <td>Did you catch the bus ? Are you frying an egg ...</td>\n",
              "    </tr>\n",
              "    <tr>\n",
              "      <th>28</th>\n",
              "      <td>ham</td>\n",
              "      <td>I'm back &amp;amp; we're packing the car now, I'll...</td>\n",
              "    </tr>\n",
              "    <tr>\n",
              "      <th>29</th>\n",
              "      <td>ham</td>\n",
              "      <td>Ahhh. Work. I vaguely remember that! What does...</td>\n",
              "    </tr>\n",
              "  </tbody>\n",
              "</table>\n",
              "</div>\n",
              "      <button class=\"colab-df-convert\" onclick=\"convertToInteractive('df-6a6410d3-b2b6-46ec-83ad-82b7b4e30709')\"\n",
              "              title=\"Convert this dataframe to an interactive table.\"\n",
              "              style=\"display:none;\">\n",
              "        \n",
              "  <svg xmlns=\"http://www.w3.org/2000/svg\" height=\"24px\"viewBox=\"0 0 24 24\"\n",
              "       width=\"24px\">\n",
              "    <path d=\"M0 0h24v24H0V0z\" fill=\"none\"/>\n",
              "    <path d=\"M18.56 5.44l.94 2.06.94-2.06 2.06-.94-2.06-.94-.94-2.06-.94 2.06-2.06.94zm-11 1L8.5 8.5l.94-2.06 2.06-.94-2.06-.94L8.5 2.5l-.94 2.06-2.06.94zm10 10l.94 2.06.94-2.06 2.06-.94-2.06-.94-.94-2.06-.94 2.06-2.06.94z\"/><path d=\"M17.41 7.96l-1.37-1.37c-.4-.4-.92-.59-1.43-.59-.52 0-1.04.2-1.43.59L10.3 9.45l-7.72 7.72c-.78.78-.78 2.05 0 2.83L4 21.41c.39.39.9.59 1.41.59.51 0 1.02-.2 1.41-.59l7.78-7.78 2.81-2.81c.8-.78.8-2.07 0-2.86zM5.41 20L4 18.59l7.72-7.72 1.47 1.35L5.41 20z\"/>\n",
              "  </svg>\n",
              "      </button>\n",
              "      \n",
              "  <style>\n",
              "    .colab-df-container {\n",
              "      display:flex;\n",
              "      flex-wrap:wrap;\n",
              "      gap: 12px;\n",
              "    }\n",
              "\n",
              "    .colab-df-convert {\n",
              "      background-color: #E8F0FE;\n",
              "      border: none;\n",
              "      border-radius: 50%;\n",
              "      cursor: pointer;\n",
              "      display: none;\n",
              "      fill: #1967D2;\n",
              "      height: 32px;\n",
              "      padding: 0 0 0 0;\n",
              "      width: 32px;\n",
              "    }\n",
              "\n",
              "    .colab-df-convert:hover {\n",
              "      background-color: #E2EBFA;\n",
              "      box-shadow: 0px 1px 2px rgba(60, 64, 67, 0.3), 0px 1px 3px 1px rgba(60, 64, 67, 0.15);\n",
              "      fill: #174EA6;\n",
              "    }\n",
              "\n",
              "    [theme=dark] .colab-df-convert {\n",
              "      background-color: #3B4455;\n",
              "      fill: #D2E3FC;\n",
              "    }\n",
              "\n",
              "    [theme=dark] .colab-df-convert:hover {\n",
              "      background-color: #434B5C;\n",
              "      box-shadow: 0px 1px 3px 1px rgba(0, 0, 0, 0.15);\n",
              "      filter: drop-shadow(0px 1px 2px rgba(0, 0, 0, 0.3));\n",
              "      fill: #FFFFFF;\n",
              "    }\n",
              "  </style>\n",
              "\n",
              "      <script>\n",
              "        const buttonEl =\n",
              "          document.querySelector('#df-6a6410d3-b2b6-46ec-83ad-82b7b4e30709 button.colab-df-convert');\n",
              "        buttonEl.style.display =\n",
              "          google.colab.kernel.accessAllowed ? 'block' : 'none';\n",
              "\n",
              "        async function convertToInteractive(key) {\n",
              "          const element = document.querySelector('#df-6a6410d3-b2b6-46ec-83ad-82b7b4e30709');\n",
              "          const dataTable =\n",
              "            await google.colab.kernel.invokeFunction('convertToInteractive',\n",
              "                                                     [key], {});\n",
              "          if (!dataTable) return;\n",
              "\n",
              "          const docLinkHtml = 'Like what you see? Visit the ' +\n",
              "            '<a target=\"_blank\" href=https://colab.research.google.com/notebooks/data_table.ipynb>data table notebook</a>'\n",
              "            + ' to learn more about interactive tables.';\n",
              "          element.innerHTML = '';\n",
              "          dataTable['output_type'] = 'display_data';\n",
              "          await google.colab.output.renderOutput(dataTable, element);\n",
              "          const docLink = document.createElement('div');\n",
              "          docLink.innerHTML = docLinkHtml;\n",
              "          element.appendChild(docLink);\n",
              "        }\n",
              "      </script>\n",
              "    </div>\n",
              "  </div>\n",
              "  "
            ]
          },
          "metadata": {},
          "execution_count": 14
        }
      ]
    },
    {
      "cell_type": "code",
      "execution_count": 15,
      "metadata": {
        "colab": {
          "base_uri": "https://localhost:8080/",
          "height": 35
        },
        "id": "PBy0_q-5iRl0",
        "outputId": "ddfcd972-0f38-4ffd-946a-2c9482b9a25f"
      },
      "outputs": [
        {
          "output_type": "execute_result",
          "data": {
            "text/plain": [
              "\"FreeMsg Hey there darling it's been 3 week's now and no word back! I'd like some fun you up for it still? Tb ok! XxX std chgs to send, å£1.50 to rcv\""
            ],
            "application/vnd.google.colaboratory.intrinsic+json": {
              "type": "string"
            }
          },
          "metadata": {},
          "execution_count": 15
        }
      ],
      "source": [
        "spam.iloc[5]['v2']\n"
      ]
    },
    {
      "cell_type": "markdown",
      "source": [
        "### 전처리 작업 수행하기"
      ],
      "metadata": {
        "id": "1lHJS_1mlPB8"
      }
    },
    {
      "cell_type": "code",
      "execution_count": 16,
      "metadata": {
        "id": "7obLaZP9iRl1"
      },
      "outputs": [],
      "source": [
        "def data_text_cleaning(data):\n",
        " \n",
        "    # 영문자 이외 문자는 공백으로 변환\n",
        "    only_english = re.sub('[^a-zA-Z]', ' ', data)\n",
        " \n",
        "    # 소문자 변환\n",
        "    no_capitals = only_english.lower().split()\n",
        " \n",
        "    # 불용어 제거\n",
        "    stops = set(stopwords.words('english'))\n",
        "    no_stops = [word for word in no_capitals if not word in stops]\n",
        " \n",
        "    # 어간 추출\n",
        "    stemmer = nltk.stem.SnowballStemmer('english')\n",
        "    stemmer_words = [stemmer.stem(word) for word in no_stops]\n",
        " \n",
        "    # 공백으로 구분된 문자열로 결합하여 결과 반환\n",
        "    return ' '.join(stemmer_words)"
      ]
    },
    {
      "cell_type": "code",
      "execution_count": 17,
      "metadata": {
        "id": "Q_Cjo2CTiRl2"
      },
      "outputs": [],
      "source": [
        "spam['v2'] = spam['v2'].apply(data_text_cleaning)"
      ]
    },
    {
      "cell_type": "code",
      "source": [
        "spam.head(30)"
      ],
      "metadata": {
        "colab": {
          "base_uri": "https://localhost:8080/",
          "height": 990
        },
        "id": "A4U9uDOsl9C9",
        "outputId": "1eb164e6-23ea-468f-a4b8-17c521579855"
      },
      "execution_count": 18,
      "outputs": [
        {
          "output_type": "execute_result",
          "data": {
            "text/plain": [
              "      v1                                                 v2\n",
              "0    ham  go jurong point crazi avail bugi n great world...\n",
              "1    ham                              ok lar joke wif u oni\n",
              "2   spam  free entri wkli comp win fa cup final tkts st ...\n",
              "3    ham                u dun say earli hor u c alreadi say\n",
              "4    ham               nah think goe usf live around though\n",
              "5   spam  freemsg hey darl week word back like fun still...\n",
              "6    ham      even brother like speak treat like aid patent\n",
              "7    ham  per request mell mell oru minnaminungint nurun...\n",
              "8   spam  winner valu network custom select receivea pri...\n",
              "9   spam  mobil month u r entitl updat latest colour mob...\n",
              "10   ham  gonna home soon want talk stuff anymor tonight...\n",
              "11  spam  six chanc win cash pound txt csh send cost p d...\n",
              "12  spam  urgent week free membership prize jackpot txt ...\n",
              "13   ham  search right word thank breather promis wont t...\n",
              "14   ham                                        date sunday\n",
              "15  spam  xxxmobilemovieclub use credit click wap link n...\n",
              "16   ham                                         oh k watch\n",
              "17   ham    eh u rememb spell name yes v naughti make v wet\n",
              "18   ham                         fine way u feel way gota b\n",
              "19  spam  england v macedonia dont miss goal team news t...\n",
              "20   ham                                 serious spell name\n",
              "21   ham                            go tri month ha ha joke\n",
              "22   ham                       pay first lar da stock comin\n",
              "23   ham  aft finish lunch go str lor ard smth lor u fin...\n",
              "24   ham                 ffffffffff alright way meet sooner\n",
              "25   ham  forc eat slice realli hungri tho suck mark get...\n",
              "26   ham                                  lol alway convinc\n",
              "27   ham  catch bus fri egg make tea eat mom left dinner...\n",
              "28   ham                    back amp pack car let know room\n",
              "29   ham                ahhh work vagu rememb feel like lol"
            ],
            "text/html": [
              "\n",
              "  <div id=\"df-d8cd9158-7504-4f09-85fb-1db4cc23cad0\">\n",
              "    <div class=\"colab-df-container\">\n",
              "      <div>\n",
              "<style scoped>\n",
              "    .dataframe tbody tr th:only-of-type {\n",
              "        vertical-align: middle;\n",
              "    }\n",
              "\n",
              "    .dataframe tbody tr th {\n",
              "        vertical-align: top;\n",
              "    }\n",
              "\n",
              "    .dataframe thead th {\n",
              "        text-align: right;\n",
              "    }\n",
              "</style>\n",
              "<table border=\"1\" class=\"dataframe\">\n",
              "  <thead>\n",
              "    <tr style=\"text-align: right;\">\n",
              "      <th></th>\n",
              "      <th>v1</th>\n",
              "      <th>v2</th>\n",
              "    </tr>\n",
              "  </thead>\n",
              "  <tbody>\n",
              "    <tr>\n",
              "      <th>0</th>\n",
              "      <td>ham</td>\n",
              "      <td>go jurong point crazi avail bugi n great world...</td>\n",
              "    </tr>\n",
              "    <tr>\n",
              "      <th>1</th>\n",
              "      <td>ham</td>\n",
              "      <td>ok lar joke wif u oni</td>\n",
              "    </tr>\n",
              "    <tr>\n",
              "      <th>2</th>\n",
              "      <td>spam</td>\n",
              "      <td>free entri wkli comp win fa cup final tkts st ...</td>\n",
              "    </tr>\n",
              "    <tr>\n",
              "      <th>3</th>\n",
              "      <td>ham</td>\n",
              "      <td>u dun say earli hor u c alreadi say</td>\n",
              "    </tr>\n",
              "    <tr>\n",
              "      <th>4</th>\n",
              "      <td>ham</td>\n",
              "      <td>nah think goe usf live around though</td>\n",
              "    </tr>\n",
              "    <tr>\n",
              "      <th>5</th>\n",
              "      <td>spam</td>\n",
              "      <td>freemsg hey darl week word back like fun still...</td>\n",
              "    </tr>\n",
              "    <tr>\n",
              "      <th>6</th>\n",
              "      <td>ham</td>\n",
              "      <td>even brother like speak treat like aid patent</td>\n",
              "    </tr>\n",
              "    <tr>\n",
              "      <th>7</th>\n",
              "      <td>ham</td>\n",
              "      <td>per request mell mell oru minnaminungint nurun...</td>\n",
              "    </tr>\n",
              "    <tr>\n",
              "      <th>8</th>\n",
              "      <td>spam</td>\n",
              "      <td>winner valu network custom select receivea pri...</td>\n",
              "    </tr>\n",
              "    <tr>\n",
              "      <th>9</th>\n",
              "      <td>spam</td>\n",
              "      <td>mobil month u r entitl updat latest colour mob...</td>\n",
              "    </tr>\n",
              "    <tr>\n",
              "      <th>10</th>\n",
              "      <td>ham</td>\n",
              "      <td>gonna home soon want talk stuff anymor tonight...</td>\n",
              "    </tr>\n",
              "    <tr>\n",
              "      <th>11</th>\n",
              "      <td>spam</td>\n",
              "      <td>six chanc win cash pound txt csh send cost p d...</td>\n",
              "    </tr>\n",
              "    <tr>\n",
              "      <th>12</th>\n",
              "      <td>spam</td>\n",
              "      <td>urgent week free membership prize jackpot txt ...</td>\n",
              "    </tr>\n",
              "    <tr>\n",
              "      <th>13</th>\n",
              "      <td>ham</td>\n",
              "      <td>search right word thank breather promis wont t...</td>\n",
              "    </tr>\n",
              "    <tr>\n",
              "      <th>14</th>\n",
              "      <td>ham</td>\n",
              "      <td>date sunday</td>\n",
              "    </tr>\n",
              "    <tr>\n",
              "      <th>15</th>\n",
              "      <td>spam</td>\n",
              "      <td>xxxmobilemovieclub use credit click wap link n...</td>\n",
              "    </tr>\n",
              "    <tr>\n",
              "      <th>16</th>\n",
              "      <td>ham</td>\n",
              "      <td>oh k watch</td>\n",
              "    </tr>\n",
              "    <tr>\n",
              "      <th>17</th>\n",
              "      <td>ham</td>\n",
              "      <td>eh u rememb spell name yes v naughti make v wet</td>\n",
              "    </tr>\n",
              "    <tr>\n",
              "      <th>18</th>\n",
              "      <td>ham</td>\n",
              "      <td>fine way u feel way gota b</td>\n",
              "    </tr>\n",
              "    <tr>\n",
              "      <th>19</th>\n",
              "      <td>spam</td>\n",
              "      <td>england v macedonia dont miss goal team news t...</td>\n",
              "    </tr>\n",
              "    <tr>\n",
              "      <th>20</th>\n",
              "      <td>ham</td>\n",
              "      <td>serious spell name</td>\n",
              "    </tr>\n",
              "    <tr>\n",
              "      <th>21</th>\n",
              "      <td>ham</td>\n",
              "      <td>go tri month ha ha joke</td>\n",
              "    </tr>\n",
              "    <tr>\n",
              "      <th>22</th>\n",
              "      <td>ham</td>\n",
              "      <td>pay first lar da stock comin</td>\n",
              "    </tr>\n",
              "    <tr>\n",
              "      <th>23</th>\n",
              "      <td>ham</td>\n",
              "      <td>aft finish lunch go str lor ard smth lor u fin...</td>\n",
              "    </tr>\n",
              "    <tr>\n",
              "      <th>24</th>\n",
              "      <td>ham</td>\n",
              "      <td>ffffffffff alright way meet sooner</td>\n",
              "    </tr>\n",
              "    <tr>\n",
              "      <th>25</th>\n",
              "      <td>ham</td>\n",
              "      <td>forc eat slice realli hungri tho suck mark get...</td>\n",
              "    </tr>\n",
              "    <tr>\n",
              "      <th>26</th>\n",
              "      <td>ham</td>\n",
              "      <td>lol alway convinc</td>\n",
              "    </tr>\n",
              "    <tr>\n",
              "      <th>27</th>\n",
              "      <td>ham</td>\n",
              "      <td>catch bus fri egg make tea eat mom left dinner...</td>\n",
              "    </tr>\n",
              "    <tr>\n",
              "      <th>28</th>\n",
              "      <td>ham</td>\n",
              "      <td>back amp pack car let know room</td>\n",
              "    </tr>\n",
              "    <tr>\n",
              "      <th>29</th>\n",
              "      <td>ham</td>\n",
              "      <td>ahhh work vagu rememb feel like lol</td>\n",
              "    </tr>\n",
              "  </tbody>\n",
              "</table>\n",
              "</div>\n",
              "      <button class=\"colab-df-convert\" onclick=\"convertToInteractive('df-d8cd9158-7504-4f09-85fb-1db4cc23cad0')\"\n",
              "              title=\"Convert this dataframe to an interactive table.\"\n",
              "              style=\"display:none;\">\n",
              "        \n",
              "  <svg xmlns=\"http://www.w3.org/2000/svg\" height=\"24px\"viewBox=\"0 0 24 24\"\n",
              "       width=\"24px\">\n",
              "    <path d=\"M0 0h24v24H0V0z\" fill=\"none\"/>\n",
              "    <path d=\"M18.56 5.44l.94 2.06.94-2.06 2.06-.94-2.06-.94-.94-2.06-.94 2.06-2.06.94zm-11 1L8.5 8.5l.94-2.06 2.06-.94-2.06-.94L8.5 2.5l-.94 2.06-2.06.94zm10 10l.94 2.06.94-2.06 2.06-.94-2.06-.94-.94-2.06-.94 2.06-2.06.94z\"/><path d=\"M17.41 7.96l-1.37-1.37c-.4-.4-.92-.59-1.43-.59-.52 0-1.04.2-1.43.59L10.3 9.45l-7.72 7.72c-.78.78-.78 2.05 0 2.83L4 21.41c.39.39.9.59 1.41.59.51 0 1.02-.2 1.41-.59l7.78-7.78 2.81-2.81c.8-.78.8-2.07 0-2.86zM5.41 20L4 18.59l7.72-7.72 1.47 1.35L5.41 20z\"/>\n",
              "  </svg>\n",
              "      </button>\n",
              "      \n",
              "  <style>\n",
              "    .colab-df-container {\n",
              "      display:flex;\n",
              "      flex-wrap:wrap;\n",
              "      gap: 12px;\n",
              "    }\n",
              "\n",
              "    .colab-df-convert {\n",
              "      background-color: #E8F0FE;\n",
              "      border: none;\n",
              "      border-radius: 50%;\n",
              "      cursor: pointer;\n",
              "      display: none;\n",
              "      fill: #1967D2;\n",
              "      height: 32px;\n",
              "      padding: 0 0 0 0;\n",
              "      width: 32px;\n",
              "    }\n",
              "\n",
              "    .colab-df-convert:hover {\n",
              "      background-color: #E2EBFA;\n",
              "      box-shadow: 0px 1px 2px rgba(60, 64, 67, 0.3), 0px 1px 3px 1px rgba(60, 64, 67, 0.15);\n",
              "      fill: #174EA6;\n",
              "    }\n",
              "\n",
              "    [theme=dark] .colab-df-convert {\n",
              "      background-color: #3B4455;\n",
              "      fill: #D2E3FC;\n",
              "    }\n",
              "\n",
              "    [theme=dark] .colab-df-convert:hover {\n",
              "      background-color: #434B5C;\n",
              "      box-shadow: 0px 1px 3px 1px rgba(0, 0, 0, 0.15);\n",
              "      filter: drop-shadow(0px 1px 2px rgba(0, 0, 0, 0.3));\n",
              "      fill: #FFFFFF;\n",
              "    }\n",
              "  </style>\n",
              "\n",
              "      <script>\n",
              "        const buttonEl =\n",
              "          document.querySelector('#df-d8cd9158-7504-4f09-85fb-1db4cc23cad0 button.colab-df-convert');\n",
              "        buttonEl.style.display =\n",
              "          google.colab.kernel.accessAllowed ? 'block' : 'none';\n",
              "\n",
              "        async function convertToInteractive(key) {\n",
              "          const element = document.querySelector('#df-d8cd9158-7504-4f09-85fb-1db4cc23cad0');\n",
              "          const dataTable =\n",
              "            await google.colab.kernel.invokeFunction('convertToInteractive',\n",
              "                                                     [key], {});\n",
              "          if (!dataTable) return;\n",
              "\n",
              "          const docLinkHtml = 'Like what you see? Visit the ' +\n",
              "            '<a target=\"_blank\" href=https://colab.research.google.com/notebooks/data_table.ipynb>data table notebook</a>'\n",
              "            + ' to learn more about interactive tables.';\n",
              "          element.innerHTML = '';\n",
              "          dataTable['output_type'] = 'display_data';\n",
              "          await google.colab.output.renderOutput(dataTable, element);\n",
              "          const docLink = document.createElement('div');\n",
              "          docLink.innerHTML = docLinkHtml;\n",
              "          element.appendChild(docLink);\n",
              "        }\n",
              "      </script>\n",
              "    </div>\n",
              "  </div>\n",
              "  "
            ]
          },
          "metadata": {},
          "execution_count": 18
        }
      ]
    },
    {
      "cell_type": "markdown",
      "metadata": {
        "id": "bekpUzbYiRl2"
      },
      "source": [
        "## Tokenizing\n"
      ]
    },
    {
      "cell_type": "code",
      "execution_count": 19,
      "metadata": {
        "id": "7zquk0yOiRl2"
      },
      "outputs": [],
      "source": [
        "import nltk"
      ]
    },
    {
      "cell_type": "code",
      "execution_count": 20,
      "metadata": {
        "colab": {
          "base_uri": "https://localhost:8080/"
        },
        "id": "RGBh-ZoAiRl3",
        "outputId": "1e8423b2-a2d4-4d66-af38-ef41321b09a0"
      },
      "outputs": [
        {
          "output_type": "stream",
          "name": "stdout",
          "text": [
            "[nltk_data] Downloading package punkt to /root/nltk_data...\n",
            "[nltk_data]   Package punkt is already up-to-date!\n"
          ]
        },
        {
          "output_type": "execute_result",
          "data": {
            "text/plain": [
              "['freemsg',\n",
              " 'hey',\n",
              " 'darl',\n",
              " 'week',\n",
              " 'word',\n",
              " 'back',\n",
              " 'like',\n",
              " 'fun',\n",
              " 'still',\n",
              " 'tb',\n",
              " 'ok',\n",
              " 'xxx',\n",
              " 'std',\n",
              " 'chgs',\n",
              " 'send',\n",
              " 'rcv']"
            ]
          },
          "metadata": {},
          "execution_count": 20
        }
      ],
      "source": [
        "# 예시 코드 코드\n",
        "from nltk.tokenize import word_tokenize\n",
        "\n",
        "nltk.download('punkt')\n",
        "word_tokenize(spam.iloc[5]['v2'])"
      ]
    },
    {
      "cell_type": "code",
      "execution_count": 21,
      "metadata": {
        "id": "yMVVZlpHiRl3"
      },
      "outputs": [],
      "source": [
        "result = [word_tokenize(sentence) for sentence in spam['v2']]"
      ]
    },
    {
      "cell_type": "code",
      "execution_count": 22,
      "metadata": {
        "colab": {
          "base_uri": "https://localhost:8080/"
        },
        "id": "iVi_hqKmiRl3",
        "outputId": "e337eb93-e1f6-4f56-8377-200fc4acca6a"
      },
      "outputs": [
        {
          "output_type": "execute_result",
          "data": {
            "text/plain": [
              "['u', 'dun', 'say', 'earli', 'hor', 'u', 'c', 'alreadi', 'say']"
            ]
          },
          "metadata": {},
          "execution_count": 22
        }
      ],
      "source": [
        "result[3]"
      ]
    },
    {
      "cell_type": "markdown",
      "metadata": {
        "id": "LtSnD-tviRl4"
      },
      "source": [
        "## Embedding\n",
        "\n",
        "- 수업에서 다룬 임베딩 방법에는 One-hot encoding, CBOW, Skip-gram, GloVe, FastText, EMlo가 있었습니다. 다양한 시도와 '비교' 결과를 함께 적어주세요! 파라미터를 조정해가는 과정도 해석에 도움이 될 수 있겠죠 :)"
      ]
    },
    {
      "cell_type": "markdown",
      "source": [
        "### 1. FastText"
      ],
      "metadata": {
        "id": "bRbiqEg2owyp"
      }
    },
    {
      "cell_type": "code",
      "source": [
        "from gensim.models import FastText\n",
        "\n",
        "model = FastText(result, size=100, window=5, min_count=5, workers=4, sg=1)"
      ],
      "metadata": {
        "id": "yACbGm7BpOBs"
      },
      "execution_count": 32,
      "outputs": []
    },
    {
      "cell_type": "code",
      "source": [
        "# 모델을 저장합니다. \n",
        "model.save('ft_model')"
      ],
      "metadata": {
        "id": "ZVWzQrl5g39q"
      },
      "execution_count": 33,
      "outputs": []
    },
    {
      "cell_type": "code",
      "source": [
        "ft_model = FastText.load('ft_model')"
      ],
      "metadata": {
        "id": "CRCgIh9dg6yu"
      },
      "execution_count": 34,
      "outputs": []
    },
    {
      "cell_type": "code",
      "source": [
        "ft_model.similarity('movie', 'good')"
      ],
      "metadata": {
        "colab": {
          "base_uri": "https://localhost:8080/"
        },
        "id": "d2bDw9syg7p-",
        "outputId": "7fcbf62e-660e-4239-bcbe-7435ee768356"
      },
      "execution_count": 31,
      "outputs": [
        {
          "output_type": "stream",
          "name": "stderr",
          "text": [
            "/usr/local/lib/python3.7/dist-packages/ipykernel_launcher.py:1: DeprecationWarning: Call to deprecated `similarity` (Method will be removed in 4.0.0, use self.wv.similarity() instead).\n",
            "  \"\"\"Entry point for launching an IPython kernel.\n"
          ]
        },
        {
          "output_type": "execute_result",
          "data": {
            "text/plain": [
              "0.87419605"
            ]
          },
          "metadata": {},
          "execution_count": 31
        }
      ]
    },
    {
      "cell_type": "markdown",
      "source": [
        "### 2. Word2Vec\n"
      ],
      "metadata": {
        "id": "xXepPYdZo2Mj"
      }
    },
    {
      "cell_type": "code",
      "source": [
        "import tensorflow_hub as hub\n",
        "import tensorflow as tf\n",
        "from keras import backend as K\n",
        "import urllib.request\n",
        "import pandas as pd\n",
        "import numpy as np"
      ],
      "metadata": {
        "id": "KWjRysTMpiTQ"
      },
      "execution_count": 86,
      "outputs": []
    },
    {
      "cell_type": "code",
      "source": [
        "model = Word2Vec(result, min_count=5, size=100, window=2, iter=200, sg=1)\n",
        "\n",
        "model.save('w2v_model')\n",
        "w2v_model = Word2Vec.load('w2v_model')"
      ],
      "metadata": {
        "id": "O0Invktfplpn"
      },
      "execution_count": 93,
      "outputs": []
    },
    {
      "cell_type": "markdown",
      "source": [
        "### 2. Glove Embedding"
      ],
      "metadata": {
        "id": "ppWtOr99k0R6"
      }
    },
    {
      "cell_type": "code",
      "execution_count": 88,
      "metadata": {
        "colab": {
          "base_uri": "https://localhost:8080/"
        },
        "id": "FAspY3qfiRl4",
        "outputId": "b8c4a755-33a0-477a-a00c-fb96fbdd5bf0"
      },
      "outputs": [
        {
          "output_type": "stream",
          "name": "stdout",
          "text": [
            "Performing 20 training epochs with 4 threads\n",
            "Epoch 0\n",
            "Epoch 1\n",
            "Epoch 2\n",
            "Epoch 3\n",
            "Epoch 4\n",
            "Epoch 5\n",
            "Epoch 6\n",
            "Epoch 7\n",
            "Epoch 8\n",
            "Epoch 9\n",
            "Epoch 10\n",
            "Epoch 11\n",
            "Epoch 12\n",
            "Epoch 13\n",
            "Epoch 14\n",
            "Epoch 15\n",
            "Epoch 16\n",
            "Epoch 17\n",
            "Epoch 18\n",
            "Epoch 19\n"
          ]
        }
      ],
      "source": [
        "from glove import Corpus, Glove\n",
        "\n",
        "corpus = Corpus() \n",
        "\n",
        "# 훈련 데이터로부터 GloVe에서 사용할 동시 등장 행렬 생성\n",
        "corpus.fit(result, window=5)\n",
        "glove = Glove(no_components=100, learning_rate=0.05)\n",
        "\n",
        "# 학습에 이용할 쓰레드의 개수는 4로 설정, 에포크는 20.\n",
        "glove.fit(corpus.matrix, epochs=20, no_threads=4, verbose=True)\n",
        "glove.add_dictionary(corpus.dictionary)"
      ]
    },
    {
      "cell_type": "code",
      "source": [
        "# 모델을 저장합니다. \n",
        "\n",
        "glove.save('gv_model')"
      ],
      "metadata": {
        "id": "hpS4pXjqhRbu"
      },
      "execution_count": 89,
      "outputs": []
    },
    {
      "cell_type": "code",
      "source": [
        "gv_model = Glove.load('gv_model')\n",
        "gv_model.most_similar('math')"
      ],
      "metadata": {
        "colab": {
          "base_uri": "https://localhost:8080/"
        },
        "id": "OiwGqlnnhZuD",
        "outputId": "d584cf9d-ffa1-4104-efa6-90818f6dc442"
      },
      "execution_count": 90,
      "outputs": [
        {
          "output_type": "execute_result",
          "data": {
            "text/plain": [
              "[('comput', 0.8327851744053579),\n",
              " ('valuabl', 0.8264002368395605),\n",
              " ('street', 0.8200727623861964),\n",
              " ('suit', 0.8185827296030435)]"
            ]
          },
          "metadata": {},
          "execution_count": 90
        }
      ]
    },
    {
      "cell_type": "markdown",
      "metadata": {
        "id": "hNmyt03CiRl4"
      },
      "source": [
        "## 본인이 도출해낸 해석을 적어주세요!\n",
        "\n",
        "- 유사도, Wordcloud, 이진 분류 모델, Plot 뭐든 상관없으니 분명하고 인상적인 해석을 적어주시면 됩니다."
      ]
    },
    {
      "cell_type": "markdown",
      "source": [
        "## 1) 단어 유사도 평가"
      ],
      "metadata": {
        "id": "JBDjeYR8horq"
      }
    },
    {
      "cell_type": "code",
      "source": [
        "nouns = [\n",
        "  \"time\",\n",
        "  \"year\",\n",
        "  \n",
        "  \"way\",\n",
        "  \"day\",\n",
        "  \"man\",\n",
        "  \"thing\",\n",
        "  \"woman\",\n",
        "  \"life\",\n",
        "  \n",
        "  \"world\",\n",
        "  \"school\",\n",
        "\n",
        "  \"student\",\n",
        "  \"group\",\n",
        "  \n",
        "  \"problem\",\n",
        "  \"hand\",\n",
        "  \"part\",\n",
        "  \"place\",\n",
        "  \"case\",\n",
        "  \"week\",\n",
        "  \n",
        "  \"system\",\n",
        "  \n",
        "  \"question\",\n",
        "  \"work\",\n",
        "\n",
        "  \"number\",\n",
        "  \"night\",\n",
        "  \"point\",\n",
        "  \"home\",\n",
        "  \"water\",\n",
        "  \"room\",\n",
        "  \"mother\",\n",
        "  \"area\",\n",
        "  \"money\",\n",
        "  \n",
        "  \"fact\",\n",
        "  \"month\",\n",
        "  \"lot\",\n",
        "  \"right\",\n",
        "\n",
        "  \"book\",\n",
        "  \"eye\",\n",
        "  \"job\",\n",
        "  \"word\",\n",
        "\n",
        "  \"side\",\n",
        "  \"kind\",\n",
        "  \"head\",\n",
        "  \"friend\",\n",
        "  \"father\",\n",
        "  \"power\",\n",
        "  \"hour\",\n",
        "  \"game\",\n",
        "  \"line\",\n",
        "  \"end\",\n",
        "  \"member\",\n",
        "  \"law\",\n",
        "  \"car\",\n",
        "  # \"president\",\n",
        "  # \"team\",\n",
        "  # \"minute\",\n",
        "  # \"idea\",\n",
        "  # \"kid\",\n",
        "  # \"body\",\n",
        "  # \"information\",\n",
        "  # \"back\",\n",
        "  # \"parent\",\n",
        "  # \"face\",\n",
        "  # \"level\",\n",
        "  # \"office\",\n",
        "  # \"door\",\n",
        "  # \"health\",\n",
        "  # \"person\",\n",
        "  # \"art\",\n",
        "  # \"war\",\n",
        "  # \"history\",\n",
        "  # \"party\",\n",
        "  # \"result\",\n",
        "  # \"change\",\n",
        "  # \"morning\",\n",
        "  # \"reason\",\n",
        "  # \"research\",\n",
        "  # \"girl\",\n",
        "  # \"guy\",\n",
        "  # \"moment\",\n",
        "  # \"air\",\n",
        "  # \"teacher\",\n",
        "  # \"force\",\n",
        "  # \"education\",\n",
        "]"
      ],
      "metadata": {
        "id": "Kqk-dH50nYuX"
      },
      "execution_count": 130,
      "outputs": []
    },
    {
      "cell_type": "code",
      "execution_count": 135,
      "metadata": {
        "id": "b32gVXgtiRl5",
        "colab": {
          "base_uri": "https://localhost:8080/"
        },
        "outputId": "c890474f-9f15-4005-885e-a9a91ad76f0f"
      },
      "outputs": [
        {
          "output_type": "stream",
          "name": "stdout",
          "text": [
            "33.87848586311391\n",
            "7.029612525561276\n"
          ]
        },
        {
          "output_type": "stream",
          "name": "stderr",
          "text": [
            "/usr/local/lib/python3.7/dist-packages/ipykernel_launcher.py:11: DeprecationWarning: Call to deprecated `similarity` (Method will be removed in 4.0.0, use self.wv.similarity() instead).\n",
            "  # This is added back by InteractiveShellApp.init_path()\n",
            "/usr/local/lib/python3.7/dist-packages/ipykernel_launcher.py:12: DeprecationWarning: Call to deprecated `similarity` (Method will be removed in 4.0.0, use self.wv.similarity() instead).\n",
            "  if sys.path[0] == '':\n"
          ]
        }
      ],
      "source": [
        "from nltk.corpus import wordnet # wordnet으로 평가한 similarity와 비슷할 수록 더 좋은 모델로 평가\n",
        "import random\n",
        "ft_diff = 0\n",
        "w2v_diff = 0\n",
        "for i in range(len(nouns)-1):\n",
        "\n",
        "  cb = wordnet.synset(nouns[i] + '.n.01')\n",
        "  ib = wordnet.synset(str(nouns[i +1]) +'.n.01')\n",
        "  \n",
        "  wordnet_sim = cb.wup_similarity(ib)\n",
        "  ft_sim = ft_model.similarity(nouns[i], nouns[i +1])\n",
        "  w2v_sim = w2v_model.similarity(nouns[i], nouns[i +1])\n",
        "  ft_diff += abs(wordnet_sim -ft_sim)\n",
        "  w2v_diff += abs(w2v_sim - wordnet_sim)\n",
        "\n",
        "print(ft_diff)\n",
        "print(w2v_diff)\n",
        "\n"
      ]
    },
    {
      "cell_type": "code",
      "execution_count": 136,
      "metadata": {
        "id": "9xdwbgWPiRl5"
      },
      "outputs": [],
      "source": [
        "# w2v_diff 의  유사도 성능이 훨씬 좋다는 것을 알 수 있다.\n"
      ]
    },
    {
      "cell_type": "code",
      "source": [
        ""
      ],
      "metadata": {
        "id": "oFQr5MwwhuIk"
      },
      "execution_count": 136,
      "outputs": []
    },
    {
      "cell_type": "code",
      "source": [
        ""
      ],
      "metadata": {
        "id": "Jl5v0wLriWTc"
      },
      "execution_count": null,
      "outputs": []
    }
  ],
  "metadata": {
    "kernelspec": {
      "display_name": "Python 3",
      "language": "python",
      "name": "python3"
    },
    "language_info": {
      "codemirror_mode": {
        "name": "ipython",
        "version": 3
      },
      "file_extension": ".py",
      "mimetype": "text/x-python",
      "name": "python",
      "nbconvert_exporter": "python",
      "pygments_lexer": "ipython3",
      "version": "3.7.10"
    },
    "toc": {
      "base_numbering": 1,
      "nav_menu": {},
      "number_sections": true,
      "sideBar": true,
      "skip_h1_title": false,
      "title_cell": "Table of Contents",
      "title_sidebar": "Contents",
      "toc_cell": false,
      "toc_position": {},
      "toc_section_display": true,
      "toc_window_display": false
    },
    "colab": {
      "name": "week7_nlp_basic_assignment.ipynb",
      "provenance": [],
      "collapsed_sections": []
    }
  },
  "nbformat": 4,
  "nbformat_minor": 0
}